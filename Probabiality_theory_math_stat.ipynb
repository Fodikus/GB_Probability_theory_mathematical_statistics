{
 "cells": [
  {
   "cell_type": "markdown",
   "metadata": {
    "id": "G2wMw7vtsFIu"
   },
   "source": [
    "## Теория вероятности\n",
    "### Случайные события. Условная вероятность. Формула Байеса.  Независимые испытания"
   ]
  },
  {
   "cell_type": "markdown",
   "metadata": {
    "id": "FC9PxSnisFIx"
   },
   "source": [
    "Примеры случайного события:\n",
    "1. При броске двух игральных костей на одной выпало число 1, а на другой — 2.\n",
    "2. Клиент банка не вернул кредит.\n",
    "3. Температура воздуха в Москве за последние десять дней не превышала 29 градусов по Цельсию.\n",
    "4. Монету подбросили сто раз, орел выпал в 55 случаях. "
   ]
  },
  {
   "cell_type": "markdown",
   "metadata": {
    "id": "tkBVPAfesFIz"
   },
   "source": [
    "Событие можно называть **достоверным**, если в результате испытания оно обязательно произойдет.\n",
    "\n",
    "**Невозможное** событие не произойдет никогда."
   ]
  },
  {
   "cell_type": "markdown",
   "metadata": {
    "id": "WLQz_jrfsFI0"
   },
   "source": [
    "Примеры достоверного события:\n",
    "1. На игральной кости выпало число, не превышающее 6.\n",
    "2. Подбросили монету, и выпал либо орел, либо решка.\n",
    "3. Монету подбросили стократно, и решка выпала не более 100 раз."
   ]
  },
  {
   "cell_type": "markdown",
   "metadata": {
    "id": "iHTQaZmusFI2"
   },
   "source": [
    "Примеры невозможного события:\n",
    "1. Две игральные кости бросили один раз, и сумма выпавших чисел составила 15.\n",
    "2. Монету подбросили стократно, и решка выпала 55 раз, а орел — 56.\n",
    "3. Три игральные кости бросили один раз, и сумма выпавших чисел составила 2."
   ]
  },
  {
   "cell_type": "markdown",
   "metadata": {
    "id": "vLMk77MjsFI3"
   },
   "source": [
    "Для случайного события есть понятие **относительной частоты** — это отношение количества состоявшихся событий к общему числу испытаний:"
   ]
  },
  {
   "cell_type": "markdown",
   "metadata": {
    "id": "wc6A4Ec4sFI4"
   },
   "source": [
    "$$W(A) = \\frac{m}{n}$$"
   ]
  },
  {
   "cell_type": "markdown",
   "metadata": {
    "id": "0DfzFHbLsFI5"
   },
   "source": [
    "В формуле $W(A)$ — это относительная частота события $A$;\n",
    "\n",
    "$m$ — число состоявшихся событий $A$;\n",
    "\n",
    "$n$ — общее число испытаний."
   ]
  },
  {
   "cell_type": "markdown",
   "metadata": {
    "id": "kB3g50kmwvAh"
   },
   "source": [
    "Рассмотрим примеры случайных событий."
   ]
  },
  {
   "cell_type": "markdown",
   "metadata": {
    "id": "9c-YkL7fwvAk"
   },
   "source": [
    "**Пример 1**"
   ]
  },
  {
   "cell_type": "markdown",
   "metadata": {
    "id": "1_9_LCYmsFJC"
   },
   "source": [
    "Смоделируем 60-кратное подбрасывание игральной кости с помощью функции [random.randint](https://docs.scipy.org/doc/numpy-1.15.1/reference/generated/numpy.random.randint.html) пакета **numpy**, то есть $n$ = 60.\n",
    "\n",
    "Событием $A$ будем считать выпадение числа 3 и найдем его относительную частоту."
   ]
  },
  {
   "cell_type": "code",
   "execution_count": null,
   "metadata": {
    "colab": {
     "base_uri": "https://localhost:8080/"
    },
    "id": "hCLkAkshsFJE",
    "outputId": "a643d6de-bf0c-4d60-b373-e5ce08877e5d"
   },
   "outputs": [
    {
     "data": {
      "text/plain": [
       "array([3, 2, 1, 3, 2, 2, 6, 1, 3, 6, 2, 2, 1, 5, 3, 5, 5, 1, 1, 1, 5, 5,\n",
       "       1, 2, 4, 6, 4, 4, 5, 3, 2, 6, 6, 5, 3, 3, 6, 3, 2, 2, 2, 1, 1, 5,\n",
       "       4, 1, 1, 4, 6, 1, 3, 4, 5, 2, 5, 4, 5, 6, 2, 5])"
      ]
     },
     "execution_count": 1,
     "metadata": {
      "tags": []
     },
     "output_type": "execute_result"
    }
   ],
   "source": [
    "import numpy as np\n",
    "\n",
    "n = 60\n",
    "\n",
    "b = np.random.randint(1, 7, size=n)\n",
    "b"
   ]
  },
  {
   "cell_type": "markdown",
   "metadata": {
    "id": "cKqcXnQksFJN"
   },
   "source": [
    "Вычислим мощность подмножества, где в результате испытания выпадало число 3, то есть наблюдалось событие $A$:"
   ]
  },
  {
   "cell_type": "markdown",
   "metadata": {
    "id": "moNrKvATNyqR"
   },
   "source": []
  },
  {
   "cell_type": "code",
   "execution_count": null,
   "metadata": {
    "colab": {
     "base_uri": "https://localhost:8080/"
    },
    "id": "R1XSM8SPsFJO",
    "outputId": "0b9625f4-f929-4f72-9121-e63126db2181"
   },
   "outputs": [
    {
     "data": {
      "text/plain": [
       "9"
      ]
     },
     "execution_count": 8,
     "metadata": {
      "tags": []
     },
     "output_type": "execute_result"
    }
   ],
   "source": [
    "m = len(b[b==3])\n",
    "m"
   ]
  },
  {
   "cell_type": "markdown",
   "metadata": {
    "id": "YRkBCTgosFJV"
   },
   "source": [
    "Теперь можем вычислить относительную частоту события $A$:"
   ]
  },
  {
   "cell_type": "code",
   "execution_count": null,
   "metadata": {
    "colab": {
     "base_uri": "https://localhost:8080/"
    },
    "id": "Lxfgfn5CsFJV",
    "outputId": "eb0b7628-84db-4df9-a045-1c881f00a09c"
   },
   "outputs": [
    {
     "data": {
      "text/plain": [
       "0.15"
      ]
     },
     "execution_count": 9,
     "metadata": {
      "tags": []
     },
     "output_type": "execute_result"
    }
   ],
   "source": [
    "W = m / n\n",
    "W"
   ]
  },
  {
   "cell_type": "markdown",
   "metadata": {
    "id": "xcJc6quGsFJZ"
   },
   "source": [
    "**Пример 2**"
   ]
  },
  {
   "cell_type": "markdown",
   "metadata": {
    "id": "grrDgheusFJb"
   },
   "source": [
    "Разберем более сложный пример. Смоделируем ситуацию, когда бросают две игральные кости.\n",
    "\n",
    "При этом будем находить частоту случайного события $B$, при котором на первой кости выпало 1, а на второй — 2. \n",
    "\n",
    "Проведем для этого 360 испытаний. Сразу зададим число $n$:"
   ]
  },
  {
   "cell_type": "code",
   "execution_count": null,
   "metadata": {
    "id": "ZgdkvS6JsFJd"
   },
   "outputs": [],
   "source": [
    "n = 360"
   ]
  },
  {
   "cell_type": "code",
   "execution_count": null,
   "metadata": {
    "id": "G-SUa6U4sFJf"
   },
   "outputs": [],
   "source": [
    "c = np.random.randint(1, 7, size=n)\n",
    "d = np.random.randint(1, 7, size=n)"
   ]
  },
  {
   "cell_type": "code",
   "execution_count": null,
   "metadata": {
    "colab": {
     "base_uri": "https://localhost:8080/"
    },
    "id": "gSc8u_8qsFJi",
    "outputId": "4edca6d3-613e-419c-fb8b-02d40b441b12"
   },
   "outputs": [
    {
     "data": {
      "text/plain": [
       "array([2, 2, 4, 3, 6, 5, 3, 5, 3, 3, 2, 3, 4, 2, 2, 6, 5, 4, 5, 5, 5, 2,\n",
       "       4, 4, 1, 1, 5, 3, 2, 6, 3, 6, 2, 1, 5, 6, 2, 6, 2, 3, 5, 4, 1, 2,\n",
       "       3, 2, 5, 3, 3, 1, 3, 2, 3, 6, 6, 1, 4, 1, 5, 3, 4, 5, 3, 3, 1, 1,\n",
       "       4, 5, 6, 6, 3, 4, 6, 3, 2, 1, 4, 5, 1, 5, 5, 4, 5, 4, 1, 5, 3, 5,\n",
       "       3, 2, 6, 2, 6, 1, 3, 5, 2, 4, 4, 4, 1, 5, 3, 2, 4, 5, 2, 6, 6, 6,\n",
       "       5, 4, 4, 4, 2, 5, 1, 5, 4, 6, 3, 1, 3, 1, 4, 6, 3, 4, 1, 6, 5, 2,\n",
       "       4, 5, 6, 3, 6, 2, 5, 3, 3, 1, 1, 4, 2, 3, 5, 3, 6, 6, 5, 3, 2, 6,\n",
       "       1, 1, 6, 5, 1, 3, 4, 5, 2, 5, 4, 5, 3, 5, 2, 4, 5, 4, 1, 3, 1, 1,\n",
       "       5, 1, 6, 3, 3, 6, 6, 4, 4, 2, 3, 4, 3, 2, 1, 2, 4, 4, 3, 4, 3, 5,\n",
       "       4, 1, 3, 1, 3, 5, 5, 2, 1, 5, 4, 6, 1, 4, 5, 6, 1, 2, 2, 1, 3, 3,\n",
       "       3, 1, 2, 3, 2, 6, 2, 3, 5, 4, 6, 3, 6, 1, 4, 4, 5, 3, 1, 2, 6, 3,\n",
       "       5, 5, 3, 4, 4, 5, 3, 1, 3, 1, 4, 6, 2, 6, 6, 3, 3, 3, 6, 1, 2, 3,\n",
       "       1, 5, 6, 3, 1, 6, 2, 4, 6, 3, 3, 1, 3, 1, 2, 6, 3, 4, 5, 3, 5, 4,\n",
       "       6, 5, 6, 4, 2, 5, 4, 1, 5, 1, 1, 1, 3, 6, 6, 1, 3, 4, 4, 1, 3, 2,\n",
       "       2, 6, 5, 2, 4, 1, 6, 5, 3, 1, 5, 3, 3, 6, 5, 6, 3, 3, 5, 6, 6, 5,\n",
       "       5, 1, 1, 1, 6, 1, 6, 5, 3, 4, 3, 2, 2, 2, 5, 5, 2, 1, 5, 4, 1, 3,\n",
       "       2, 3, 3, 1, 1, 2, 2, 3])"
      ]
     },
     "execution_count": 12,
     "metadata": {
      "tags": []
     },
     "output_type": "execute_result"
    }
   ],
   "source": [
    "c"
   ]
  },
  {
   "cell_type": "code",
   "execution_count": null,
   "metadata": {
    "colab": {
     "base_uri": "https://localhost:8080/"
    },
    "id": "wUV65YC_sFJk",
    "outputId": "c754fe9d-6f1a-4b66-bc8b-74b5db0caa70"
   },
   "outputs": [
    {
     "data": {
      "text/plain": [
       "array([4, 4, 2, 4, 6, 2, 5, 1, 2, 1, 1, 4, 6, 5, 6, 4, 6, 4, 2, 3, 6, 1,\n",
       "       2, 6, 3, 6, 1, 3, 6, 3, 1, 2, 4, 2, 6, 1, 2, 3, 2, 5, 3, 4, 2, 1,\n",
       "       4, 6, 5, 4, 1, 5, 5, 1, 3, 2, 4, 3, 4, 2, 2, 5, 5, 3, 3, 2, 2, 4,\n",
       "       2, 6, 1, 5, 6, 2, 6, 3, 3, 6, 4, 3, 4, 4, 2, 4, 6, 6, 2, 2, 1, 2,\n",
       "       5, 5, 3, 6, 4, 2, 6, 2, 4, 2, 5, 6, 5, 2, 2, 5, 4, 1, 4, 6, 5, 5,\n",
       "       3, 3, 1, 2, 4, 5, 6, 4, 5, 6, 3, 3, 4, 5, 3, 5, 5, 3, 4, 5, 1, 3,\n",
       "       4, 1, 4, 2, 1, 6, 5, 6, 3, 5, 2, 3, 5, 3, 5, 3, 4, 1, 6, 6, 5, 4,\n",
       "       2, 6, 6, 2, 3, 4, 6, 6, 5, 6, 3, 3, 4, 4, 6, 5, 2, 1, 3, 5, 6, 1,\n",
       "       1, 6, 6, 5, 3, 1, 6, 5, 3, 5, 5, 4, 5, 2, 5, 4, 6, 3, 5, 1, 4, 4,\n",
       "       4, 2, 3, 5, 2, 5, 3, 6, 3, 4, 4, 2, 3, 5, 2, 1, 5, 3, 6, 5, 1, 3,\n",
       "       4, 6, 2, 1, 2, 2, 2, 3, 1, 4, 4, 4, 1, 2, 6, 2, 4, 6, 2, 6, 1, 6,\n",
       "       6, 1, 2, 6, 1, 3, 4, 6, 1, 4, 4, 3, 1, 3, 5, 3, 5, 2, 2, 6, 2, 4,\n",
       "       4, 3, 6, 6, 3, 6, 6, 3, 5, 3, 3, 1, 6, 4, 1, 6, 5, 2, 2, 6, 5, 5,\n",
       "       4, 6, 6, 5, 2, 1, 4, 5, 5, 1, 1, 2, 3, 4, 5, 1, 5, 4, 5, 2, 4, 2,\n",
       "       2, 1, 4, 4, 5, 4, 2, 5, 4, 1, 4, 6, 6, 1, 5, 6, 1, 3, 2, 3, 3, 4,\n",
       "       2, 5, 3, 4, 6, 5, 2, 3, 5, 1, 1, 3, 3, 2, 6, 5, 3, 4, 2, 4, 4, 3,\n",
       "       5, 5, 4, 6, 4, 1, 6, 6])"
      ]
     },
     "execution_count": 13,
     "metadata": {
      "tags": []
     },
     "output_type": "execute_result"
    }
   ],
   "source": [
    "d"
   ]
  },
  {
   "cell_type": "markdown",
   "metadata": {
    "id": "ATgZiDOgsFJm"
   },
   "source": [
    "Числа, стоящие на одной позиции в массивах $c$ и $d$, будем считать результатами, полученными в одном испытании.\n",
    "\n",
    "В первом испытании на игральной кости № 1 выпало число $c[0]$, а на № 2  — $d[0]$."
   ]
  },
  {
   "cell_type": "code",
   "execution_count": null,
   "metadata": {
    "colab": {
     "base_uri": "https://localhost:8080/"
    },
    "id": "SkEtXZxHsFJn",
    "outputId": "ee570d7f-42f0-4ee9-fb5f-734b66fdd19e"
   },
   "outputs": [
    {
     "data": {
      "text/plain": [
       "2"
      ]
     },
     "execution_count": 14,
     "metadata": {
      "tags": []
     },
     "output_type": "execute_result"
    }
   ],
   "source": [
    "c[0]"
   ]
  },
  {
   "cell_type": "code",
   "execution_count": null,
   "metadata": {
    "colab": {
     "base_uri": "https://localhost:8080/"
    },
    "id": "rPDumAessFJq",
    "outputId": "65544d90-93dc-4a6e-8903-f0201274fd94"
   },
   "outputs": [
    {
     "data": {
      "text/plain": [
       "4"
      ]
     },
     "execution_count": 15,
     "metadata": {
      "tags": []
     },
     "output_type": "execute_result"
    }
   ],
   "source": [
    "d[0]"
   ]
  },
  {
   "cell_type": "markdown",
   "metadata": {
    "id": "7iVpKBCasFJs"
   },
   "source": [
    "Посчитаем число случав, когда в одном испытании на первой игральной кости выпало число 1, а на второй — 2."
   ]
  },
  {
   "cell_type": "code",
   "execution_count": null,
   "metadata": {
    "colab": {
     "base_uri": "https://localhost:8080/"
    },
    "id": "-7KFNSGLsFJu",
    "outputId": "3e36667a-7953-4e6d-d1bd-19d885ebfbc0"
   },
   "outputs": [
    {
     "data": {
      "text/plain": [
       "8"
      ]
     },
     "execution_count": 10,
     "metadata": {
      "tags": []
     },
     "output_type": "execute_result"
    }
   ],
   "source": [
    "a = c[(c==1) & (d==2)]\n",
    "a\n",
    "type(a)\n",
    "m = len(a)\n",
    "m"
   ]
  },
  {
   "cell_type": "markdown",
   "metadata": {
    "id": "EIbB0Cy6sFJw"
   },
   "source": [
    "Вычислим относительную частоту события $B$:"
   ]
  },
  {
   "cell_type": "code",
   "execution_count": null,
   "metadata": {
    "colab": {
     "base_uri": "https://localhost:8080/"
    },
    "id": "yt9Mv6kxsFJx",
    "outputId": "e764a9d0-40de-45e8-de74-f1d5482d4fec"
   },
   "outputs": [
    {
     "data": {
      "text/plain": [
       "0.022222222222222223"
      ]
     },
     "execution_count": 11,
     "metadata": {
      "tags": []
     },
     "output_type": "execute_result"
    }
   ],
   "source": [
    "W = m / n\n",
    "W"
   ]
  },
  {
   "cell_type": "markdown",
   "metadata": {
    "id": "9qZhfDGUsFJz"
   },
   "source": [
    "#### Статистическая вероятность"
   ]
  },
  {
   "cell_type": "markdown",
   "metadata": {
    "id": "Jg88f4D6sFJ0"
   },
   "source": [
    "При достаточно большом количестве испытаний $n$ величина относительной частоты $W$ будет стремиться к конкретному числу. Оно называется **статистической вероятностью** и обозначается как $P(A)$:"
   ]
  },
  {
   "cell_type": "markdown",
   "metadata": {
    "id": "oRFqzLHvsFJ0"
   },
   "source": [
    "$$P(A) = \\frac{m}{n}$$"
   ]
  },
  {
   "cell_type": "markdown",
   "metadata": {
    "id": "bxmxhjWnsFJ1"
   },
   "source": [
    "Статистическую вероятность можно вычислить на основе данных, полученных по результатам многочисленных испытаний."
   ]
  },
  {
   "cell_type": "markdown",
   "metadata": {
    "id": "sZKDq8ZWsFJ2"
   },
   "source": [
    "#### Классическое определение вероятности"
   ]
  },
  {
   "cell_type": "code",
   "execution_count": null,
   "metadata": {
    "id": "6cHhyQHu1aqo"
   },
   "outputs": [],
   "source": [
    "from google.colab import drive\n",
    "drive.mount('/content/drive')"
   ]
  },
  {
   "cell_type": "markdown",
   "metadata": {
    "id": "DLwMWLOhsFJ3"
   },
   "source": [
    "Если заранее известны все вероятные исходы и они равновозможны (например, при подбрасывании монеты или игральной кости), можно воспользоваться **классическим определением вероятности**:\n",
    "\n",
    "Вероятность события — это отношение числа элементарных исходов, благоприятствующих данному событию, к числу всех равновозможных исходов опыта, в котором оно может появиться.\n",
    "\n",
    "\n",
    "Формула для этого определения такая же, как и для статистической вероятности:"
   ]
  },
  {
   "cell_type": "markdown",
   "metadata": {
    "id": "5QBvlL81sFJ4"
   },
   "source": [
    "$$P(A) = \\frac{m}{n}$$"
   ]
  },
  {
   "cell_type": "markdown",
   "metadata": {
    "id": "1p8dVxYGsFJ4"
   },
   "source": [
    "**Пример 3**"
   ]
  },
  {
   "cell_type": "markdown",
   "metadata": {
    "id": "k1FeBSzQsFJ4"
   },
   "source": [
    "Вычислим вероятность того, что на игральной кости выпадет число 3. Известно, что у кости шесть граней с числами от 1 до 6 и каждая может выпасть с равной вероятностью. По формуле классической вероятности получаем результат:"
   ]
  },
  {
   "cell_type": "markdown",
   "metadata": {
    "id": "1oaVbX2TsFJ5"
   },
   "source": [
    "$$P(A) = \\frac{m}{n} = \\frac{1}{6}$$"
   ]
  },
  {
   "cell_type": "markdown",
   "metadata": {
    "id": "PjIamrGPsFJ6"
   },
   "source": [
    "**Пример 4**"
   ]
  },
  {
   "cell_type": "markdown",
   "metadata": {
    "id": "F_w8adOVsFJ7"
   },
   "source": [
    "Вычислим, с какой вероятностью на игральной кости выпадет 2 или 4. Эти события в равной степени вероятны. Как следует из предыдущего примера, каждая из этих вероятностей равна 1/6. И эти события — несовместные, то есть не могут произойти одновременно. Поэтому мы можем складывать их вероятности:"
   ]
  },
  {
   "cell_type": "markdown",
   "metadata": {
    "id": "BQNBlwPysFJ9"
   },
   "source": [
    "$$P(A∨B) = \\frac{1}{6} + \\frac{1}{6} = \\frac{2}{6}$$"
   ]
  },
  {
   "cell_type": "markdown",
   "metadata": {
    "id": "pRqOYUjasFJ-"
   },
   "source": [
    "($∨$ — знак логического ИЛИ)."
   ]
  },
  {
   "cell_type": "markdown",
   "metadata": {
    "id": "mH-XUecBsFKB"
   },
   "source": [
    "Для более сложных случаев число исходов $k$, благоприятствующих данному событию, или число всех элементарных исходов испытания ($n$) можно вычислить с помощью формул комбинаторики."
   ]
  },
  {
   "cell_type": "markdown",
   "metadata": {
    "id": "dWGTf84XsFKA"
   },
   "source": [
    "#### Формулы комбинаторики"
   ]
  },
  {
   "cell_type": "markdown",
   "metadata": {
    "id": "HReJG0-TzvAH"
   },
   "source": [
    "# Новый раздел"
   ]
  },
  {
   "cell_type": "markdown",
   "metadata": {
    "id": "zjQq1-wrsFKC"
   },
   "source": [
    "Число **сочетаний** из $n$ элементов по $k$ элементов в каждом (в сочетаниях порядок не важен):"
   ]
  },
  {
   "cell_type": "markdown",
   "metadata": {
    "id": "PW2lximGsFKC"
   },
   "source": [
    "$$C_n^k = \\frac{n!}{k!(n - k)!}$$"
   ]
  },
  {
   "cell_type": "markdown",
   "metadata": {
    "id": "2GM7Yz7xIgzF"
   },
   "source": [
    "Напишем функцию, чтобы вычислить количество сочетаний:"
   ]
  },
  {
   "cell_type": "code",
   "execution_count": null,
   "metadata": {
    "id": "iFH05AQwKlNl"
   },
   "outputs": [],
   "source": [
    "from math import factorial"
   ]
  },
  {
   "cell_type": "code",
   "execution_count": null,
   "metadata": {
    "id": "XqmC5AY8I_Ie"
   },
   "outputs": [],
   "source": [
    "def combinations(n, k):\n",
    "    return int(factorial(n) / (factorial(k) * factorial(n - k)))"
   ]
  },
  {
   "cell_type": "code",
   "execution_count": null,
   "metadata": {
    "colab": {
     "base_uri": "https://localhost:8080/"
    },
    "id": "Xd-lf5Xbde5I",
    "outputId": "c32fd4b7-7ae3-4dc9-9f57-42974c8eb2e1"
   },
   "outputs": [
    {
     "data": {
      "text/plain": [
       "190"
      ]
     },
     "execution_count": 24,
     "metadata": {
      "tags": []
     },
     "output_type": "execute_result"
    }
   ],
   "source": [
    "combinations(20, 2)"
   ]
  },
  {
   "cell_type": "markdown",
   "metadata": {
    "id": "bqnvhGwnsFKE"
   },
   "source": [
    "Определим число **размещений** из $n$ элементов по $k$ элементов в каждом. При размещениях порядок важен, поэтому вариантов размещения может быть больше, чем сочетаний при заданных $k$  и $n$."
   ]
  },
  {
   "cell_type": "markdown",
   "metadata": {
    "id": "ITiiVKPWsFKF"
   },
   "source": [
    "$$A_n^k = \\frac{n!}{(n - k)!}$$"
   ]
  },
  {
   "cell_type": "code",
   "execution_count": null,
   "metadata": {
    "id": "aRmxVO1vwvEY"
   },
   "outputs": [],
   "source": [
    "def arrangements(n, k):\n",
    "    return int(factorial(n) / factorial(n - k))"
   ]
  },
  {
   "cell_type": "code",
   "execution_count": null,
   "metadata": {
    "colab": {
     "base_uri": "https://localhost:8080/"
    },
    "id": "N1CXrU6Cegy7",
    "outputId": "bc86d2b5-4e7f-43c7-a2cc-acdea72b9e3c"
   },
   "outputs": [
    {
     "data": {
      "text/plain": [
       "6840"
      ]
     },
     "execution_count": 26,
     "metadata": {
      "tags": []
     },
     "output_type": "execute_result"
    }
   ],
   "source": [
    "arrangements(20, 3)"
   ]
  },
  {
   "cell_type": "markdown",
   "metadata": {
    "id": "1K0UMRiisFKG"
   },
   "source": [
    "Число **перестановок** из $n$ элементов — при перестановках важен порядок, но отличие от размещений в том, что применяются все имеющиеся $n$ элементов:"
   ]
  },
  {
   "cell_type": "markdown",
   "metadata": {
    "id": "8HZXUfJcsFKI"
   },
   "source": [
    "$$P_n = n!$$"
   ]
  },
  {
   "cell_type": "code",
   "execution_count": null,
   "metadata": {
    "id": "ktyYJlBLPfP5"
   },
   "outputs": [],
   "source": [
    "def permutations(n):\n",
    "    return int(factorial(n))"
   ]
  },
  {
   "cell_type": "markdown",
   "metadata": {
    "id": "b1hei-UysFKI"
   },
   "source": [
    "Рассмотрим на примерах, как применяются формулы комбинаторики."
   ]
  },
  {
   "cell_type": "markdown",
   "metadata": {
    "id": "aRbqU8vBsFKJ"
   },
   "source": [
    "**Пример 5**"
   ]
  },
  {
   "cell_type": "markdown",
   "metadata": {
    "id": "6HofFrbQsFKK"
   },
   "source": [
    "Сколькими способами можно выбрать из колоды, состоящей из 36 карт, 4 карты?\n",
    "\n",
    "Для ответа на этот вопрос воспользуемся формулой для вычисления количества сочетаний:"
   ]
  },
  {
   "cell_type": "markdown",
   "metadata": {
    "id": "g5e4SLQ5sFKL"
   },
   "source": [
    "# $$C_{36}^4 = \\frac{36!}{4!(36 - 4)!} = 270725$$"
   ]
  },
  {
   "cell_type": "markdown",
   "metadata": {
    "id": "5p5azqlhPpVb"
   },
   "source": [
    "или"
   ]
  },
  {
   "cell_type": "markdown",
   "metadata": {
    "id": "2oI_Uztsf9CQ"
   },
   "source": []
  },
  {
   "cell_type": "code",
   "execution_count": null,
   "metadata": {
    "colab": {
     "base_uri": "https://localhost:8080/"
    },
    "id": "vCudU0J8PnJv",
    "outputId": "a4672e74-6fff-4b5a-c4f2-fad098d9ec6f"
   },
   "outputs": [
    {
     "data": {
      "text/plain": [
       "270725"
      ]
     },
     "execution_count": 27,
     "metadata": {
      "tags": []
     },
     "output_type": "execute_result"
    }
   ],
   "source": [
    "combinations(52, 4)"
   ]
  },
  {
   "cell_type": "markdown",
   "metadata": {
    "id": "WXfKNhFGsFKQ"
   },
   "source": [
    "**Пример 6**"
   ]
  },
  {
   "cell_type": "markdown",
   "metadata": {
    "collapsed": true,
    "id": "9tXX-yJYsFKQ"
   },
   "source": [
    "В магазине 20 покупателей. Сколькими способами они могут образовать очередь из 5 человек?\n",
    "\n",
    "В этом примере важен порядок, в котором покупатели будут стоять в очереди, поэтому применим формулу для нахождения числа размещений:"
   ]
  },
  {
   "cell_type": "code",
   "execution_count": null,
   "metadata": {
    "colab": {
     "base_uri": "https://localhost:8080/"
    },
    "id": "gKsM5aeoP32n",
    "outputId": "cd2bd931-5bfd-4238-dc49-96362e00bf34"
   },
   "outputs": [
    {
     "data": {
      "text/plain": [
       "1860480"
      ]
     },
     "execution_count": 7,
     "metadata": {
      "tags": []
     },
     "output_type": "execute_result"
    }
   ],
   "source": [
    "arrangements(20, 6)"
   ]
  },
  {
   "cell_type": "markdown",
   "metadata": {
    "id": "aFeIzgkQsFKR"
   },
   "source": [
    "**Пример 7**"
   ]
  },
  {
   "cell_type": "markdown",
   "metadata": {
    "collapsed": true,
    "id": "JOsG3qkAsFKS"
   },
   "source": [
    "Сколькими способами 5 покупателей могут образовать очередь?\n",
    "\n",
    "Этот пример похож на предыдущий, но есть важное отличие: не нужно выбирать 5 покупателей из 20. Здесь их всего 5, и все должны присутствовать в очереди. Применим формулу для нахождения числа перестановок:"
   ]
  },
  {
   "cell_type": "code",
   "execution_count": null,
   "metadata": {
    "colab": {
     "base_uri": "https://localhost:8080/"
    },
    "id": "SGljzgzEW-Pz",
    "outputId": "31259a2a-2a6a-4d83-c918-d0221a7eb885"
   },
   "outputs": [
    {
     "data": {
      "text/plain": [
       "120"
      ]
     },
     "execution_count": 8,
     "metadata": {
      "tags": []
     },
     "output_type": "execute_result"
    }
   ],
   "source": [
    "permutations(5)"
   ]
  },
  {
   "cell_type": "markdown",
   "metadata": {
    "id": "wzEHNWr1sFKU"
   },
   "source": [
    "**Пример 8**"
   ]
  },
  {
   "cell_type": "markdown",
   "metadata": {
    "collapsed": true,
    "id": "-IkfWsIHsFKU"
   },
   "source": [
    "Из колоды, состоящей из 36 карт, случайным образом выбраны 5. Сколькими способами можно выбрать эти карты так, чтобы среди них оказалось от 2 до 3 тузов?"
   ]
  },
  {
   "cell_type": "markdown",
   "metadata": {
    "collapsed": true,
    "id": "oVx_8V1VsFKV"
   },
   "source": [
    "Чтобы решить эту задачу, нужно сначала рассмотреть ситуацию, когда выбирается два туза из четырех.\n",
    "\n",
    "Число таких сочетаний будет равно:"
   ]
  },
  {
   "cell_type": "code",
   "execution_count": null,
   "metadata": {
    "colab": {
     "base_uri": "https://localhost:8080/"
    },
    "id": "I0G2chFhXdp2",
    "outputId": "7bfa61ff-7d76-4559-8c1f-8388af60c0fb"
   },
   "outputs": [
    {
     "data": {
      "text/plain": [
       "6"
      ]
     },
     "execution_count": 28,
     "metadata": {
      "tags": []
     },
     "output_type": "execute_result"
    }
   ],
   "source": [
    "combinations(4, 2)"
   ]
  },
  {
   "cell_type": "markdown",
   "metadata": {
    "id": "vR8Bgd_GsFKW"
   },
   "source": [
    "Остальные три карты выбираются из 32 карт  — тузы не рассматриваются, так как они уже выбраны:"
   ]
  },
  {
   "cell_type": "code",
   "execution_count": null,
   "metadata": {
    "colab": {
     "base_uri": "https://localhost:8080/"
    },
    "id": "cYJcvTuVXn6G",
    "outputId": "84add40e-0408-4334-a377-63a487327d5e"
   },
   "outputs": [
    {
     "data": {
      "text/plain": [
       "4960"
      ]
     },
     "execution_count": 10,
     "metadata": {
      "tags": []
     },
     "output_type": "execute_result"
    }
   ],
   "source": [
    "combinations(32, 3)"
   ]
  },
  {
   "cell_type": "markdown",
   "metadata": {
    "id": "K-J4j6BnsFKY"
   },
   "source": [
    "И в этом случае будет такое число сочетаний, когда из колоды, в которой 36 карт, выбраны пять, две из которых — тузы:"
   ]
  },
  {
   "cell_type": "markdown",
   "metadata": {
    "id": "A6AAWvurp1dR"
   },
   "source": []
  },
  {
   "cell_type": "code",
   "execution_count": null,
   "metadata": {
    "colab": {
     "base_uri": "https://localhost:8080/"
    },
    "id": "LQnsS5ADYGuP",
    "outputId": "ffc7eb95-e5f5-475a-fc96-06b2dbed2f6b"
   },
   "outputs": [
    {
     "data": {
      "text/plain": [
       "29760"
      ]
     },
     "execution_count": 29,
     "metadata": {
      "tags": []
     },
     "output_type": "execute_result"
    }
   ],
   "source": [
    "6 * 4960"
   ]
  },
  {
   "cell_type": "markdown",
   "metadata": {
    "id": "wf_Y6h-1sFKZ"
   },
   "source": [
    "Теперь рассмотрим ситуацию выбора трех тузов из четырех. Число сочетаний будет равно:"
   ]
  },
  {
   "cell_type": "code",
   "execution_count": null,
   "metadata": {
    "colab": {
     "base_uri": "https://localhost:8080/"
    },
    "id": "roqN2ghSYJJk",
    "outputId": "37ebbc73-df70-4365-9c61-72ccebb25eb4"
   },
   "outputs": [
    {
     "data": {
      "text/plain": [
       "4"
      ]
     },
     "execution_count": 12,
     "metadata": {
      "tags": []
     },
     "output_type": "execute_result"
    }
   ],
   "source": [
    "combinations(4, 3)"
   ]
  },
  {
   "cell_type": "markdown",
   "metadata": {
    "id": "vc-czT5isFKb"
   },
   "source": [
    "Остальные две карты выбираются из 32 карт. Число сочетаний будет равно:"
   ]
  },
  {
   "cell_type": "code",
   "execution_count": null,
   "metadata": {
    "colab": {
     "base_uri": "https://localhost:8080/"
    },
    "id": "vkienKGIYMr3",
    "outputId": "616efb35-91d8-43b2-8719-08fc3e052907"
   },
   "outputs": [
    {
     "data": {
      "text/plain": [
       "496"
      ]
     },
     "execution_count": 13,
     "metadata": {
      "tags": []
     },
     "output_type": "execute_result"
    }
   ],
   "source": [
    "combinations(32, 2)"
   ]
  },
  {
   "cell_type": "markdown",
   "metadata": {
    "id": "LPfDKt12sFKb"
   },
   "source": [
    "\n",
    "\n",
    "```\n",
    "# Выбран кодовый формат\n",
    "```\n",
    "\n",
    "И тогда будет такое число сочетаний, когда из колоды в 36 карт выбраны пять, три из которых — тузы:"
   ]
  },
  {
   "cell_type": "code",
   "execution_count": null,
   "metadata": {
    "colab": {
     "base_uri": "https://localhost:8080/"
    },
    "id": "CALKLpyyYPyU",
    "outputId": "6bf3da6d-a7df-4e0b-b7bd-3a8e27c7cb7d"
   },
   "outputs": [
    {
     "data": {
      "text/plain": [
       "1984"
      ]
     },
     "execution_count": 14,
     "metadata": {
      "tags": []
     },
     "output_type": "execute_result"
    }
   ],
   "source": [
    "4 * 496"
   ]
  },
  {
   "cell_type": "markdown",
   "metadata": {
    "id": "yi6iylD_sFKd"
   },
   "source": [
    "Осталось сложить полученные числа сочетаний:"
   ]
  },
  {
   "cell_type": "code",
   "execution_count": null,
   "metadata": {
    "colab": {
     "base_uri": "https://localhost:8080/"
    },
    "id": "VKo6iTmLYR-b",
    "outputId": "868bfc55-ea63-41fc-c2b6-9fdd394d8d42"
   },
   "outputs": [
    {
     "data": {
      "text/plain": [
       "31744"
      ]
     },
     "execution_count": 15,
     "metadata": {
      "tags": []
     },
     "output_type": "execute_result"
    }
   ],
   "source": [
    "29760 + 1984"
   ]
  },
  {
   "cell_type": "markdown",
   "metadata": {
    "id": "OB_XrmOnsFKe"
   },
   "source": [
    "Число комбинаций, полученных с помощью формул комбинаторики, можно складывать \n",
    "и умножать. Сложение в приведенном примере соответствует логическому ИЛИ, а умножение — логическому И."
   ]
  },
  {
   "cell_type": "markdown",
   "metadata": {
    "id": "RRYel7rusFKg"
   },
   "source": [
    "**Совместные и несовместные события**"
   ]
  },
  {
   "cell_type": "markdown",
   "metadata": {
    "id": "imCWlmlxsFKg"
   },
   "source": [
    "Совместные события могут произойти в одном испытании, а несовместные — нет. Например, при однократном подбрасывании игральной кости не могут сразу выпасть числа 3 и 4 — эти события несовместны. Если бросают две кости, на одной может выпасть 4, а на другой — 5, это совместные события. Вероятности несовместных событий можно складывать:"
   ]
  },
  {
   "cell_type": "markdown",
   "metadata": {
    "id": "W8_QH9casFKh"
   },
   "source": [
    "$$P(A + B) = P(A) + P(B)$$"
   ]
  },
  {
   "cell_type": "markdown",
   "metadata": {
    "id": "7qOe2xgSsFKi"
   },
   "source": [
    "В случае совместных событий формула суммы событий другая: из суммы вероятностей отдельных событий вычитается вероятность их совместного появления."
   ]
  },
  {
   "cell_type": "markdown",
   "metadata": {
    "id": "Ne6dLbmjsFKi"
   },
   "source": [
    "$$P(A + B) = P(A) + P(B) - P(AB)$$"
   ]
  },
  {
   "cell_type": "markdown",
   "metadata": {
    "id": "4J6cC6nOsFKj"
   },
   "source": [
    "**Вероятность зависимых и независимых событий**"
   ]
  },
  {
   "cell_type": "markdown",
   "metadata": {
    "id": "zj39tXYqsFKj"
   },
   "source": [
    "*Независимыми* события  называют, когда появление одного из них не влияет на появление другого. С зависимыми все наоборот."
   ]
  },
  {
   "cell_type": "markdown",
   "metadata": {
    "id": "gGrtdYgisFKk"
   },
   "source": [
    "Вероятность одновременного появления двух независимых событий вычисляется по формуле:"
   ]
  },
  {
   "cell_type": "markdown",
   "metadata": {
    "id": "Tl_jpB4HsFKk"
   },
   "source": [
    "$$P(A*B) = P(A) * P(B)$$"
   ]
  },
  {
   "cell_type": "markdown",
   "metadata": {
    "id": "YC0D9kqJsFKm"
   },
   "source": [
    "Вероятность появления двух зависимых событий:"
   ]
  },
  {
   "cell_type": "markdown",
   "metadata": {
    "id": "gDRJ7jGfsFKm"
   },
   "source": [
    "$$P(A*B) = P(A) * P(B\\:|\\:A) = P(B) * P(A\\:|\\:B)$$"
   ]
  },
  {
   "cell_type": "markdown",
   "metadata": {
    "id": "CuERs6rIsFKn"
   },
   "source": [
    "**Пример 9**"
   ]
  },
  {
   "cell_type": "markdown",
   "metadata": {
    "id": "aUsMeENFsFKn"
   },
   "source": [
    "Найдем вероятность того, что при броске двух игральных костей на первой выпадет четное число, а на второй — кратное трем. Сначала рассмотрим вероятность выпадения четного числа на первой кости. Таких случаев может быть три: это события, при которых выпадают числа 2, 4 и 6. Вероятность для каждого из них равна 1/6.\n",
    "\n",
    "Так как эти три события являются несовместными, вероятность их суммы равна сумме их вероятностей:"
   ]
  },
  {
   "cell_type": "markdown",
   "metadata": {
    "id": "hpEskO7FsFKn"
   },
   "source": [
    "$$P(четн.) = \\frac{1}{6} + \\frac{1}{6} + \\frac{1}{6} = \\frac{3}{6} = \\frac{1}{2}$$"
   ]
  },
  {
   "cell_type": "markdown",
   "metadata": {
    "id": "5ts2EeuDsFKo"
   },
   "source": [
    "Для второй кости подходящих событий два: это выпадение чисел 3 и 6. Это тоже несовместные события, и мы можем сложить их вероятности:"
   ]
  },
  {
   "cell_type": "markdown",
   "metadata": {
    "id": "q2lcEa-VsFKp"
   },
   "source": [
    "$$P(кратн. 3) = \\frac{1}{6} + \\frac{1}{6} = \\frac{2}{6} = \\frac{1}{3}$$"
   ]
  },
  {
   "cell_type": "markdown",
   "metadata": {
    "id": "C-NrYnV9sFKp"
   },
   "source": [
    "С учетом того, что выпадение числа на одной кости не влияет на результат на другой — то есть эти события независимы, — применим умножение вероятностей и получим итоговый ответ:"
   ]
  },
  {
   "cell_type": "markdown",
   "metadata": {
    "id": "yXQpCRTKsFKq"
   },
   "source": [
    "$$P = \\frac{1}{2} * \\frac{1}{3} = \\frac{1}{6}$$"
   ]
  },
  {
   "cell_type": "markdown",
   "metadata": {
    "id": "uQBgCxqBsFKr"
   },
   "source": [
    "**Формула полной вероятности**"
   ]
  },
  {
   "cell_type": "markdown",
   "metadata": {
    "id": "lf4EHhsMsFKr"
   },
   "source": [
    "Если событие $A$ может наступить только при появлении событий $B_1, B_2, \\dots, B_n$, образующих полную группу несовместных событий*, то вероятность $A$ вычисляется по формуле:\n",
    "\n",
    "***полная группа событий** означает, что при отдельном испытании обязательно возникнет одно из них."
   ]
  },
  {
   "cell_type": "markdown",
   "metadata": {
    "id": "4WshmADxsFKt"
   },
   "source": [
    "$$P(A) = P(B_1) \\cdot P(A\\:|\\:B_1) + P(B_2) \\cdot P(A\\:|\\:B_2) \\; + ... + \\; P(B_n) \\cdot P(A\\:|\\:B_n)$$"
   ]
  },
  {
   "cell_type": "markdown",
   "metadata": {
    "id": "G1khs06KsFKu"
   },
   "source": [
    "Выражение $P(B\\;|\\;A)$ означает вероятность наступления события $B$ при условии, что событие $A$ произошло."
   ]
  },
  {
   "cell_type": "markdown",
   "metadata": {
    "id": "sSTkdtuVsFKv"
   },
   "source": [
    "**Пример 10**"
   ]
  },
  {
   "cell_type": "markdown",
   "metadata": {
    "id": "HDes28G0sFKv"
   },
   "source": [
    "Есть три одинаковые корзины. В первой лежат три красных и пять зеленых мячей, во второй — только красные, а в третьей — только зеленые мячи. Случайно выбирается одна корзина и из нее случайным образом извлекается мяч. \n",
    "\n",
    "Какова вероятность того, что этот мяч — зеленый?\n",
    "\n",
    "Решим эту задачу с помощью формулы полной вероятности. Событием $A$ будем считать то, что достанут зеленый мяч, а событием $B$ — что выберут определенную корзину. Причем вероятность выбора одной из трех корзин будет равна 1/3.\n",
    "\n",
    "Вероятность достать зеленый мяч при условии, что выбрана первая корзина, равен 5/(3 + 5), то есть 5/8. При выборе второй корзины вероятность вынуть зеленый мяч равна 0. В случае с третьей корзиной вероятность равна 1, так как все мячи в ней — зеленые.\n",
    "\n",
    "Подставим данные значения в формулу полной вероятности и получим итоговый ответ:"
   ]
  },
  {
   "cell_type": "markdown",
   "metadata": {
    "id": "EWPYRImssFKw"
   },
   "source": [
    "$$P(A) = \\frac{1}{3} \\cdot \\frac{5}{8} + \\frac{1}{3} \\cdot 0 + \\frac{1}{3} \\cdot 1 = \\frac{5}{24} + 0 + \\frac{1}{3} = \\frac{13}{24}$$"
   ]
  },
  {
   "cell_type": "markdown",
   "metadata": {
    "id": "7euBINZMsFKw"
   },
   "source": [
    "#### Формула Байеса"
   ]
  },
  {
   "cell_type": "markdown",
   "metadata": {
    "collapsed": true,
    "id": "_5YeOFVOsFKx"
   },
   "source": [
    "Чтобы определить вероятность события $B$ при условии, что событие $A$ уже произошло, используют формулу Байеса:"
   ]
  },
  {
   "cell_type": "markdown",
   "metadata": {
    "id": "3hN0vJKIsFKy"
   },
   "source": [
    "$$P(B\\:|\\:A) = \\frac{P(B) \\cdot P(A\\:|\\:B)}{P(A)}$$"
   ]
  },
  {
   "cell_type": "markdown",
   "metadata": {
    "id": "4C9mz7ymsFKz"
   },
   "source": [
    "В данной формуле вероятность $P(B\\;|\\;A)$ называется апостериорной, то есть определенной после того, как произошло событие $A$. \n",
    "\n",
    "А вероятность $P(B)$ — априорной, определенной до испытания."
   ]
  },
  {
   "cell_type": "markdown",
   "metadata": {
    "id": "5crVgwelsFKz"
   },
   "source": [
    "**Пример 11**"
   ]
  },
  {
   "cell_type": "markdown",
   "metadata": {
    "id": "-Smvex-usFK0"
   },
   "source": [
    "Соревнования по биатлону. Один из трех спортсменов стреляет и попадает в мишень. \n",
    "\n",
    "Вероятность такого события для первого спортсмена равна 0.2, для второго — 0.4, для третьего — 0.7.\n",
    "\n",
    "Задача: найти вероятность того, что выстрелы произведены третьим спортсменом.\n",
    "\n",
    "Прежде чем узнали результат выстрела, мы располагали только априорной вероятностью того, что выстрел был произведен, и она равнялась 1/3 — если учесть, что у всех спортсменов были равные возможности выстрелить.\n",
    "\n",
    "Зная результат выстрела, мы можем заново оценить вероятности для каждого спортсмена — ведь точность у них разная. Эти вероятности будут апостериорными, так как они получены после поступления информации о том, что выстрел был удачным.\n",
    "\n",
    "Событием $A$ будем считать попадание в мишень, а событиями $B_1, B_2$ и $B_3$ — что выстрел совершил первый, второй или третий спортсмен:"
   ]
  },
  {
   "cell_type": "markdown",
   "metadata": {
    "id": "yKhoUtEnsFK0"
   },
   "source": [
    "$$P(A\\:|\\:B_1) = 0.2$$\n",
    "\n",
    "$$P(A\\:|\\:B_2) = 0.4$$\n",
    "\n",
    "$$P(A\\:|\\:B_3) = 0.7$$"
   ]
  },
  {
   "cell_type": "markdown",
   "metadata": {
    "id": "ULZ2jSissFK1"
   },
   "source": [
    "Вероятность того, что стрелял третий спортсмен — при условии, что выстрел был удачным, — будем находить по формуле:"
   ]
  },
  {
   "cell_type": "markdown",
   "metadata": {
    "id": "KmIcWtrbsFK2"
   },
   "source": [
    "$$P(B_3\\:|\\:A) = \\frac{P(B_3) \\cdot P(A\\:|\\:B_3)}{P(A)}$$\n",
    "\n",
    "---\n",
    "\n"
   ]
  },
  {
   "cell_type": "markdown",
   "metadata": {
    "id": "4CIYxbSisFK3"
   },
   "source": [
    "Все величины подставим из условия, а знаменатель дроби распишем по формуле полной вероятности:"
   ]
  },
  {
   "cell_type": "markdown",
   "metadata": {
    "id": "WENz51IbsFK4"
   },
   "source": [
    "$$P(B_3\\:|\\:A) = \\frac{\\frac{1}{3} \\cdot 0.7}{\\frac{1}{3} \\cdot 0.2 + \\frac{1}{3} \\cdot 0.4 + \\frac{1}{3} \\cdot 0.7} = \\frac{7}{13}$$"
   ]
  },
  {
      "cell_type": "markdown",
      "metadata": {
        "id": "npwZYcsXzdm8"
      },
      "source": [
        "### Дискретные случайные величины. Закон распределения вероятностей. \n",
        "\n",
        "### Биномиальный закон распределения. Распределение Пуассона"
      ]
    },
    {
      "cell_type": "markdown",
      "metadata": {
        "id": "nyAZkmuJzdnE"
      },
      "source": [
        "**Случайная величина** — та, которая в результате испытания принимает только одно возможное значение. \n",
        "\n",
        "Оно заранее не известно и может зависеть от множества случайных факторов. Случайные величины могут быть дискретными и непрерывными."
      ]
    },
    {
      "cell_type": "markdown",
      "metadata": {
        "id": "t_m7c5uAzdnK"
      },
      "source": [
        "**Дискретная случайная величина** принимает отделенные друг от друга значения. Например, в результате стократного подбрасывания монетки орел может выпасть 50 или 51 раз (целое число в диапазоне от 0 до 100 включительно), но не 50 с половиной. В данном случае число выпаданий орла — пример дискретной случайной величины."
      ]
    },
    {
      "cell_type": "code",
      "execution_count": null,
      "metadata": {
        "id": "Bi2hZ7UbzdnP"
      },
      "outputs": [],
      "source": [
        "import numpy as np"
      ]
    },
    {
      "cell_type": "markdown",
      "metadata": {
        "id": "dVutQlNpzdn0"
      },
      "source": [
        "**Пример 1**\n",
        "\n",
        "Смоделируем стократное подбрасывание монетки с помощью модуля **random** из библиотеки **numpy**. Результат будет дискретной случайной величиной — число выпаданий орла:"
      ]
    },
    {
      "cell_type": "code",
      "execution_count": null,
      "metadata": {
        "colab": {
          "base_uri": "https://localhost:8080/"
        },
        "id": "KPHPGWZyzdn5",
        "outputId": "7ce11d43-73c1-449f-e017-7dd8f697a567"
      },
      "outputs": [
        {
          "data": {
            "text/plain": [
              "57"
            ]
          },
          "execution_count": 6,
          "metadata": {
            "tags": []
          },
          "output_type": "execute_result"
        }
      ],
      "source": [
        "# n - число испытаний\n",
        "# p - вероятность появления события\n",
        "np.random.binomial(n=100, p=0.5)"
      ]
    },
    {
      "cell_type": "markdown",
      "metadata": {
        "id": "WI7z1STRzdoU"
      },
      "source": [
        "Клетку можно запускать несколько раз, число выпадений орла будет меняться."
      ]
    },
    {
      "cell_type": "markdown",
      "metadata": {
        "id": "rO8yeFzYzdoZ"
      },
      "source": [
        "**Пример 2**"
      ]
    },
    {
      "cell_type": "markdown",
      "metadata": {
        "id": "yQ6kwsqHzdoc"
      },
      "source": [
        "Еще один пример дискретной случайной величины — число дождливых дней летом.\n",
        "\n",
        "Летних дней всего 92, так что здесь мы можем получить случайное целое число из отрезка [0, 92]:"
      ]
    },
    {
      "cell_type": "code",
      "execution_count": null,
      "metadata": {
        "colab": {
          "base_uri": "https://localhost:8080/"
        },
        "id": "gbOwKTkSzdoe",
        "outputId": "76851891-9915-452c-d409-cf27c849bcc4"
      },
      "outputs": [
        {
          "data": {
            "text/plain": [
              "71"
            ]
          },
          "execution_count": 9,
          "metadata": {
            "tags": []
          },
          "output_type": "execute_result"
        }
      ],
      "source": [
        "np.random.randint(0, 93)"
      ]
    },
    {
      "cell_type": "markdown",
      "metadata": {
        "id": "U-xocIHqzdop"
      },
      "source": [
        "**Пример 3**"
      ]
    },
    {
      "cell_type": "markdown",
      "metadata": {
        "id": "VXKmfth7zdor"
      },
      "source": [
        "Есть также примеры дискретных величин без верхней границы. Например, число метеоритов, упавших на Землю за год, может принимать счетное множество значений от 0 до плюс бесконечности."
      ]
    },
    {
      "cell_type": "markdown",
      "metadata": {
        "id": "Qvi5B5dHzdou"
      },
      "source": [
        "**Закон распределения вероятностей** дискретной случайной величины — это соответствие между возможными значениями этой величины и вероятностями, которые этим значениям соответствуют."
      ]
    },
    {
      "cell_type": "markdown",
      "metadata": {
        "id": "_J86_Xbqzdow"
      },
      "source": [
        "Закон распределения вероятностей можно представить в виде таблицы. Составим ее для количества выпаданий орла при трехкратном подбрасывании монеты:"
      ]
    },
    {
      "cell_type": "markdown",
      "metadata": {
        "id": "rTYG_Zc5zdoz"
      },
      "source": [
        "<table border=\"3\">\n",
        "<tr><th>**X**</th><td>0</td><td>1</td><td>2</td><td>3</td></tr>\n",
        "<tr><th>**p**</th><td>0.125</td><td>0.375</td><td>0.375</td><td>0.125</td></tr>\n",
        "</table>"
      ]
    },
    {
      "cell_type": "markdown",
      "metadata": {
        "id": "NpzyNAWZzdo1"
      },
      "source": [
        "Из таблицы видно, что вероятность того, что при трехкратном подбрасывании монетки орел выпадет, к примеру, два раза, равна 0.375."
      ]
    },
    {
      "cell_type": "markdown",
      "metadata": {
        "id": "hF8zgUM3zdo5"
      },
      "source": [
        "**Биномиальное распределение** — один из примеров дискретного распределения."
      ]
    },
    {
      "cell_type": "markdown",
      "metadata": {
        "id": "q_iXGKGWzdo8"
      },
      "source": [
        "Биномиальный закон распределения — это закон распределения числа $X=k$ наступлений события $A$ в $n$ независимых испытаниях, в каждом из которых оно может произойти с вероятностью $p$."
      ]
    },
    {
      "cell_type": "markdown",
      "metadata": {
        "id": "QtFn-eBlzdo-"
      },
      "source": [
        "Число наступления события — это дискретная величина из отрезка [0, $n$]. Вероятности возможных значений этой величины определяются по формуле Бернулли:"
      ]
    },
    {
      "cell_type": "markdown",
      "metadata": {
        "id": "Sb0K-V-jzdpE"
      },
      "source": [
        "где $p$ — это вероятность наступления события $A$ в $n$ независимых испытаниях, a $q = 1 - p$."
      ]
    },
    {
      "cell_type": "markdown",
      "metadata": {
        "id": "EqTMvz9fzdpH"
      },
      "source": [
        "Математическое ожидание для биномиально распределенной дискретной величины можно вычислить по формуле:"
      ]
    },
    {
      "cell_type": "markdown",
      "metadata": {
        "id": "D5HaYkbgzdpK"
      },
      "source": [
        "$$M(X) = np$$"
      ]
    },
    {
      "cell_type": "markdown",
      "metadata": {
        "id": "XiPEiZ4YzdpL"
      },
      "source": [
        "Дисперсия для биномиально распределенной дискретной величины вычисляется так:"
      ]
    },
    {
      "cell_type": "markdown",
      "metadata": {
        "id": "22AP6paZzdpP"
      },
      "source": [
        "$$D(X) = npq$$"
      ]
    },
    {
      "cell_type": "markdown",
      "metadata": {
        "id": "N5sKWGxhzdpT"
      },
      "source": [
        "**Пример 4**"
      ]
    },
    {
      "cell_type": "markdown",
      "metadata": {
        "id": "NCchv5yczdpW"
      },
      "source": [
        "Еще раз приведем таблицу вероятностей выпадания орла при трехкратном подбрасывании монеты. С помощью формулы Бернулли покажем, как вычисляются эти вероятности:"
      ]
    },
    {
      "cell_type": "markdown",
      "metadata": {
        "id": "PLJ94aIvzdpX"
      },
      "source": [
        "<table border=\"3\">\n",
        "<tr><th>**X**</th><td>0</td><td>1</td><td>2</td><td>3</td></tr>\n",
        "<tr><th>**p**</th><td>0.125</td><td>0.375</td><td>0.375</td><td>0.125</td></tr>\n",
        "</table>"
      ]
    },
    {
      "cell_type": "markdown",
      "metadata": {
        "id": "V_ngyqNczdpc"
      },
      "source": [
        "$$p(k=1) = C_n^kp^kq^{n-k} = C_3^1p^1q^2 = \\frac{3!}{1!(3-1)!} \\cdot 0.5^1 \\cdot 0.5^2 = 3 \\cdot 0.5 \\cdot 0.25 = 0.375$$"
      ]
    },
    {
      "cell_type": "markdown",
      "metadata": {
        "id": "Sen4UGXHzdpe"
      },
      "source": [
        "\n",
        "$$p(k=2) = C_n^kp^kq^{n-k} = C_3^2p^2q^1 = \\frac{3!}{2!(3-2)!} \\cdot 0.5^2 \\cdot 0.5^1 = 3 \\cdot 0.25 \\cdot 0.5 = 0.375$$"
      ]
    },
    {
      "cell_type": "markdown",
      "metadata": {
        "id": "y4GVm31ozdpi"
      },
      "source": [
        "$$p(k=3) = C_n^kp^kq^{n-k} = C_3^3p^3q^0 = \\frac{3!}{3!(3-3)!} \\cdot 0.5^3 \\cdot 0.5^0 = 1 \\cdot 0.125 \\cdot 1 = 0.125$$"
      ]
    },
    {
      "cell_type": "markdown",
      "metadata": {
        "id": "Cr2UwCsszdpm"
      },
      "source": [
        "**Пример 5**"
      ]
    },
    {
      "cell_type": "markdown",
      "metadata": {
        "id": "yZPbYTf0zdpp"
      },
      "source": [
        "Будем находить математическое ожидание для биномиального распределения из предыдущего примера."
      ]
    },
    {
      "cell_type": "markdown",
      "metadata": {
        "id": "ffsAtr8Jzdpq"
      },
      "source": [
        "Параметр $n$ равняется 3, так как монету побрасывают три раза, а вероятность выпадания орла $p$ равняется 0.5.\n",
        "\n",
        "Посчитаем математическое ожидание:"
      ]
    },
    {
      "cell_type": "markdown",
      "metadata": {
        "id": "LySdLS6pzdpt"
      },
      "source": [
        "$$M(X) = np = 3 \\cdot 0.5 = 1.5$$"
      ]
    },
    {
      "cell_type": "markdown",
      "metadata": {
        "id": "iMWZ-HPlzdpv"
      },
      "source": [
        "Результат можно понимать так: в среднем при трехкратном подбрасывании монеты орел выпадает 1.5 раза.\n",
        "\n",
        "Теперь посчитаем дисперсию, зная, что величина $q$ (вероятность невыпадания орла, то есть выпадания решки) равна также 0.5:"
      ]
    },
    {
      "cell_type": "markdown",
      "metadata": {
        "id": "KBwQDIfdzdpw"
      },
      "source": [
        "$$D(X) = npq = 3 \\cdot 0.5 \\cdot 0.5 = 0.75$$"
      ]
    },
    {
      "cell_type": "markdown",
      "metadata": {
        "id": "_p5BwNINzdp4"
      },
      "source": [
        "**Распределение Пуассона**"
      ]
    },
    {
      "cell_type": "markdown",
      "metadata": {
        "id": "yF0eGp9Yzdp7"
      },
      "source": [
        "Если проводится большое количество испытаний $n$ и при этом вероятность $p$ появления события $A$ в отдельном испытании мала, применяют формулу Пуассона для вычисления вероятности того, что событие произойдет $m$ раз в $n$ испытаниях:"
      ]
    },
    {
      "cell_type": "markdown",
      "metadata": {
        "id": "Z153O9Ptzdp-"
      },
      "source": [
        "$$P_m \\approx \\frac{\\lambda^m}{m!}e^{-\\lambda}$$"
      ]
    },
    {
      "cell_type": "markdown",
      "metadata": {
        "id": "9h6NXlgbzdqC"
      },
      "source": [
        "**где** $λ = np$."
      ]
    },
    {
      "cell_type": "markdown",
      "metadata": {
        "id": "8aFPW32NzdqE"
      },
      "source": [
        "Распределение Пуассона и формула Пуассона часто применяются в теории массового обслуживания (ТМО).\n",
        "\n",
        "ТМО — это раздел теории вероятностей, в котором исследуется рациональный выбор структуры системы обслуживания и его процесса. В основе теории — изучение потоков требований на обслуживание, поступающих в систему и выходящих из нее, длительности ожидания и длины очередей."
      ]
    },
    {
      "cell_type": "markdown",
      "metadata": {
        "id": "qZ2hbwnkzdqG"
      },
      "source": [
        "**Пример 6**"
      ]
    },
    {
      "cell_type": "markdown",
      "metadata": {
        "id": "g6yXxtKyzdqJ"
      },
      "source": [
        "Вероятность того, что среди писем, поступающих на определенный почтовый ящик, встретится письмо со спамом, составляет 0.01.\n",
        "\n",
        "Найдите вероятность того, что среди 1000 писем, поступивших на него за месяц, будет 11 со спамом."
      ]
    },
    {
      "cell_type": "markdown",
      "metadata": {
        "id": "fGFN5b_gzdqM"
      },
      "source": [
        "Применим формулу Пуассона, зная, что $m = 11$ и $λ = np = 1000 \\cdot 0.01 = 10$:"
      ]
    },
    {
      "cell_type": "markdown",
      "metadata": {
        "id": "uoxO_pAezdqN"
      },
      "source": [
        "$$P_{11} \\approx \\frac{\\lambda^m}{m!}e^{-\\lambda} \\approx \\frac{10^{11}}{11!}e^{-10} \\approx  0.1137$$"
      ]
    },
    {
      "cell_type": "markdown",
      "metadata": {
        "id": "3Odoc8GbzdqP"
      },
      "source": [
        "Если использовать Python для расчетов, можно вычислить вероятность:"
      ]
    },
    {
      "cell_type": "code",
      "execution_count": null,
      "metadata": {
        "id": "ROnWnAPgR_5I"
      },
      "outputs": [],
      "source": [
        "from math import factorial"
      ]
    },
    {
      "cell_type": "code",
      "execution_count": null,
      "metadata": {
        "id": "XqmC5AY8I_Ie"
      },
      "outputs": [],
      "source": [
        "def combinations(n, k):\n",
        "    return int(factorial(n) / (factorial(k) * factorial(n - k)))"
      ]
    },
    {
      "cell_type": "code",
      "execution_count": null,
      "metadata": {
        "colab": {
          "base_uri": "https://localhost:8080/"
        },
        "id": "9LWKHseJzdqj",
        "outputId": "1bb9cc7d-3cab-449f-e92b-634822535384"
      },
      "outputs": [
        {
          "data": {
            "text/plain": [
              "2.1569168371633305e-35"
            ]
          },
          "execution_count": 13,
          "metadata": {
            "tags": []
          },
          "output_type": "execute_result"
        }
      ],
      "source": [
        "n = 144\n",
        "k = 5\n",
        "p = 1/2\n",
        "X = combinations(n, k) * (p ** k) * (1 - p) ** (n - k)\n",
        "X"
      ]
    },
    {
      "cell_type": "code",
      "execution_count": null,
      "metadata": {
        "colab": {
          "base_uri": "https://localhost:8080/"
        },
        "id": "X_axb4OmdDsB",
        "outputId": "6357a9a1-8b1c-4424-8ea7-f4ee8f10e056"
      },
      "outputs": [
        {
          "data": {
            "text/plain": [
              "0.34656600000000004"
            ]
          },
          "execution_count": 28,
          "metadata": {
            "tags": []
          },
          "output_type": "execute_result"
        }
      ],
      "source": [
        "0.489 * 0.33 + 0.42 * 0.2975 + 0.09 * 0.6694"
      ]
    },
    {
      "cell_type": "code",
      "execution_count": null,
      "metadata": {
        "colab": {
          "base_uri": "https://localhost:8080/"
        },
        "id": "y3cQaYrQdrDx",
        "outputId": "76459c33-0401-4015-badd-1808e7ef6896"
      },
      "outputs": [
        {
          "data": {
            "text/plain": [
              "0.20484848484848484"
            ]
          },
          "execution_count": 3,
          "metadata": {
            "tags": []
          },
          "output_type": "execute_result"
        }
      ],
      "source": [
        "(7/10)*(6/9)*(2/11)*(1/10) + (7/10)*(3/9)*(9/11)*(2/10) + (7/10)*(3/9)*(2/11)*(9/10) + (3/10)*(7/9)*(9/11)*(2/10) + (3/10)*(7/9)*(2/11)*(9/10) + (3/10)*(2/9)*(9/11)*(8/10)"
      ]
    },
    {
      "cell_type": "code",
      "execution_count": null,
      "metadata": {
        "colab": {
          "base_uri": "https://localhost:8080/"
        },
        "id": "L1Ni8Xoad7ij",
        "outputId": "681397d4-2fe9-436e-9312-8cf1c6851a8d"
      },
      "outputs": [
        {
          "data": {
            "text/plain": [
              "0.9703"
            ]
          },
          "execution_count": 31,
          "metadata": {
            "tags": []
          },
          "output_type": "execute_result"
        }
      ],
      "source": [
        "1 - 0.33 * 0.09"
      ]
    },
	{
      "cell_type": "markdown",
      "metadata": {
        "id": "AbhQJaRUNKu7"
      },
      "source": [
        "### Описательная статистика. Качественные и количественные характеристики популяции. \n",
        "\n",
        "### Графическое представление данных"
      ]
    },
    {
      "cell_type": "markdown",
      "metadata": {
        "id": "eoIjKvLSNKu-"
      },
      "source": [
        "[Текст ссылки](https://)Рассмотрим описательные статистические характеристики на примере датасета с данными по хоккеистам.\n",
        "\n",
        "Воспользуемся данными, приведенными в статье \n",
        "<a href='https://habr.com/post/301340/'>«Рост хоккеистов: анализируем данные всех чемпионатов мира в текущем веке»</a>.\n",
        "\n",
        "Импортируем библиотеки и загрузим данные:"
      ]
    },
    {
      "cell_type": "code",
      "execution_count": null,
      "metadata": {
        "id": "MPDgZjuQNKvB"
      },
      "outputs": [],
      "source": [
        "import numpy as np\n",
        "import pandas as pd\n",
        "import matplotlib.pyplot as plt\n",
        "import warnings\n",
        "warnings.filterwarnings('ignore')"
      ]
    },
    {
      "cell_type": "code",
      "execution_count": null,
      "metadata": {
        "colab": {
          "base_uri": "https://localhost:8080/",
          "height": 306
        },
        "id": "MM9S4bbbNKvO",
        "outputId": "38512f4b-76de-46db-b0a4-de3e5bc5c085"
      },
      "outputs": [
        {
          "ename": "FileNotFoundError",
          "evalue": "ignored",
          "output_type": "error",
          "traceback": [
            "\u001b[0;31m---------------------------------------------------------------------------\u001b[0m",
            "\u001b[0;31mFileNotFoundError\u001b[0m                         Traceback (most recent call last)",
            "\u001b[0;32m<ipython-input-7-d527b8782777>\u001b[0m in \u001b[0;36m<module>\u001b[0;34m()\u001b[0m\n\u001b[0;32m----> 1\u001b[0;31m \u001b[0mdf\u001b[0m \u001b[0;34m=\u001b[0m \u001b[0mpd\u001b[0m\u001b[0;34m.\u001b[0m\u001b[0mread_csv\u001b[0m\u001b[0;34m(\u001b[0m\u001b[0;34m'csv/hockey_players.csv'\u001b[0m\u001b[0;34m,\u001b[0m \u001b[0mencoding\u001b[0m\u001b[0;34m=\u001b[0m\u001b[0;34m'cp1251'\u001b[0m\u001b[0;34m,\u001b[0m \u001b[0mparse_dates\u001b[0m\u001b[0;34m=\u001b[0m\u001b[0;34m[\u001b[0m\u001b[0;34m'birth'\u001b[0m\u001b[0;34m]\u001b[0m\u001b[0;34m)\u001b[0m\u001b[0;34m\u001b[0m\u001b[0;34m\u001b[0m\u001b[0m\n\u001b[0m",
            "\u001b[0;32m/usr/local/lib/python3.7/dist-packages/pandas/io/parsers.py\u001b[0m in \u001b[0;36mread_csv\u001b[0;34m(filepath_or_buffer, sep, delimiter, header, names, index_col, usecols, squeeze, prefix, mangle_dupe_cols, dtype, engine, converters, true_values, false_values, skipinitialspace, skiprows, skipfooter, nrows, na_values, keep_default_na, na_filter, verbose, skip_blank_lines, parse_dates, infer_datetime_format, keep_date_col, date_parser, dayfirst, cache_dates, iterator, chunksize, compression, thousands, decimal, lineterminator, quotechar, quoting, doublequote, escapechar, comment, encoding, dialect, error_bad_lines, warn_bad_lines, delim_whitespace, low_memory, memory_map, float_precision)\u001b[0m\n\u001b[1;32m    686\u001b[0m     )\n\u001b[1;32m    687\u001b[0m \u001b[0;34m\u001b[0m\u001b[0m\n\u001b[0;32m--> 688\u001b[0;31m     \u001b[0;32mreturn\u001b[0m \u001b[0m_read\u001b[0m\u001b[0;34m(\u001b[0m\u001b[0mfilepath_or_buffer\u001b[0m\u001b[0;34m,\u001b[0m \u001b[0mkwds\u001b[0m\u001b[0;34m)\u001b[0m\u001b[0;34m\u001b[0m\u001b[0;34m\u001b[0m\u001b[0m\n\u001b[0m\u001b[1;32m    689\u001b[0m \u001b[0;34m\u001b[0m\u001b[0m\n\u001b[1;32m    690\u001b[0m \u001b[0;34m\u001b[0m\u001b[0m\n",
            "\u001b[0;32m/usr/local/lib/python3.7/dist-packages/pandas/io/parsers.py\u001b[0m in \u001b[0;36m_read\u001b[0;34m(filepath_or_buffer, kwds)\u001b[0m\n\u001b[1;32m    452\u001b[0m \u001b[0;34m\u001b[0m\u001b[0m\n\u001b[1;32m    453\u001b[0m     \u001b[0;31m# Create the parser.\u001b[0m\u001b[0;34m\u001b[0m\u001b[0;34m\u001b[0m\u001b[0;34m\u001b[0m\u001b[0m\n\u001b[0;32m--> 454\u001b[0;31m     \u001b[0mparser\u001b[0m \u001b[0;34m=\u001b[0m \u001b[0mTextFileReader\u001b[0m\u001b[0;34m(\u001b[0m\u001b[0mfp_or_buf\u001b[0m\u001b[0;34m,\u001b[0m \u001b[0;34m**\u001b[0m\u001b[0mkwds\u001b[0m\u001b[0;34m)\u001b[0m\u001b[0;34m\u001b[0m\u001b[0;34m\u001b[0m\u001b[0m\n\u001b[0m\u001b[1;32m    455\u001b[0m \u001b[0;34m\u001b[0m\u001b[0m\n\u001b[1;32m    456\u001b[0m     \u001b[0;32mif\u001b[0m \u001b[0mchunksize\u001b[0m \u001b[0;32mor\u001b[0m \u001b[0miterator\u001b[0m\u001b[0;34m:\u001b[0m\u001b[0;34m\u001b[0m\u001b[0;34m\u001b[0m\u001b[0m\n",
            "\u001b[0;32m/usr/local/lib/python3.7/dist-packages/pandas/io/parsers.py\u001b[0m in \u001b[0;36m__init__\u001b[0;34m(self, f, engine, **kwds)\u001b[0m\n\u001b[1;32m    946\u001b[0m             \u001b[0mself\u001b[0m\u001b[0;34m.\u001b[0m\u001b[0moptions\u001b[0m\u001b[0;34m[\u001b[0m\u001b[0;34m\"has_index_names\"\u001b[0m\u001b[0;34m]\u001b[0m \u001b[0;34m=\u001b[0m \u001b[0mkwds\u001b[0m\u001b[0;34m[\u001b[0m\u001b[0;34m\"has_index_names\"\u001b[0m\u001b[0;34m]\u001b[0m\u001b[0;34m\u001b[0m\u001b[0;34m\u001b[0m\u001b[0m\n\u001b[1;32m    947\u001b[0m \u001b[0;34m\u001b[0m\u001b[0m\n\u001b[0;32m--> 948\u001b[0;31m         \u001b[0mself\u001b[0m\u001b[0;34m.\u001b[0m\u001b[0m_make_engine\u001b[0m\u001b[0;34m(\u001b[0m\u001b[0mself\u001b[0m\u001b[0;34m.\u001b[0m\u001b[0mengine\u001b[0m\u001b[0;34m)\u001b[0m\u001b[0;34m\u001b[0m\u001b[0;34m\u001b[0m\u001b[0m\n\u001b[0m\u001b[1;32m    949\u001b[0m \u001b[0;34m\u001b[0m\u001b[0m\n\u001b[1;32m    950\u001b[0m     \u001b[0;32mdef\u001b[0m \u001b[0mclose\u001b[0m\u001b[0;34m(\u001b[0m\u001b[0mself\u001b[0m\u001b[0;34m)\u001b[0m\u001b[0;34m:\u001b[0m\u001b[0;34m\u001b[0m\u001b[0;34m\u001b[0m\u001b[0m\n",
            "\u001b[0;32m/usr/local/lib/python3.7/dist-packages/pandas/io/parsers.py\u001b[0m in \u001b[0;36m_make_engine\u001b[0;34m(self, engine)\u001b[0m\n\u001b[1;32m   1178\u001b[0m     \u001b[0;32mdef\u001b[0m \u001b[0m_make_engine\u001b[0m\u001b[0;34m(\u001b[0m\u001b[0mself\u001b[0m\u001b[0;34m,\u001b[0m \u001b[0mengine\u001b[0m\u001b[0;34m=\u001b[0m\u001b[0;34m\"c\"\u001b[0m\u001b[0;34m)\u001b[0m\u001b[0;34m:\u001b[0m\u001b[0;34m\u001b[0m\u001b[0;34m\u001b[0m\u001b[0m\n\u001b[1;32m   1179\u001b[0m         \u001b[0;32mif\u001b[0m \u001b[0mengine\u001b[0m \u001b[0;34m==\u001b[0m \u001b[0;34m\"c\"\u001b[0m\u001b[0;34m:\u001b[0m\u001b[0;34m\u001b[0m\u001b[0;34m\u001b[0m\u001b[0m\n\u001b[0;32m-> 1180\u001b[0;31m             \u001b[0mself\u001b[0m\u001b[0;34m.\u001b[0m\u001b[0m_engine\u001b[0m \u001b[0;34m=\u001b[0m \u001b[0mCParserWrapper\u001b[0m\u001b[0;34m(\u001b[0m\u001b[0mself\u001b[0m\u001b[0;34m.\u001b[0m\u001b[0mf\u001b[0m\u001b[0;34m,\u001b[0m \u001b[0;34m**\u001b[0m\u001b[0mself\u001b[0m\u001b[0;34m.\u001b[0m\u001b[0moptions\u001b[0m\u001b[0;34m)\u001b[0m\u001b[0;34m\u001b[0m\u001b[0;34m\u001b[0m\u001b[0m\n\u001b[0m\u001b[1;32m   1181\u001b[0m         \u001b[0;32melse\u001b[0m\u001b[0;34m:\u001b[0m\u001b[0;34m\u001b[0m\u001b[0;34m\u001b[0m\u001b[0m\n\u001b[1;32m   1182\u001b[0m             \u001b[0;32mif\u001b[0m \u001b[0mengine\u001b[0m \u001b[0;34m==\u001b[0m \u001b[0;34m\"python\"\u001b[0m\u001b[0;34m:\u001b[0m\u001b[0;34m\u001b[0m\u001b[0;34m\u001b[0m\u001b[0m\n",
            "\u001b[0;32m/usr/local/lib/python3.7/dist-packages/pandas/io/parsers.py\u001b[0m in \u001b[0;36m__init__\u001b[0;34m(self, src, **kwds)\u001b[0m\n\u001b[1;32m   1991\u001b[0m         \u001b[0;32mif\u001b[0m \u001b[0mkwds\u001b[0m\u001b[0;34m.\u001b[0m\u001b[0mget\u001b[0m\u001b[0;34m(\u001b[0m\u001b[0;34m\"compression\"\u001b[0m\u001b[0;34m)\u001b[0m \u001b[0;32mis\u001b[0m \u001b[0;32mNone\u001b[0m \u001b[0;32mand\u001b[0m \u001b[0mencoding\u001b[0m\u001b[0;34m:\u001b[0m\u001b[0;34m\u001b[0m\u001b[0;34m\u001b[0m\u001b[0m\n\u001b[1;32m   1992\u001b[0m             \u001b[0;32mif\u001b[0m \u001b[0misinstance\u001b[0m\u001b[0;34m(\u001b[0m\u001b[0msrc\u001b[0m\u001b[0;34m,\u001b[0m \u001b[0mstr\u001b[0m\u001b[0;34m)\u001b[0m\u001b[0;34m:\u001b[0m\u001b[0;34m\u001b[0m\u001b[0;34m\u001b[0m\u001b[0m\n\u001b[0;32m-> 1993\u001b[0;31m                 \u001b[0msrc\u001b[0m \u001b[0;34m=\u001b[0m \u001b[0mopen\u001b[0m\u001b[0;34m(\u001b[0m\u001b[0msrc\u001b[0m\u001b[0;34m,\u001b[0m \u001b[0;34m\"rb\"\u001b[0m\u001b[0;34m)\u001b[0m\u001b[0;34m\u001b[0m\u001b[0;34m\u001b[0m\u001b[0m\n\u001b[0m\u001b[1;32m   1994\u001b[0m                 \u001b[0mself\u001b[0m\u001b[0;34m.\u001b[0m\u001b[0mhandles\u001b[0m\u001b[0;34m.\u001b[0m\u001b[0mappend\u001b[0m\u001b[0;34m(\u001b[0m\u001b[0msrc\u001b[0m\u001b[0;34m)\u001b[0m\u001b[0;34m\u001b[0m\u001b[0;34m\u001b[0m\u001b[0m\n\u001b[1;32m   1995\u001b[0m \u001b[0;34m\u001b[0m\u001b[0m\n",
            "\u001b[0;31mFileNotFoundError\u001b[0m: [Errno 2] No such file or directory: 'csv/hockey_players.csv'"
          ]
        }
      ],
      "source": [
        "df = pd.read_csv('csv/hockey_players.csv', encoding='cp1251', parse_dates=['birth'])"
      ]
    },
    {
      "cell_type": "markdown",
      "metadata": {
        "collapsed": true,
        "id": "pIK_WLKxNKvU"
      },
      "source": [
        "Удалим дубликаты:"
      ]
    },
    {
      "cell_type": "code",
      "execution_count": null,
      "metadata": {
        "id": "z6-tGI8sNKvX"
      },
      "outputs": [],
      "source": [
        "df = df.drop_duplicates(['name', 'birth'])"
      ]
    },
    {
      "cell_type": "markdown",
      "metadata": {
        "collapsed": true,
        "id": "XHQWUbRsNKvh"
      },
      "source": [
        "Данный датасет мог бы считаться **генеральной совокупностью**, если бы он содержал данные обо всех хоккеистах, \n",
        "\n",
        "соответствующих определенным характеристикам."
      ]
    },
    {
      "cell_type": "markdown",
      "metadata": {
        "id": "rnJWY6-KNKvj"
      },
      "source": [
        "Если мы выберем случайным образом определенное количество примеров (наблюдений), такое множество можно называть выборкой.\n",
        "\n",
        "**Выборка** — это случайным образом выбранная часть генеральной совокупности."
      ]
    },
    {
      "cell_type": "markdown",
      "metadata": {
        "id": "4rM_9Cz_NKvm"
      },
      "source": [
        "Одно из основных понятий в теории вероятностей — **математическое ожидание**. Обозначается как $M(X)$ (в статистике принято обозначение $\\mu$).\n",
        "\n",
        "Математическое ожидание — среднее значение случайной величины (распределение вероятностей стационарной случайной величины) при стремлении количества выборок или количества измерений (иногда говорят — количества испытаний) к бесконечности."
      ]
    },
    {
      "cell_type": "markdown",
      "metadata": {
        "id": "GsitNS2_NKvp"
      },
      "source": [
        "Среднее арифметическое одномерной случайной величины конечного числа испытаний обычно называют оценкой математического ожидания. При стремлении числа испытаний стационарного случайного процесса к бесконечности оценка математического ожидания стремится к математическому ожиданию."
      ]
    },
    {
      "cell_type": "markdown",
      "metadata": {
        "id": "v9b2wxzGNKvu"
      },
      "source": [
        "# Найдем среднее значение роста хоккеистов из датасета по формуле:"
      ]
    },
    {
      "cell_type": "markdown",
      "metadata": {
        "id": "xvSB9hufNKvw"
      },
      "source": [
        "$$M(X) = \\frac{1}{n} \\sum\\limits_{i=1}^{n} x_i$$"
      ]
    },
    {
      "cell_type": "markdown",
      "metadata": {
        "id": "MJ0J2HMTNKvy"
      },
      "source": [
        "где $x$ — рост, $n$ — количество наблюдений."
      ]
    },
    {
      "cell_type": "code",
      "execution_count": null,
      "metadata": {
        "id": "8yLDxwZINKv0"
      },
      "outputs": [],
      "source": [
        "mean_height = df['height'].sum() / df['height'].count()\n",
        "mean_height"
      ]
    },
    {
      "cell_type": "markdown",
      "metadata": {
        "id": "apehcU5jNKwF"
      },
      "source": [
        "Найдем эту же величину с помощью метода **mean**:"
      ]
    },
    {
      "cell_type": "code",
      "execution_count": null,
      "metadata": {
        "id": "4tPnNQLtNKwJ"
      },
      "outputs": [],
      "source": [
        "df['height'].mean()"
      ]
    },
    {
      "cell_type": "markdown",
      "metadata": {
        "id": "3gX4sPrGNKwU"
      },
      "source": [
        "Полученные значения равны (отличается только количество знаков после запятой). Такая оценка математического ожидания называется несмещенной.\n",
        "\n",
        "Другим важным показателем выборки является **среднее квадратичное отклонение**. Оно показывает, насколько далеко наблюдения могут быть «разбросаны» относительно среднего значения.\n",
        "\n",
        "Вычислить его можно по формуле:"
      ]
    },
    {
      "cell_type": "markdown",
      "metadata": {
        "id": "JwStBGB4NKwX"
      },
      "source": [
        "$$\\sigma = \\sqrt{\\frac{\\sum\\limits_{i=1}^{n} (x_i - \\overline{x})^2}{n}}$$"
      ]
    },
    {
      "cell_type": "markdown",
      "metadata": {
        "id": "fu2lLu41NKwY"
      },
      "source": [
        "Посчитаем среднее квадратичное отклонение роста хоккеистов:"
      ]
    },
    {
      "cell_type": "code",
      "execution_count": null,
      "metadata": {
        "colab": {
          "base_uri": "https://localhost:8080/",
          "height": 180
        },
        "id": "-iwdVe-hNKwe",
        "outputId": "ef5aad25-15c3-40d6-e380-54691a801620"
      },
      "outputs": [
        {
          "ename": "NameError",
          "evalue": "ignored",
          "output_type": "error",
          "traceback": [
            "\u001b[0;31m---------------------------------------------------------------------------\u001b[0m",
            "\u001b[0;31mNameError\u001b[0m                                 Traceback (most recent call last)",
            "\u001b[0;32m<ipython-input-5-eb01b9d14613>\u001b[0m in \u001b[0;36m<module>\u001b[0;34m()\u001b[0m\n\u001b[0;32m----> 1\u001b[0;31m \u001b[0mheight_std\u001b[0m \u001b[0;34m=\u001b[0m \u001b[0mnp\u001b[0m\u001b[0;34m.\u001b[0m\u001b[0msqrt\u001b[0m\u001b[0;34m(\u001b[0m\u001b[0;34m(\u001b[0m\u001b[0;34m(\u001b[0m\u001b[0mdf\u001b[0m\u001b[0;34m[\u001b[0m\u001b[0;34m'height'\u001b[0m\u001b[0;34m]\u001b[0m \u001b[0;34m-\u001b[0m \u001b[0mdf\u001b[0m\u001b[0;34m[\u001b[0m\u001b[0;34m'height'\u001b[0m\u001b[0;34m]\u001b[0m\u001b[0;34m.\u001b[0m\u001b[0mmean\u001b[0m\u001b[0;34m(\u001b[0m\u001b[0;34m)\u001b[0m\u001b[0;34m)\u001b[0m\u001b[0;34m**\u001b[0m\u001b[0;36m2\u001b[0m\u001b[0;34m)\u001b[0m\u001b[0;34m.\u001b[0m\u001b[0msum\u001b[0m\u001b[0;34m(\u001b[0m\u001b[0;34m)\u001b[0m \u001b[0;34m/\u001b[0m \u001b[0mdf\u001b[0m\u001b[0;34m[\u001b[0m\u001b[0;34m'height'\u001b[0m\u001b[0;34m]\u001b[0m\u001b[0;34m.\u001b[0m\u001b[0mcount\u001b[0m\u001b[0;34m(\u001b[0m\u001b[0;34m)\u001b[0m\u001b[0;34m)\u001b[0m\u001b[0;34m\u001b[0m\u001b[0;34m\u001b[0m\u001b[0m\n\u001b[0m\u001b[1;32m      2\u001b[0m \u001b[0mheight_std\u001b[0m\u001b[0;34m\u001b[0m\u001b[0;34m\u001b[0m\u001b[0m\n",
            "\u001b[0;31mNameError\u001b[0m: name 'df' is not defined"
          ]
        }
      ],
      "source": [
        "height_std = np.sqrt(((df['height'] - df['height'].mean())**2).sum() / df['height'].count())\n",
        "height_std"
      ]
    },
    {
      "cell_type": "markdown",
      "metadata": {
        "id": "PcpU5rPFNKwm"
      },
      "source": [
        "Посчитаем еще раз среднее квадратичное отклонение, но уже с помощью метода **std**:"
      ]
    },
    {
      "cell_type": "code",
      "execution_count": null,
      "metadata": {
        "id": "J3_EM_Uq1OQn"
      },
      "outputs": [],
      "source": [
        "nums = [100, 80, 75, 77, 89, 33, 45, 25, 65, 17, 30, 24, 57, 55, 70, 75, 65, 84, 90, 150]"
      ]
    },
    {
      "cell_type": "code",
      "execution_count": null,
      "metadata": {
        "colab": {
          "base_uri": "https://localhost:8080/"
        },
        "id": "w7ZQmCs_1U2q",
        "outputId": "e9cabe6c-370f-4ec5-ede3-8fd4a321dcf1"
      },
      "outputs": [
        {
          "name": "stdout",
          "output_type": "stream",
          "text": [
            "1001.1684210526314\n"
          ]
        }
      ],
      "source": [
        "m = 64.3 \n",
        "n=len(nums)-1\n",
        "sum_num = 0\n",
        "for num in nums:\n",
        "  sum_num+= (num - m)**2\n",
        "print(sum_num/n)\n"
      ]
    },
    {
      "cell_type": "code",
      "execution_count": null,
      "metadata": {
        "colab": {
          "base_uri": "https://localhost:8080/"
        },
        "id": "TFwR48vn48og",
        "outputId": "b816228c-c554-4002-b048-368f3d56d77c"
      },
      "outputs": [
        {
          "data": {
            "text/plain": [
              "0    1000.115789\n",
              "dtype: float64"
            ]
          },
          "execution_count": 15,
          "metadata": {
            "tags": []
          },
          "output_type": "execute_result"
        }
      ],
      "source": [
        "nums_df = pd.DataFrame(nums)\n",
        "nums_df.var(ddof=1)"
      ]
    },
    {
      "cell_type": "code",
      "execution_count": null,
      "metadata": {
        "colab": {
          "base_uri": "https://localhost:8080/",
          "height": 171
        },
        "id": "3FvEacT6NKwo",
        "outputId": "809eb516-4330-4103-b255-1429af6d981a"
      },
      "outputs": [
        {
          "ename": "NameError",
          "evalue": "ignored",
          "output_type": "error",
          "traceback": [
            "\u001b[0;31m---------------------------------------------------------------------------\u001b[0m",
            "\u001b[0;31mNameError\u001b[0m                                 Traceback (most recent call last)",
            "\u001b[0;32m<ipython-input-1-48ae69f0a1d5>\u001b[0m in \u001b[0;36m<module>\u001b[0;34m()\u001b[0m\n\u001b[0;32m----> 1\u001b[0;31m \u001b[0mdf\u001b[0m\u001b[0;34m[\u001b[0m\u001b[0;34m'height'\u001b[0m\u001b[0;34m]\u001b[0m\u001b[0;34m.\u001b[0m\u001b[0mstd\u001b[0m\u001b[0;34m(\u001b[0m\u001b[0mddof\u001b[0m\u001b[0;34m=\u001b[0m\u001b[0;36m0\u001b[0m\u001b[0;34m)\u001b[0m\u001b[0;34m\u001b[0m\u001b[0;34m\u001b[0m\u001b[0m\n\u001b[0m",
            "\u001b[0;31mNameError\u001b[0m: name 'df' is not defined"
          ]
        }
      ],
      "source": [
        "df['height'].std(ddof=0)"
      ]
    },
    {
      "cell_type": "markdown",
      "metadata": {
        "id": "yzTtgYY0NKwz"
      },
      "source": [
        "**Дисперсия** равна среднему квадратичному отклонению, возведенному в квадрат:"
      ]
    },
    {
      "cell_type": "markdown",
      "metadata": {
        "id": "ymzeeF4QNKw1"
      },
      "source": [
        "$$\\sigma^2 = \\frac{\\sum\\limits_{i=1}^{n} (x_i - \\overline{x})^2}{n}$$"
      ]
    },
    {
      "cell_type": "markdown",
      "metadata": {
        "id": "XTwVZI76NKw3"
      },
      "source": [
        "Посчитаем дисперсию роста хоккеистов:"
      ]
    },
    {
      "cell_type": "code",
      "execution_count": null,
      "metadata": {
        "id": "jNZh3cbjNKw6"
      },
      "outputs": [],
      "source": [
        "height_variance = ((df['height'] - df['height'].mean())**2).sum() / df['height'].count()\n",
        "height_variance"
      ]
    },
    {
      "cell_type": "markdown",
      "metadata": {
        "id": "fCHu_z21NKxG"
      },
      "source": [
        "Такая оценка дисперсии является **смещенной**. Следующая формула показывает, как вычисляется **несмещенная оценка дисперсии**:"
      ]
    },
    {
      "cell_type": "markdown",
      "metadata": {
        "id": "yeHRCSngNKxH"
      },
      "source": [
        "$$\\sigma^2_{несмещ.} = \\frac{\\sum\\limits_{i=1}^{n} (x_i - \\overline{x})^2}{n - 1}$$"
      ]
    },
    {
      "cell_type": "markdown",
      "metadata": {
        "id": "QTIjmFNyNKxM"
      },
      "source": [
        "Отличие несмещенной оценки дисперсии от смещенной в том, что мы делим сумму квадратов разностей всех величин со средним значением не на $n$, а на $n - 1$.\n",
        "\n",
        "Рассчитаем несмещенную дисперсию роста хоккеистов:"
      ]
    },
    {
      "cell_type": "code",
      "execution_count": null,
      "metadata": {
        "id": "WyB-XRAeNKxQ"
      },
      "outputs": [],
      "source": [
        "height_variance2 = ((df['height'] - df['height'].mean())**2).sum() / (df['height'].count() - 1)\n",
        "height_variance2"
      ]
    },
    {
      "cell_type": "markdown",
      "metadata": {
        "id": "cscW2xopNKxi"
      },
      "source": [
        "С помощью метода **var** можно посчитать смещенную оценку дисперсии:"
      ]
    },
    {
      "cell_type": "code",
      "execution_count": null,
      "metadata": {
        "id": "RdNP_457NKxk"
      },
      "outputs": [],
      "source": [
        "df['height'].var(ddof=0)"
      ]
    },
    {
      "cell_type": "markdown",
      "metadata": {
        "id": "TJ_GG2LDNKx0"
      },
      "source": [
        "Несмещенная считается аналогично:"
      ]
    },
    {
      "cell_type": "code",
      "execution_count": null,
      "metadata": {
        "id": "oLdDIWUaNKx2"
      },
      "outputs": [],
      "source": [
        "df['height'].var(ddof=1)"
      ]
    },
    {
      "cell_type": "markdown",
      "metadata": {
        "id": "HGAvSJ_mNKx-"
      },
      "source": [
        "Аргумент **ddof** (Delta Degrees of Freedom) показывает, какую величину нужно отнять от числа наблюдений $n$, которое находится в формуле дисперсии в делителе."
      ]
    },
    {
      "cell_type": "markdown",
      "metadata": {
        "id": "NYuwpwm7NKx_"
      },
      "source": [
        "**Мода** — наиболее часто встречающееся в выборке значение. Для дискретных распределений модой считают любое значение $a_i$, вероятность которого $p_i$ больше, чем вероятности соседних значений.\n",
        "\n",
        "Если в выборке есть два и более значений, встречающихся с одинаковой (максимальной) вероятностью, то есть выборка имеет две и более мод, то ее называют **мультимодальной**.\n",
        "\n",
        "Модой абсолютно непрерывного распределения называют любую точку локального максимума плотности распределения."
      ]
    },
    {
      "cell_type": "markdown",
      "metadata": {
        "id": "4H1MmQ8sNKyD"
      },
      "source": [
        "**Медиана** — значение, которое делит выборку на две части так, что значения, которые меньше медианы, составляют половину (50 %) выборки. То есть половина значений выборки больше медианы, половина — не больше."
      ]
    },
    {
      "cell_type": "markdown",
      "metadata": {
        "id": "B228LLFLNKyG"
      },
      "source": [
        "**Первый квартиль** — значение, которое не превышают 25 % наблюдений в выборке."
      ]
    },
    {
      "cell_type": "markdown",
      "metadata": {
        "id": "UARYcGAwNKyH"
      },
      "source": [
        "**Второй квартиль** — синоним медианы."
      ]
    },
    {
      "cell_type": "markdown",
      "metadata": {
        "id": "6BUr0mcaNKyJ"
      },
      "source": [
        "**Третий квартиль** — значение, которое не превышают 75 % наблюдений в выборке."
      ]
    },
    {
      "cell_type": "markdown",
      "metadata": {
        "id": "X7bErti9NKyM"
      },
      "source": [
        "**Квантиль** — похожее понятие, только в качестве точки может выступать любая величина от 0 до 100 %.\n",
        "\n",
        "Например, 40 % квантиль — значение, которое не превышают 40 % наблюдений."
      ]
    },
    {
      "cell_type": "markdown",
      "metadata": {
        "id": "arCPKh6VNKyT"
      },
      "source": [
        "**Перцентиль** — частный случай квантиля, в качестве меры берутся целые проценты.\n",
        "\n",
        "Например, 40 % квантиль — то же, что и 40 % перцентиль."
      ]
    },
    {
      "cell_type": "markdown",
      "metadata": {
        "id": "q67sZzakNKyU"
      },
      "source": [
        "**Дециль** — частный случай квантиля, в качестве меры берутся десятки процентов.\n",
        "\n",
        "Например, 70 % квантиль — это также и 7-й дециль."
      ]
    },
    {
      "cell_type": "markdown",
      "metadata": {
        "id": "lhcr7dkjNKyW"
      },
      "source": [
        "**Интерквартильное расстояние** — отрезок, равный разности 3-й и 1-й квартили."
      ]
    },
    {
      "cell_type": "markdown",
      "metadata": {
        "id": "PNmx54fYNKyY"
      },
      "source": [
        "##### Графическое представление данных"
      ]
    },
    {
      "cell_type": "markdown",
      "metadata": {
        "id": "7nzynTPM7Mfd"
      },
      "source": [
        "# Новый раздел"
      ]
    },
    {
      "cell_type": "markdown",
      "metadata": {
        "collapsed": true,
        "id": "gR9QSn4MNKya"
      },
      "source": [
        "Чтобы получить представление о распределении роста хоккеистов, построим гистограмму. По умолчанию данные разбиваются на 10 частей (аргумент **bins**). Высота столбиков соответствует количеству наблюдений в бине:"
      ]
    },
    {
      "cell_type": "code",
      "execution_count": null,
      "metadata": {
        "id": "iZHf2w0UNKyc"
      },
      "outputs": [],
      "source": [
        "plt.hist(df['height'])\n",
        "plt.show()"
      ]
    },
    {
      "cell_type": "markdown",
      "metadata": {
        "collapsed": true,
        "id": "KwJ_RM31NKyo"
      },
      "source": [
        "Построим гистограмму еще раз, указав в качестве аргумента **bins** число 20, чтобы получить более детальную картину:"
      ]
    },
    {
      "cell_type": "code",
      "execution_count": null,
      "metadata": {
        "id": "kExdMvVdNKyp"
      },
      "outputs": [],
      "source": [
        "plt.hist(df['height'], bins = 20)\n",
        "plt.show()"
      ]
    },
    {
      "cell_type": "markdown",
      "metadata": {
        "collapsed": true,
        "id": "2P5DpOZTNKyw"
      },
      "source": [
        "Другой способ графически представить данные — построить диаграмму **boxplot**. Для этого импортируем библиотеку **seaborn**:"
      ]
    },
    {
      "cell_type": "code",
      "execution_count": null,
      "metadata": {
        "id": "7xl_WqYGNKy0"
      },
      "outputs": [],
      "source": [
        "import seaborn as sns"
      ]
    },
    {
      "cell_type": "code",
      "execution_count": null,
      "metadata": {
        "id": "K8Xx4JX-NKy6"
      },
      "outputs": [],
      "source": [
        "sns.boxplot(df['height'], orient='v')\n",
        "plt.show()"
      ]
    },
    {
      "cell_type": "markdown",
      "metadata": {
        "collapsed": true,
        "id": "rr6BpnOFNKzB"
      },
      "source": [
        "На данном графике показатели роста располагаются по вертикали. Черта в середине прямоугольника обозначает медиану, его нижняя сторона — 1-й квартиль, а верхняя — 3-й квартиль."
      ]
    },
    {
      "cell_type": "markdown",
      "metadata": {
        "collapsed": true,
        "id": "NRDf8FSYNKzH"
      },
      "source": [
        "От прямоугольника вверх и вниз отходят «усики». Черта на конце нижнего усика отстоит от 1-го квартиля на 1.5 интерквартильных расстояния, а на конце верхнего — на 1.5 интерквартильных расстояния от 3-го квартиля."
      ]
    },
    {
      "cell_type": "markdown",
      "metadata": {
        "collapsed": true,
        "id": "n1ZeOMTfNKzJ"
      },
      "source": [
        "Точки, находящиеся за их пределами, обозначают выбросы в данных — нетипичные наблюдения, которые могут быть и ошибками."
      ]
    },
	{
      "cell_type": "markdown",
      "metadata": {
        "id": "C8EP-7Wui6Ux"
      },
      "source": [
        "### Непрерывные случайные величины. \n",
        "\n",
        "### Функция распределения и плотность распределения вероятностей. \n",
        "\n",
        "### Равномерное и нормальное распределение. Центральная предельная теорема"
      ]
    },
    {
      "cell_type": "markdown",
      "metadata": {
        "collapsed": true,
        "id": "XvDR0Waai6U0"
      },
      "source": [
        "**Непрерывная случайная величина** может принимать все возможные значения, содержащиеся на промежутке, который может быть как конечным (ограниченным), так и бесконечным."
      ]
    },
    {
      "cell_type": "markdown",
      "metadata": {
        "collapsed": true,
        "id": "XZORR920i6U1"
      },
      "source": [
        "**Функция распределения вероятностей** — это функция $F(x)$, которая для каждого значения $x$ показывает, какова вероятность того, что случайная величина меньше $x$."
      ]
    },
    {
      "cell_type": "markdown",
      "metadata": {
        "collapsed": true,
        "id": "TtpMrj88i6U4"
      },
      "source": [
        "**Плотность распределения вероятностей** — это функция $f(x)$, которая равна производной функции распределения вероятностей:"
      ]
    },
    {
      "cell_type": "markdown",
      "metadata": {
        "collapsed": true,
        "id": "pQAJZJ20i6U6"
      },
      "source": [
        "$$f(x) = F'(x)$$"
      ]
    },
    {
      "cell_type": "markdown",
      "metadata": {
        "collapsed": true,
        "id": "CSl1_uN-i6U7"
      },
      "source": [
        "#### Равномерное распределение"
      ]
    },
    {
      "cell_type": "markdown",
      "metadata": {
        "collapsed": true,
        "id": "3le34dnIi6U_"
      },
      "source": [
        "Распределение вероятностей случайной величины $X$ в зависимости от плотности:"
      ]
    },
    {
      "cell_type": "markdown",
      "metadata": {
        "id": "yumUBW2Oi6VB"
      },
      "source": [
        "$$f(x) = \\begin{cases} 0, если \\; x \\le a; \\\\ \\frac{1}{b - a}, если \\; a < x \\le b; \\\\ 0, \\; если \\; x > b. \\end{cases}$$"
      ]
    },
    {
      "cell_type": "markdown",
      "metadata": {
        "id": "33P919A0i6VG"
      },
      "source": [
        "Математическое ожидание $M(X)$ равномерно распределенной непрерывной случайной величины можно вычислить по формуле:"
      ]
    },
    {
      "cell_type": "markdown",
      "metadata": {
        "id": "RAd-f2e-i6VH"
      },
      "source": [
        "$$M(X) = \\frac{a + b}{2}$$"
      ]
    },
    {
      "cell_type": "markdown",
      "metadata": {
        "id": "Fhn0ToAfi6VJ"
      },
      "source": [
        "По следующей формуле можно рассчитать дисперсию $D(X)$:"
      ]
    },
    {
      "cell_type": "markdown",
      "metadata": {
        "id": "zbBdqRj0i6VL"
      },
      "source": [
        "\n",
        "$$D(X) = \\frac{(b - a)^2}{12}$$"
      ]
    },
    {
      "cell_type": "markdown",
      "metadata": {
        "id": "LAg5Zitzi6VN"
      },
      "source": [
        "Посмотрим на график плотности равномерного распределения:"
      ]
    },
    {
      "cell_type": "markdown",
      "metadata": {
        "id": "fnLAGtKNi6VP"
      },
      "source": [
        "<img src='https://ru.files.fm/thumb_show.php?i=4whssuky&view' width=500>Рис. 1 График плотности равномерного распределения</img>"
      ]
    },
    {
      "cell_type": "markdown",
      "metadata": {
        "id": "cnqnQDKVi6VR"
      },
      "source": [
        "График функции равномерного распределения:"
      ]
    },
    {
      "cell_type": "markdown",
      "metadata": {
        "id": "oyQNoEwCi6VT"
      },
      "source": [
        "<img src='https://ru.files.fm/thumb_show.php?i=fwy7dghu&view' width=500>Рис. 2 График функции равномерного распределения</img>"
      ]
    },
    {
      "cell_type": "markdown",
      "metadata": {
        "id": "KPY3CoKRi6VV"
      },
      "source": [
        "#### Нормальное распределение"
      ]
    },
    {
      "cell_type": "markdown",
      "metadata": {
        "id": "jbWKmxOBi6VX"
      },
      "source": [
        "Нормальное распределение — это распределение вероятностей непрерывной случайной величины $X$, плотность вероятности которой подчиняется формуле:"
      ]
    },
    {
      "cell_type": "markdown",
      "metadata": {
        "id": "lqTqlCDai6VZ"
      },
      "source": [
        "$$f(x) = \\frac{1}{\\sigma \\sqrt{2 \\pi}} e ^ {- \\frac{(x - a)^2}{2 \\sigma^2}},$$\n",
        "\n",
        "---\n",
        "\n"
      ]
    },
    {
      "cell_type": "markdown",
      "metadata": {
        "id": "gHiRniuYi6Vb"
      },
      "source": [
        "где $a = M(X), \\; \\sigma^2 = D(X).$"
      ]
    },
    {
      "cell_type": "markdown",
      "metadata": {
        "id": "1q-XrpWpi6Vd"
      },
      "source": [
        "График плотности нормального распределения имеет колоколообразную форму:"
      ]
    },
    {
      "cell_type": "markdown",
      "metadata": {
        "id": "HDlsBYJ5i6Vg"
      },
      "source": [
        "<img src='https://ru.files.fm/thumb_show.php?i=wmq8yuhw&view' width=500> </img> Рис 3. График плотности нормального распределения"
      ]
    },
    {
      "cell_type": "markdown",
      "metadata": {
        "id": "BJM8r1DSi6Vm"
      },
      "source": [
        "Примеры нормально распределенных величин: рост и вес людей, скорость движение молекул в газах и жидкостях, показатели IQ."
      ]
    },
    {
      "cell_type": "markdown",
      "metadata": {
        "id": "nMIonO2Si6Vu"
      },
      "source": [
        "Одно из свойств нормального распределения: среднее значение, медиана и мода совпадают."
      ]
    },
    {
      "cell_type": "markdown",
      "metadata": {
        "id": "r5RucWyGi6Vx"
      },
      "source": [
        "На отрезке от $-\\sigma$ до $+\\sigma$ расположено около 68 % наблюдений, \n",
        "\n",
        "от $-2\\sigma$ до $+2\\sigma$ — 95.4 %,\n",
        "\n",
        "и от $-3\\sigma$ до $+3\\sigma$ — 99.72 %."
      ]
    },
    {
      "cell_type": "markdown",
      "metadata": {
        "id": "2hgQxgpYi6Vy"
      },
      "source": [
        "**Пример 1**"
      ]
    },
    {
      "cell_type": "markdown",
      "metadata": {
        "id": "HTxyDrh0i6V0"
      },
      "source": [
        "Расмотрим конкретный пример данных, распределенных нормально, — из статьи\n",
        "<a href='https://habr.com/post/301340/'>«Рост хоккеистов: анализируем данные всех чемпионатов мира в текущем веке»</a>."
      ]
    },
    {
      "cell_type": "code",
      "execution_count": null,
      "metadata": {
        "id": "-UQ9luH2i6V2"
      },
      "outputs": [],
      "source": [
        "import pandas as pd\n",
        "import numpy as np"
      ]
    },
    {
      "cell_type": "code",
      "execution_count": null,
      "metadata": {
        "colab": {
          "base_uri": "https://localhost:8080/",
          "height": 307
        },
        "id": "bmsGD4E6i6WB",
        "outputId": "ddae9901-8bee-4551-d301-7ad2aafa55e8"
      },
      "outputs": [
        {
          "ename": "FileNotFoundError",
          "evalue": "ignored",
          "output_type": "error",
          "traceback": [
            "\u001b[0;31m---------------------------------------------------------------------------\u001b[0m",
            "\u001b[0;31mFileNotFoundError\u001b[0m                         Traceback (most recent call last)",
            "\u001b[0;32m<ipython-input-2-3e0e0a47bc73>\u001b[0m in \u001b[0;36m<module>\u001b[0;34m()\u001b[0m\n\u001b[0;32m----> 1\u001b[0;31m \u001b[0mdf\u001b[0m \u001b[0;34m=\u001b[0m \u001b[0mpd\u001b[0m\u001b[0;34m.\u001b[0m\u001b[0mread_csv\u001b[0m\u001b[0;34m(\u001b[0m\u001b[0;34m'hockey_players.csv'\u001b[0m\u001b[0;34m,\u001b[0m \u001b[0mencoding\u001b[0m\u001b[0;34m=\u001b[0m\u001b[0;34m'cp1251'\u001b[0m\u001b[0;34m,\u001b[0m \u001b[0mparse_dates\u001b[0m\u001b[0;34m=\u001b[0m\u001b[0;34m[\u001b[0m\u001b[0;34m'birth'\u001b[0m\u001b[0;34m]\u001b[0m\u001b[0;34m)\u001b[0m\u001b[0;34m\u001b[0m\u001b[0;34m\u001b[0m\u001b[0m\n\u001b[0m",
            "\u001b[0;32m/usr/local/lib/python3.7/dist-packages/pandas/io/parsers.py\u001b[0m in \u001b[0;36mread_csv\u001b[0;34m(filepath_or_buffer, sep, delimiter, header, names, index_col, usecols, squeeze, prefix, mangle_dupe_cols, dtype, engine, converters, true_values, false_values, skipinitialspace, skiprows, skipfooter, nrows, na_values, keep_default_na, na_filter, verbose, skip_blank_lines, parse_dates, infer_datetime_format, keep_date_col, date_parser, dayfirst, cache_dates, iterator, chunksize, compression, thousands, decimal, lineterminator, quotechar, quoting, doublequote, escapechar, comment, encoding, dialect, error_bad_lines, warn_bad_lines, delim_whitespace, low_memory, memory_map, float_precision)\u001b[0m\n\u001b[1;32m    686\u001b[0m     )\n\u001b[1;32m    687\u001b[0m \u001b[0;34m\u001b[0m\u001b[0m\n\u001b[0;32m--> 688\u001b[0;31m     \u001b[0;32mreturn\u001b[0m \u001b[0m_read\u001b[0m\u001b[0;34m(\u001b[0m\u001b[0mfilepath_or_buffer\u001b[0m\u001b[0;34m,\u001b[0m \u001b[0mkwds\u001b[0m\u001b[0;34m)\u001b[0m\u001b[0;34m\u001b[0m\u001b[0;34m\u001b[0m\u001b[0m\n\u001b[0m\u001b[1;32m    689\u001b[0m \u001b[0;34m\u001b[0m\u001b[0m\n\u001b[1;32m    690\u001b[0m \u001b[0;34m\u001b[0m\u001b[0m\n",
            "\u001b[0;32m/usr/local/lib/python3.7/dist-packages/pandas/io/parsers.py\u001b[0m in \u001b[0;36m_read\u001b[0;34m(filepath_or_buffer, kwds)\u001b[0m\n\u001b[1;32m    452\u001b[0m \u001b[0;34m\u001b[0m\u001b[0m\n\u001b[1;32m    453\u001b[0m     \u001b[0;31m# Create the parser.\u001b[0m\u001b[0;34m\u001b[0m\u001b[0;34m\u001b[0m\u001b[0;34m\u001b[0m\u001b[0m\n\u001b[0;32m--> 454\u001b[0;31m     \u001b[0mparser\u001b[0m \u001b[0;34m=\u001b[0m \u001b[0mTextFileReader\u001b[0m\u001b[0;34m(\u001b[0m\u001b[0mfp_or_buf\u001b[0m\u001b[0;34m,\u001b[0m \u001b[0;34m**\u001b[0m\u001b[0mkwds\u001b[0m\u001b[0;34m)\u001b[0m\u001b[0;34m\u001b[0m\u001b[0;34m\u001b[0m\u001b[0m\n\u001b[0m\u001b[1;32m    455\u001b[0m \u001b[0;34m\u001b[0m\u001b[0m\n\u001b[1;32m    456\u001b[0m     \u001b[0;32mif\u001b[0m \u001b[0mchunksize\u001b[0m \u001b[0;32mor\u001b[0m \u001b[0miterator\u001b[0m\u001b[0;34m:\u001b[0m\u001b[0;34m\u001b[0m\u001b[0;34m\u001b[0m\u001b[0m\n",
            "\u001b[0;32m/usr/local/lib/python3.7/dist-packages/pandas/io/parsers.py\u001b[0m in \u001b[0;36m__init__\u001b[0;34m(self, f, engine, **kwds)\u001b[0m\n\u001b[1;32m    946\u001b[0m             \u001b[0mself\u001b[0m\u001b[0;34m.\u001b[0m\u001b[0moptions\u001b[0m\u001b[0;34m[\u001b[0m\u001b[0;34m\"has_index_names\"\u001b[0m\u001b[0;34m]\u001b[0m \u001b[0;34m=\u001b[0m \u001b[0mkwds\u001b[0m\u001b[0;34m[\u001b[0m\u001b[0;34m\"has_index_names\"\u001b[0m\u001b[0;34m]\u001b[0m\u001b[0;34m\u001b[0m\u001b[0;34m\u001b[0m\u001b[0m\n\u001b[1;32m    947\u001b[0m \u001b[0;34m\u001b[0m\u001b[0m\n\u001b[0;32m--> 948\u001b[0;31m         \u001b[0mself\u001b[0m\u001b[0;34m.\u001b[0m\u001b[0m_make_engine\u001b[0m\u001b[0;34m(\u001b[0m\u001b[0mself\u001b[0m\u001b[0;34m.\u001b[0m\u001b[0mengine\u001b[0m\u001b[0;34m)\u001b[0m\u001b[0;34m\u001b[0m\u001b[0;34m\u001b[0m\u001b[0m\n\u001b[0m\u001b[1;32m    949\u001b[0m \u001b[0;34m\u001b[0m\u001b[0m\n\u001b[1;32m    950\u001b[0m     \u001b[0;32mdef\u001b[0m \u001b[0mclose\u001b[0m\u001b[0;34m(\u001b[0m\u001b[0mself\u001b[0m\u001b[0;34m)\u001b[0m\u001b[0;34m:\u001b[0m\u001b[0;34m\u001b[0m\u001b[0;34m\u001b[0m\u001b[0m\n",
            "\u001b[0;32m/usr/local/lib/python3.7/dist-packages/pandas/io/parsers.py\u001b[0m in \u001b[0;36m_make_engine\u001b[0;34m(self, engine)\u001b[0m\n\u001b[1;32m   1178\u001b[0m     \u001b[0;32mdef\u001b[0m \u001b[0m_make_engine\u001b[0m\u001b[0;34m(\u001b[0m\u001b[0mself\u001b[0m\u001b[0;34m,\u001b[0m \u001b[0mengine\u001b[0m\u001b[0;34m=\u001b[0m\u001b[0;34m\"c\"\u001b[0m\u001b[0;34m)\u001b[0m\u001b[0;34m:\u001b[0m\u001b[0;34m\u001b[0m\u001b[0;34m\u001b[0m\u001b[0m\n\u001b[1;32m   1179\u001b[0m         \u001b[0;32mif\u001b[0m \u001b[0mengine\u001b[0m \u001b[0;34m==\u001b[0m \u001b[0;34m\"c\"\u001b[0m\u001b[0;34m:\u001b[0m\u001b[0;34m\u001b[0m\u001b[0;34m\u001b[0m\u001b[0m\n\u001b[0;32m-> 1180\u001b[0;31m             \u001b[0mself\u001b[0m\u001b[0;34m.\u001b[0m\u001b[0m_engine\u001b[0m \u001b[0;34m=\u001b[0m \u001b[0mCParserWrapper\u001b[0m\u001b[0;34m(\u001b[0m\u001b[0mself\u001b[0m\u001b[0;34m.\u001b[0m\u001b[0mf\u001b[0m\u001b[0;34m,\u001b[0m \u001b[0;34m**\u001b[0m\u001b[0mself\u001b[0m\u001b[0;34m.\u001b[0m\u001b[0moptions\u001b[0m\u001b[0;34m)\u001b[0m\u001b[0;34m\u001b[0m\u001b[0;34m\u001b[0m\u001b[0m\n\u001b[0m\u001b[1;32m   1181\u001b[0m         \u001b[0;32melse\u001b[0m\u001b[0;34m:\u001b[0m\u001b[0;34m\u001b[0m\u001b[0;34m\u001b[0m\u001b[0m\n\u001b[1;32m   1182\u001b[0m             \u001b[0;32mif\u001b[0m \u001b[0mengine\u001b[0m \u001b[0;34m==\u001b[0m \u001b[0;34m\"python\"\u001b[0m\u001b[0;34m:\u001b[0m\u001b[0;34m\u001b[0m\u001b[0;34m\u001b[0m\u001b[0m\n",
            "\u001b[0;32m/usr/local/lib/python3.7/dist-packages/pandas/io/parsers.py\u001b[0m in \u001b[0;36m__init__\u001b[0;34m(self, src, **kwds)\u001b[0m\n\u001b[1;32m   1991\u001b[0m         \u001b[0;32mif\u001b[0m \u001b[0mkwds\u001b[0m\u001b[0;34m.\u001b[0m\u001b[0mget\u001b[0m\u001b[0;34m(\u001b[0m\u001b[0;34m\"compression\"\u001b[0m\u001b[0;34m)\u001b[0m \u001b[0;32mis\u001b[0m \u001b[0;32mNone\u001b[0m \u001b[0;32mand\u001b[0m \u001b[0mencoding\u001b[0m\u001b[0;34m:\u001b[0m\u001b[0;34m\u001b[0m\u001b[0;34m\u001b[0m\u001b[0m\n\u001b[1;32m   1992\u001b[0m             \u001b[0;32mif\u001b[0m \u001b[0misinstance\u001b[0m\u001b[0;34m(\u001b[0m\u001b[0msrc\u001b[0m\u001b[0;34m,\u001b[0m \u001b[0mstr\u001b[0m\u001b[0;34m)\u001b[0m\u001b[0;34m:\u001b[0m\u001b[0;34m\u001b[0m\u001b[0;34m\u001b[0m\u001b[0m\n\u001b[0;32m-> 1993\u001b[0;31m                 \u001b[0msrc\u001b[0m \u001b[0;34m=\u001b[0m \u001b[0mopen\u001b[0m\u001b[0;34m(\u001b[0m\u001b[0msrc\u001b[0m\u001b[0;34m,\u001b[0m \u001b[0;34m\"rb\"\u001b[0m\u001b[0;34m)\u001b[0m\u001b[0;34m\u001b[0m\u001b[0;34m\u001b[0m\u001b[0m\n\u001b[0m\u001b[1;32m   1994\u001b[0m                 \u001b[0mself\u001b[0m\u001b[0;34m.\u001b[0m\u001b[0mhandles\u001b[0m\u001b[0;34m.\u001b[0m\u001b[0mappend\u001b[0m\u001b[0;34m(\u001b[0m\u001b[0msrc\u001b[0m\u001b[0;34m)\u001b[0m\u001b[0;34m\u001b[0m\u001b[0;34m\u001b[0m\u001b[0m\n\u001b[1;32m   1995\u001b[0m \u001b[0;34m\u001b[0m\u001b[0m\n",
            "\u001b[0;31mFileNotFoundError\u001b[0m: [Errno 2] No such file or directory: 'hockey_players.csv'"
          ]
        }
      ],
      "source": [
        "df = pd.read_csv('hockey_players.csv', encoding='cp1251', parse_dates=['birth'])"
      ]
    },
    {
      "cell_type": "markdown",
      "metadata": {
        "id": "swgqE8N4i6WI"
      },
      "source": [
        "Просмотрим первые строки датасета:"
      ]
    },
    {
      "cell_type": "code",
      "execution_count": null,
      "metadata": {
        "colab": {
          "base_uri": "https://localhost:8080/",
          "height": 163
        },
        "id": "nUXZvcjgi6WK",
        "outputId": "780c8ff4-038c-424b-b2aa-aae01fe6b11f"
      },
      "outputs": [
        {
          "ename": "NameError",
          "evalue": "ignored",
          "output_type": "error",
          "traceback": [
            "\u001b[0;31m---------------------------------------------------------------------------\u001b[0m",
            "\u001b[0;31mNameError\u001b[0m                                 Traceback (most recent call last)",
            "\u001b[0;32m<ipython-input-4-c42a15b2c7cf>\u001b[0m in \u001b[0;36m<module>\u001b[0;34m()\u001b[0m\n\u001b[0;32m----> 1\u001b[0;31m \u001b[0mdf\u001b[0m\u001b[0;34m.\u001b[0m\u001b[0mhead\u001b[0m\u001b[0;34m(\u001b[0m\u001b[0;34m)\u001b[0m\u001b[0;34m\u001b[0m\u001b[0;34m\u001b[0m\u001b[0m\n\u001b[0m",
            "\u001b[0;31mNameError\u001b[0m: name 'df' is not defined"
          ]
        }
      ],
      "source": [
        "df.head()"
      ]
    },
    {
      "cell_type": "markdown",
      "metadata": {
        "id": "QEJZ5LTSi6WW"
      },
      "source": [
        "Посмотрим количество строк, полей и информацию о полях в датасете:"
      ]
    },
    {
      "cell_type": "code",
      "execution_count": null,
      "metadata": {
        "colab": {
          "base_uri": "https://localhost:8080/",
          "height": 232
        },
        "id": "wjgoaSKxi6WY",
        "outputId": "58e4ad38-972d-46d2-e233-300185ff2094"
      },
      "outputs": [
        {
          "ename": "NameError",
          "evalue": "ignored",
          "output_type": "error",
          "traceback": [
            "\u001b[0;31m---------------------------------------------------------------------------\u001b[0m",
            "\u001b[0;31mNameError\u001b[0m                                 Traceback (most recent call last)",
            "\u001b[0;32m<ipython-input-1-633337079cd0>\u001b[0m in \u001b[0;36m<module>\u001b[0;34m()\u001b[0m\n\u001b[0;32m----> 1\u001b[0;31m \u001b[0mdf\u001b[0m\u001b[0;34m.\u001b[0m\u001b[0mshape\u001b[0m\u001b[0;34m\u001b[0m\u001b[0;34m\u001b[0m\u001b[0m\n\u001b[0m",
            "\u001b[0;31mNameError\u001b[0m: name 'df' is not defined"
          ]
        }
      ],
      "source": [
        "df.shape"
      ]
    },
    {
      "cell_type": "code",
      "execution_count": null,
      "metadata": {
        "id": "LmZrkjUoi6Wj"
      },
      "outputs": [],
      "source": [
        "df.columns"
      ]
    },
    {
      "cell_type": "code",
      "execution_count": null,
      "metadata": {
        "id": "OAiu_WjGi6Wq"
      },
      "outputs": [],
      "source": [
        "df.describe()"
      ]
    },
    {
      "cell_type": "markdown",
      "metadata": {
        "id": "VRPQmemUi6Wz"
      },
      "source": [
        "Удалим дубликаты:"
      ]
    },
    {
      "cell_type": "code",
      "execution_count": null,
      "metadata": {
        "id": "Y2uJztvvi6W0"
      },
      "outputs": [],
      "source": [
        "df = df.drop_duplicates(['name', 'birth'])"
      ]
    },
    {
      "cell_type": "code",
      "execution_count": null,
      "metadata": {
        "id": "pK0C_2tRi6XB"
      },
      "outputs": [],
      "source": [
        "df.shape"
      ]
    },
    {
      "cell_type": "markdown",
      "metadata": {
        "id": "le-taotCi6XN"
      },
      "source": [
        "Построим распределение роста среди хоккеистов:"
      ]
    },
    {
      "cell_type": "code",
      "execution_count": null,
      "metadata": {
        "id": "O8xmDadti6XO"
      },
      "outputs": [],
      "source": [
        "import matplotlib.pyplot as plt"
      ]
    },
    {
      "cell_type": "code",
      "execution_count": null,
      "metadata": {
        "colab": {
          "base_uri": "https://localhost:8080/",
          "height": 181
        },
        "id": "Xb7ozyBOi6XV",
        "outputId": "00cb238d-d6d3-4cb8-9c69-44b73cf7849e"
      },
      "outputs": [
        {
          "ename": "NameError",
          "evalue": "ignored",
          "output_type": "error",
          "traceback": [
            "\u001b[0;31m---------------------------------------------------------------------------\u001b[0m",
            "\u001b[0;31mNameError\u001b[0m                                 Traceback (most recent call last)",
            "\u001b[0;32m<ipython-input-8-e5fc338e69f7>\u001b[0m in \u001b[0;36m<module>\u001b[0;34m()\u001b[0m\n\u001b[0;32m----> 1\u001b[0;31m \u001b[0mplt\u001b[0m\u001b[0;34m.\u001b[0m\u001b[0mhist\u001b[0m\u001b[0;34m(\u001b[0m\u001b[0mdf\u001b[0m\u001b[0;34m[\u001b[0m\u001b[0;34m'height'\u001b[0m\u001b[0;34m]\u001b[0m\u001b[0;34m,\u001b[0m \u001b[0mbins\u001b[0m\u001b[0;34m=\u001b[0m\u001b[0;36m20\u001b[0m\u001b[0;34m)\u001b[0m\u001b[0;34m\u001b[0m\u001b[0;34m\u001b[0m\u001b[0m\n\u001b[0m\u001b[1;32m      2\u001b[0m \u001b[0mplt\u001b[0m\u001b[0;34m.\u001b[0m\u001b[0mshow\u001b[0m\u001b[0;34m(\u001b[0m\u001b[0;34m)\u001b[0m\u001b[0;34m\u001b[0m\u001b[0;34m\u001b[0m\u001b[0m\n",
            "\u001b[0;31mNameError\u001b[0m: name 'df' is not defined"
          ]
        }
      ],
      "source": [
        "plt.hist(df['height'], bins=20)\n",
        "plt.show()"
      ]
    },
    {
      "cell_type": "markdown",
      "metadata": {
        "id": "yttA1NUQi6Xp"
      },
      "source": [
        "На гистограмме видим характерное — похожее на колокол — нормальное распределение, так как мы знаем, что рост — одна из величин, которые могут распределяться нормально. Посмотрим отдельно статистики распределения роста хоккеистов."
      ]
    },
    {
      "cell_type": "markdown",
      "metadata": {
        "id": "rFclwRdoi6Xr"
      },
      "source": [
        "Среднее значение:"
      ]
    },
    {
      "cell_type": "code",
      "execution_count": null,
      "metadata": {
        "id": "X5an2KXyi6Xt"
      },
      "outputs": [],
      "source": [
        "df['height'].mean()"
      ]
    },
    {
      "cell_type": "markdown",
      "metadata": {
        "id": "pPismRLIi6X0"
      },
      "source": [
        "Медиана:"
      ]
    },
    {
      "cell_type": "code",
      "execution_count": null,
      "metadata": {
        "id": "s3HEJ2kdi6X2"
      },
      "outputs": [],
      "source": [
        "df['height'].median()"
      ]
    },
    {
      "cell_type": "markdown",
      "metadata": {
        "id": "Crajxm_oi6X-"
      },
      "source": [
        "Мода (специально для этого показателя предварительно округлим значения роста до целых):"
      ]
    },
    {
      "cell_type": "code",
      "execution_count": null,
      "metadata": {
        "id": "_UhX2_rai6YA"
      },
      "outputs": [],
      "source": [
        "df['height_rounded'] = df['height'].apply(round)\n",
        "df['height_rounded'].head(10)"
      ]
    },
    {
      "cell_type": "code",
      "execution_count": null,
      "metadata": {
        "id": "WcMSgPJyi6YI"
      },
      "outputs": [],
      "source": [
        "df['height'].mode()"
      ]
    },
    {
      "cell_type": "markdown",
      "metadata": {
        "id": "EsO96t9ri6YS"
      },
      "source": [
        "Видим, что значения среднего, медианы и моды достаточно близки. При большем количестве наблюдений и хорошем приближении к нормальному распределению эти величины могли бы быть приблизительно равны."
      ]
    },
    {
      "cell_type": "markdown",
      "metadata": {
        "id": "4N2B3zuki6YU"
      },
      "source": [
        "Среднее квадратичное отклонение:"
      ]
    },
    {
      "cell_type": "code",
      "execution_count": null,
      "metadata": {
        "id": "QMny5o5Ri6YW"
      },
      "outputs": [],
      "source": [
        "df['height'].std()c"
      ]
    },
    {
      "cell_type": "markdown",
      "metadata": {
        "id": "bRJeoJJCi6Yg"
      },
      "source": [
        "Дисперсия:"
      ]
    },
    {
      "cell_type": "code",
      "execution_count": null,
      "metadata": {
        "colab": {
          "base_uri": "https://localhost:8080/",
          "height": 169
        },
        "id": "NAK_pW9Fi6Yk",
        "outputId": "cf50aac1-c9e9-4d6b-ea8d-534ed5a09966"
      },
      "outputs": [
        {
          "ename": "NameError",
          "evalue": "ignored",
          "output_type": "error",
          "traceback": [
            "\u001b[0;31m---------------------------------------------------------------------------\u001b[0m",
            "\u001b[0;31mNameError\u001b[0m                                 Traceback (most recent call last)",
            "\u001b[0;32m<ipython-input-1-396386b39ed9>\u001b[0m in \u001b[0;36m<module>\u001b[0;34m()\u001b[0m\n\u001b[0;32m----> 1\u001b[0;31m \u001b[0mdf\u001b[0m\u001b[0;34m[\u001b[0m\u001b[0;34m'height'\u001b[0m\u001b[0;34m]\u001b[0m\u001b[0;34m.\u001b[0m\u001b[0mvar\u001b[0m\u001b[0;34m(\u001b[0m\u001b[0;34m)\u001b[0m\u001b[0;34m\u001b[0m\u001b[0;34m\u001b[0m\u001b[0m\n\u001b[0m",
            "\u001b[0;31mNameError\u001b[0m: name 'df' is not defined"
          ]
        }
      ],
      "source": [
        "df['height'].var()"
      ]
    },
    {
      "cell_type": "markdown",
      "metadata": {
        "id": "OJQ2MA-7i6Yt"
      },
      "source": [
        "#### Центральная предельная теорема"
      ]
    },
    {
      "cell_type": "markdown",
      "metadata": {
        "id": "uvR_ni38i6Yv"
      },
      "source": [
        "Центральные предельные теоремы — класс теорем в теории вероятностей. Они утверждают, что сумма достаточно большого количества слабо зависимых случайных величин, имеющих примерно одинаковые масштабы (ни одно из слагаемых не доминирует, не вносит в сумму определяющего вклада), имеет распределение, близкое к нормальному."
      ]
    },
    {
      "cell_type": "markdown",
      "metadata": {
        "id": "3swSoDmHi6Yw"
      },
      "source": [
        "Если у нас есть несколько выборок из генеральной совокупности (то есть из совокупности всех возможных объектов исследования), то среднее по этим выборкам также будет иметь нормальное распределение."
      ]
    },
    {
      "cell_type": "markdown",
      "metadata": {
        "id": "qnigeCqDPeLr"
      },
      "source": []
    },
    {
      "cell_type": "markdown",
      "metadata": {
        "id": "t-P7XtKLi6Yx"
      },
      "source": [
        "Другими словами, среднее достаточно большого числа независимых и нормально распределенных случайных величин также является приблизительно нормально распределенным."
      ]
    },
    {
      "cell_type": "markdown",
      "metadata": {
        "id": "ZNJVNoUzi6Y0"
      },
      "source": [
        "Если $x_1, x_2, ..., x_n$ — случайные величины с математическим ожиданием (или средним значением) $\\mu$ и стандартным отклонением $\\sigma$, и при этом $n$ — большое число, то $\\frac{1}{n}(x_1 + x_2 + ... + x_n)$ — приближенно нормально распределенная величина с математическим ожиданием $\\mu$ и стандартным отклонением, равным $\\frac{\\sigma}{\\sqrt(n)}$."
      ]
    },
    {
      "cell_type": "markdown",
      "metadata": {
        "id": "LsZdXuI2i6Y1"
      },
      "source": [
        "**Пример 2**"
      ]
    },
    {
      "cell_type": "markdown",
      "metadata": {
        "id": "91QHJiETi6Y3"
      },
      "source": [
        "Из имеющегося набора данных с ростом хоккеистов сформируем 300 выборок по 10 наблюдений и рассмотрим распределение средних значений:"
      ]
    },
    {
      "cell_type": "code",
      "execution_count": null,
      "metadata": {
        "id": "ce661T2wi6Y-"
      },
      "outputs": [],
      "source": [
        "\n",
        "np.random.seed(42)"
      ]
    },
    {
      "cell_type": "code",
      "execution_count": null,
      "metadata": {
        "id": "lIjw59w3i6ZF"
      },
      "outputs": [],
      "source": [
        "samples = []"
      ]
    },
    {
      "cell_type": "code",
      "execution_count": null,
      "metadata": {
        "colab": {
          "base_uri": "https://localhost:8080/",
          "height": 198
        },
        "id": "gJWXD9Bei6ZL",
        "outputId": "6754e71d-52c0-4b91-fb0c-9a9c76550df1"
      },
      "outputs": [
        {
          "ename": "NameError",
          "evalue": "ignored",
          "output_type": "error",
          "traceback": [
            "\u001b[0;31m---------------------------------------------------------------------------\u001b[0m",
            "\u001b[0;31mNameError\u001b[0m                                 Traceback (most recent call last)",
            "\u001b[0;32m<ipython-input-6-814c30d4f3a7>\u001b[0m in \u001b[0;36m<module>\u001b[0;34m()\u001b[0m\n\u001b[1;32m      1\u001b[0m \u001b[0;32mfor\u001b[0m \u001b[0mi\u001b[0m \u001b[0;32min\u001b[0m \u001b[0mrange\u001b[0m\u001b[0;34m(\u001b[0m\u001b[0;36m300\u001b[0m\u001b[0;34m)\u001b[0m\u001b[0;34m:\u001b[0m\u001b[0;34m\u001b[0m\u001b[0;34m\u001b[0m\u001b[0m\n\u001b[0;32m----> 2\u001b[0;31m     \u001b[0msample\u001b[0m \u001b[0;34m=\u001b[0m \u001b[0mdf\u001b[0m\u001b[0;34m.\u001b[0m\u001b[0mloc\u001b[0m\u001b[0;34m[\u001b[0m\u001b[0;34m:\u001b[0m\u001b[0;34m,\u001b[0m \u001b[0;34m'height'\u001b[0m\u001b[0;34m]\u001b[0m\u001b[0;34m.\u001b[0m\u001b[0msample\u001b[0m\u001b[0;34m(\u001b[0m\u001b[0mn\u001b[0m\u001b[0;34m=\u001b[0m\u001b[0;36m10\u001b[0m\u001b[0;34m)\u001b[0m\u001b[0;34m.\u001b[0m\u001b[0mvalues\u001b[0m\u001b[0;34m\u001b[0m\u001b[0;34m\u001b[0m\u001b[0m\n\u001b[0m\u001b[1;32m      3\u001b[0m     \u001b[0msamples\u001b[0m\u001b[0;34m.\u001b[0m\u001b[0mappend\u001b[0m\u001b[0;34m(\u001b[0m\u001b[0msample\u001b[0m\u001b[0;34m)\u001b[0m\u001b[0;34m\u001b[0m\u001b[0;34m\u001b[0m\u001b[0m\n",
            "\u001b[0;31mNameError\u001b[0m: name 'df' is not defined"
          ]
        }
      ],
      "source": [
        "for i in range(300):\n",
        "    sample = df.loc[:, 'height'].sample(n=10).values\n",
        "    samples.append(sample)"
      ]
    },
    {
      "cell_type": "markdown",
      "metadata": {
        "id": "5ni3mNeti6ZT"
      },
      "source": [
        "Вычислим средние значения для каждой выборки:"
      ]
    },
    {
      "cell_type": "code",
      "execution_count": null,
      "metadata": {
        "id": "T_D4fYNMi6Za"
      },
      "outputs": [],
      "source": [
        "mean_values = []"
      ]
    },
    {
      "cell_type": "code",
      "execution_count": null,
      "metadata": {
        "id": "YCbucA8di6Zq"
      },
      "outputs": [],
      "source": [
        "for sample in samples:\n",
        "    mean_values.append(sample.mean())"
      ]
    },
    {
      "cell_type": "code",
      "execution_count": null,
      "metadata": {
        "id": "IQIpStyei6Z1"
      },
      "outputs": [],
      "source": [
        "len(mean_values)"
      ]
    },
    {
      "cell_type": "code",
      "execution_count": null,
      "metadata": {
        "id": "QGZpP0vBi6Z_"
      },
      "outputs": [],
      "source": [
        "mean_values = np.array(mean_values)"
      ]
    },
    {
      "cell_type": "code",
      "execution_count": null,
      "metadata": {
        "id": "h2Dymc_Qi6aE"
      },
      "outputs": [],
      "source": [
        "mean_values"
      ]
    },
    {
      "cell_type": "code",
      "execution_count": null,
      "metadata": {
        "id": "MCa_T6BXi6aL"
      },
      "outputs": [],
      "source": [
        "plt.hist(mean_values, bins=10)\n",
        "plt.show()"
      ]
    },
    {
      "cell_type": "markdown",
      "metadata": {
        "id": "WPRRNnEKi6aW"
      },
      "source": [
        "По гистограмме видно: количество наблюдений недостаточно большое, но распределение похоже на нормальное."
      ]
    },
	{
      "cell_type": "markdown",
      "metadata": {
        "id": "jNFmajYcyZlz"
      },
      "source": [
        "### Проверка статистических гипотез. P-значения. Доверительные интервалы.\n",
        "\n",
        "### A/B-тестирование"
      ]
    },
    {
      "cell_type": "markdown",
      "metadata": {
        "id": "SwmtAkNvyZl4"
      },
      "source": [
        "**Статистическая гипотеза**  — гипотеза о распределении случайных величин, которое соответствует представлениям об изучаемом явлении в популяции."
      ]
    },
    {
      "cell_type": "markdown",
      "metadata": {
        "id": "KjLnm1TVyZl6"
      },
      "source": [
        "Различают **нулевые** и **альтернативные** гипотезы. Нулевая гипотеза — это предположение о свойствах генеральной совокупности, которое кажется возможным, но требует проверки. \n",
        "\n",
        "Альтернативная гипотеза —это любая действительная гипотеза, которая не совпадает с нулевой."
      ]
    },
    {
      "cell_type": "markdown",
      "metadata": {
        "id": "8fqrqfidyZl7"
      },
      "source": [
        "Нулевая гипотеза обозначается как $Н_0$, альтернативная — $Н_1$ (от Hypothesis — «гипотеза» (англ.)."
      ]
    },
    {
      "cell_type": "markdown",
      "metadata": {
        "id": "32E2G4uwyZl-"
      },
      "source": [
        "Альтернативная гипотеза $H_1$ — это предположение о свойствах генеральной совокупности, которое принимают, когда невозможно принять нулевую гипотезу. Пока не будет доказано, что гипотеза $H_0$ — ложная, она считается истинной."
      ]
    },
    {
      "cell_type": "markdown",
      "metadata": {
        "id": "_50xK-z8yZmA"
      },
      "source": [
        "Нулевая гипотеза складывается в результате теоретических изысканий или как итог предшествующих практических наблюдений.\n",
        "\n",
        "Например, нулевая гипотеза может утверждать, что средний рост людей из определенной популяции составляет 172.5 см.\n",
        "\n",
        "В дальнейшем при измерении роста людей в выборке из данной популяции эмпирические результаты могут показать, что средний рост равен другому значению — 171 см. На основании эмпирических данных можно выдвинуть альтернативную гипотезу, которая будет утверждать, что средний рост на самом деле не равен 172.5 см. Возможна другая формулировка: «Средний рост в данной популяции равен значению менее 172.5 см».\n",
        "\n",
        "При проверке альтернативной гипотезы для расчета критериев могут учитываться не только сравниваемые величины, но и, например:\n",
        "\n",
        "*   величина выборки — она часто используется для вычисления степеней свободы; \n",
        "*   или количество признаков, по которому происходит проверка гипотез — также может использоваться для вычисления степеней свободы.\n",
        "\n",
        "\n",
        "Задача исследователя в том, чтобы доказать, случайно ли отклонение результатов измерения — то есть является ли оно статистически значимым. Если отличия результатов измерения от значений, соответствующих нулевой гипотезе, случайны, нулевая гипотеза остается в силе. Если же результаты измерения значительно отличаются от того, что утверждается в нулевой гипотезе, то принимают альтернативную.\n"
      ]
    },
    {
      "cell_type": "markdown",
      "metadata": {
        "id": "0EK0phISyZmC"
      },
      "source": [
        "Исследователь, получивший эмпирические результаты, отличающиеся от нулевой гипотезы, фактически оказывается заинтересован в том, чтобы альтернативная гипотеза подтвердилась. Если нулевая гипотеза отвергается и принимают альтернативную, то вследствие этого могут поменяться теоретические положения, ранее считавшиеся верными.\n",
        "\n",
        "Поэтому при проверке к отклонению нулевой гипотезы подходят с осторожностью — если принять неверную альтернативную гипотезу, это может привести в дальнейшем к неверным выводам и в других теоретических вопросах.\n",
        "\n",
        "При проверке гипотез не надо доказывать, что нулевая гипотеза верна, и приводить обоснования ее принятия. Требуется лишь определить, есть ли основания отвергнуть нулевую гипотезу."
      ]
    },
    {
      "cell_type": "markdown",
      "metadata": {
        "id": "FRIHdoH6yZmF"
      },
      "source": [
        "Этапы проверки гипотез:\n",
        "\n",
        "1. Сформулировать основную и альтернативную гипотезы.\n",
        "\n",
        "2. Выбрать статистический критерий, по которому будет проводиться проверка.\n",
        "\n",
        "3. Задать уровень значимости $\\alpha$, или вероятность, с которой будет выполняться данная гипотеза.\n",
        "\n",
        "4. Определить границы области гипотезы.\n",
        "\n",
        "5. Подвести итоги и сформулировать вывод."
      ]
    },
    {
      "cell_type": "markdown",
      "metadata": {
        "id": "X28vmsUkyZmH"
      },
      "source": [
        "Например, можно определить, изменились ли объемы продаж стирального порошка до телевизионной рекламной кампании и после нее. Когда ответ будет положительным,  сможем заключить, что изменения — результат рекламной кампании."
      ]
    },
    {
      "cell_type": "markdown",
      "metadata": {
        "id": "DwBy43XSyZmI"
      },
      "source": [
        "#### Статистические критерии для проверки гипотез"
      ]
    },
    {
      "cell_type": "markdown",
      "metadata": {
        "id": "zHkNQhERyZmL"
      },
      "source": [
        "Статистические критерии — это статистические характеристики выборки, рассчитанные на основе данных в ней. С помощью этих критериев принимается решение о том, какую гипотезу принять."
      ]
    },
    {
      "cell_type": "markdown",
      "metadata": {
        "id": "lqpHLfsbyZmM"
      },
      "source": [
        "Существует два типа статистических критериев:\n",
        "\n",
        "\n",
        "— односторонний критерий — его значения находятся в области $(0, + ∞)$;\n",
        "\n",
        "\n",
        "— двухсторонний критерий — его значения находятся в области $(-∞; + ∞)$."
      ]
    },
    {
      "cell_type": "markdown",
      "metadata": {
        "id": "UP8Uool4yZmP"
      },
      "source": [
        "Свойства статистического критерия:\n",
        "\n",
        "— статистический критерий является случайной величиной с известным законом распределения. Например, критерий согласия Пирсона подчиняется закону распределения $\\chi^2$ («хи-квадрат»);\n",
        "\n",
        "— чем ближе статистический критерий к нулю, тем вероятнее, что нулевая гипотеза верна."
      ]
    },
    {
      "cell_type": "markdown",
      "metadata": {
        "id": "ZswJo12dyZmV"
      },
      "source": [
        "#### Уровень значимости"
      ]
    },
    {
      "cell_type": "markdown",
      "metadata": {
        "id": "Uazj8YuRyZmX"
      },
      "source": [
        "Уровень значимости $\\alpha$ — это вероятность ошибки первого рода. Его значение обычно выбирает специалист, проверяющий гипотезу. "
      ]
    },
    {
      "cell_type": "markdown",
      "metadata": {
        "id": "UYAapfXOyZmY"
      },
      "source": [
        "Чаще всего для $\\alpha$ выбирают значения 0.01 (1 %), 0.05 (5 %), 0.1 (10 %)."
      ]
    },
    {
      "cell_type": "markdown",
      "metadata": {
        "id": "P4nnt9sbyZma"
      },
      "source": [
        "#### Ошибки первого и второго рода"
      ]
    },
    {
      "cell_type": "markdown",
      "metadata": {
        "id": "RGdNt9ToyZmc"
      },
      "source": [
        "Всегда есть вероятность, что при проверке гипотезы будет сделан ошибочный вывод."
      ]
    },
    {
      "cell_type": "markdown",
      "metadata": {
        "id": "oc-rQLdVyZmf"
      },
      "source": [
        "Есть два типа ошибок:\n",
        "\n",
        "***Ошибка 1-го рода*** — это отказ от нулевой гипотезы, несмотря на то, что она верна.\n",
        "\n",
        "***Ошибка 2-го рода*** — это принятие нулевой гипотезы, несмотря на то, что она неверна."
      ]
    },
    {
      "cell_type": "markdown",
      "metadata": {
        "id": "2adv7v5zyZmi"
      },
      "source": [
        "Значение уровня значимости связано со значением доверительного уровня $p$. Уровень достоверности $p$ — вероятность правильной гипотезы. Пока не будет доказано, что нулевая гипотеза неверна, считаем ее верной."
      ]
    },
    {
      "cell_type": "markdown",
      "metadata": {
        "id": "NCMpVab4yZmm"
      },
      "source": [
        "Уровень значимости $\\alpha$ будет определять вероятность принятия нулевой гипотезы. Если уровень значимости \n",
        "\n",
        "является вероятностью отклонения правильной гипотезы, то вероятность принятия правильной гипотезы равна:"
      ]
    },
    {
      "cell_type": "markdown",
      "metadata": {
        "id": "6-vaMu27yZmq"
      },
      "source": [
        "$$p = 1 - α$$"
      ]
    },
    {
      "cell_type": "markdown",
      "metadata": {
        "id": "4ehhGXbByZmt"
      },
      "source": [
        "Можно контролировать вероятность ошибки 1-го рода с помощью значения $\\alpha$, но при этом нет возможности контролировать ошибку 2-го рода — то есть вероятность принятия неверной нулевой гипотезы."
      ]
    },
    {
      "cell_type": "markdown",
      "metadata": {
        "id": "ptWM8DElyZmy"
      },
      "source": [
        "**Нахождение границ области принятия гипотезы**"
      ]
    },
    {
      "cell_type": "markdown",
      "metadata": {
        "collapsed": true,
        "id": "RTlaYqtxyZm2"
      },
      "source": [
        "Область принятия гипотез — это подмножество значений критериев, при которых нулевая гипотеза не может быть отклонена.\n",
        "\n",
        "Критическая область, в отличие от области принятия гипотез, это подмножество значений критерия, для которых нельзя принять нулевую гипотезу. При использовании одностороннего критерия в критической области содержатся не все, а только положительные его значения.\n",
        "\n",
        "В этом случае говорят, что у критерия есть только одна критическая область.\n",
        "\n",
        "Двусторонний критерий, в отличие от одностороннего, может содержать как положительные, так и отрицательные значения.\n",
        "\n",
        "У него две критические области: подмножество отрицательных и подмножество положительных значений критерия, для которых гипотеза не может быть принята."
      ]
    },
    {
      "cell_type": "markdown",
      "metadata": {
        "collapsed": true,
        "id": "YWyCTUQGyZm5"
      },
      "source": [
        "Любая выборочная оценка обладает разбросом, так как является случайной величиной, зависящей от значений\n",
        "\n",
        "в конкретной выборке. Для более надежных статистических выводов следует знать не только точечную оценку,\n",
        "\n",
        "но и интервал, который с высокой вероятностью $\\gamma$ (гамма) накрывает оцениваемый показатель $\\theta$ (тета)."
      ]
    },
    {
      "cell_type": "markdown",
      "metadata": {
        "collapsed": true,
        "id": "gr1GLULOyZm-"
      },
      "source": [
        "Формально — это два таких значения (статистики) $Т_1(X)$ и $Т_2(X)$, что $Т_1 < Т_2$, для которых при заданном \n",
        "\n",
        "уровне вероятности $\\gamma$ выполняется условие:"
      ]
    },
    {
      "cell_type": "markdown",
      "metadata": {
        "collapsed": true,
        "id": "v-edAI4YyZnA"
      },
      "source": [
        "$$P_{\\theta} \\{T_1(X)< \\theta < T_2(X)\\} \\leqslant \\gamma$$"
      ]
    },
    {
      "cell_type": "markdown",
      "metadata": {
        "id": "-JKGxO9kyZnB"
      },
      "source": [
        "То есть с вероятностью $\\gamma$ или выше истинный показатель находится между точками $Т_1(X)$ и $Т_2(X)$, которые \n",
        "\n",
        "называются нижней и верхней границей доверительного интервала."
      ]
    },
    {
      "cell_type": "markdown",
      "metadata": {
        "collapsed": true,
        "id": "u_Ui3FhZyZnD"
      },
      "source": [
        "Одним из условий построения доверительных интервалов является их максимальная узость.\n",
        "То есть она должна быть как \n",
        "\n",
        "можно короче, потому что исследователь пытается точнее локализовать нахождение искомого параметра.\n",
        "\n",
        "Отсюда следует, что доверительный интервал должен охватывать максимальную вероятность распределения, и сама оценка \n",
        "\n",
        "будет центром."
      ]
    },
    {
      "cell_type": "markdown",
      "metadata": {
        "id": "xTZeimykH2ef"
      },
      "source": [
        "<img src='https://ru.files.fm/thumb_show.php?i=pchg4me5&view' width=500>Рис. 1 Доверительный интервал вероятности распределения</img>"
      ]
    },
    {
      "cell_type": "markdown",
      "metadata": {
        "id": "P7RJr5uAyZnK"
      },
      "source": [
        "То есть вероятность отклонения (истинный показатель от оценки) в большей части равна вероятности отклонения \n",
        "\n",
        "в меньшей стороне. \n",
        "\n",
        "Для асимметричных распределений интервал справа не равен интервалу слева.\n",
        "\n",
        "Чтобы рассчитать нижнюю и верхнюю границы, нужно знать точное распределение. Это поможет связать степень отклонения и\n",
        "\n",
        "вероятность покрытия оценочного показателя. На графике выше ясно показано: чем больше вероятность доверия, тем шире\n",
        "\n",
        "интервал."
      ]
    },
    {
      "cell_type": "markdown",
      "metadata": {
        "id": "r-Wy5ouryZnM"
      },
      "source": [
        "**Доверительный интервал для математического ожидания**"
      ]
    },
    {
      "cell_type": "markdown",
      "metadata": {
        "id": "_AHbpr6nyZnP"
      },
      "source": [
        "Если исходные данные распределены в соответствии с нормальным законом, среднее тоже будет распределено нормально. \n",
        "\n",
        "Поэтому для вычисления вероятностей мы могли бы использовать математический аппарат нормального закона распределения.\n",
        "\n",
        "Нужно знать два параметра: ожидаемое значение и дисперсию, которые обычно не известны. Вместо параметров можно \n",
        "\n",
        "использовать оценки (среднее арифметическое и выборочную дисперсию), но тогда распределение среднего будет не совсем нормальным."
      ]
    },
    {
      "cell_type": "markdown",
      "metadata": {
        "id": "JRDZZ12YyZnR"
      },
      "source": [
        "Для таких задач можно использовать $t$-распределение. При заданной вероятности ($\\lambda$) нужно рассчитать предельное\n",
        "\n",
        "отклонение от средней арифметической по следующей формуле:"
      ]
    },
    {
      "cell_type": "markdown",
      "metadata": {
        "id": "jdj-cZnoyZnT"
      },
      "source": [
        "$$T_{1,2} = \\overline{X} \\pm \\frac{s_0}{\\sqrt{n}} \\cdot c_{\\gamma}$$"
      ]
    },
    {
      "cell_type": "markdown",
      "metadata": {
        "id": "9k46VofoyZnV"
      },
      "source": [
        "где $T_1$, $T_2$ — нижняя и верхняя границы доверительного интервала,\n",
        "\n",
        "$\\overline{X}$  — выборочное среднее арифметическое, $s_0$ — среднее квадратичное отклонение по выборке (несмещенное),\n",
        "\n",
        "$n$ — размер выборки,\n",
        "\n",
        "$\\gamma$ — доверительная вероятность."
      ]
    },
    {
      "cell_type": "markdown",
      "metadata": {
        "id": "YULXkwzMyZnZ"
      },
      "source": [
        "$c_{\\gamma} = Ф^{-1} \\frac{(1 + \\gamma)}{2}$ — обратное значение функции стандартного нормального распределения."
      ]
    },
    {
      "cell_type": "markdown",
      "metadata": {
        "id": "1TPeni0jyZnc"
      },
      "source": [
        "То есть это количество стандартных ошибок от среднего арифметического до нижней или верхней границы."
      ]
    },
    {
      "cell_type": "markdown",
      "metadata": {
        "id": "97Xtvr-LyZnf"
      },
      "source": [
        "** A / В тестирование** "
      ]
    },
    {
      "cell_type": "markdown",
      "metadata": {
        "id": "P_IflIWUyZng"
      },
      "source": [
        "А/В тестирование — маркетинговый метод, который используют для оценки эффективности веб-страниц и управления ими. \n",
        "\n",
        "Его еще называют сплит-тестированием (от англ. split testing)."
      ]
    },
    {
      "cell_type": "markdown",
      "metadata": {
        "id": "LArKBHNlyZnj"
      },
      "source": [
        "Сплит-тестирование начинается с оценки показателей веб-страницы (контрольной страницы $A$) и поиска \n",
        "\n",
        "путей, как ее улучшить. "
      ]
    },
    {
      "cell_type": "markdown",
      "metadata": {
        "id": "rxjyfqDGyZnk"
      },
      "source": [
        "Например, у нас есть интернет-магазин. Целевая страница этого магазина имеет коэффициент конверсии 2 %. \n",
        "\n",
        "Специалист хочет увеличить эту цифру до 4 %. Он предполагает, что изменение дизайна страницы повысит конверсию."
      ]
    },
    {
      "cell_type": "markdown",
      "metadata": {
        "id": "qWycv6BOyZnr"
      },
      "source": [
        "К примеру, он думает, что следует изменить цвет кнопки с нейтрального синего на агрессивный красный — это сделает \n",
        "\n",
        "дизайн более ярким и приведет к повышению конверсии. "
      ]
    },
    {
      "cell_type": "markdown",
      "metadata": {
        "id": "AFLqCxSkyZnv"
      },
      "source": [
        "Чтобы проверить, маркетолог создает новую версию веб-страницы ($B$)."
      ]
    },
    {
      "cell_type": "markdown",
      "metadata": {
        "id": "2Zxr97pbyZny"
      },
      "source": [
        "Используя инструменты сплит-тестирования, специалист случайным образом делит трафик между страницами $А$ и $В$ на две\n",
        "\n",
        "приблизительно равные части. При этом одна половина посетителей попадает на страницу $A$, а вторая — на $B$."
      ]
    },
    {
      "cell_type": "markdown",
      "metadata": {
        "id": "jtVgQzObyZn4"
      },
      "source": [
        "За **нулевую гипотезу** берется предположение, что конверсия на странице $В$ не отличается от конверсии на странице $A$."
      ]
    },
    {
      "cell_type": "markdown",
      "metadata": {
        "id": "10icXn68yZn8"
      },
      "source": [
        "Обратное утверждение берется за **альтернативную гипотезу**."
      ]
    },
	{
      "cell_type": "markdown",
      "metadata": {
        "id": "kCDeDOwqKP4d"
      },
      "source": [
        "### Взаимосвязь величин. Параметрические и непараметрические показатели корреляции. \n",
        "\n",
        "### Корреляционный анализ"
      ]
    },
    {
      "cell_type": "markdown",
      "metadata": {
        "id": "xUQNl66OKP4g"
      },
      "source": [
        "**Корреляция**  — математический показатель, по которому можно судить, есть ли статистическая взаимосвязь между \n",
        "\n",
        "случайными величинами. Если такая связь существует, изменения значений одной величины  \n",
        "\n",
        "влияют на другую.\n",
        "\n",
        "\n",
        "**Коэффициент корреляции** показывает, насколько велика взаимосвязь. Обозначается символами $R$ или $r$ и может \n",
        "\n",
        "принимать значения от -1 до 1 включительно."
      ]
    },
    {
      "cell_type": "markdown",
      "metadata": {
        "collapsed": true,
        "id": "j_kjlhujKP4j"
      },
      "source": [
        "Когда коэффициент корреляции близок к 1, между величинами наблюдается **прямая** связь:\n",
        "\n",
        "увеличение одной величины сопровождается увеличением другой, и аналогично уменьшение одной величины\n",
        "\n",
        "сопровождается уменьшением другой.\n",
        "\n",
        "Если же коэффициент корреляции близок к -1, между величинами есть **обратная** корреляционная связь:\n",
        "\n",
        "увеличение одной величины сопровождается уменьшением другой и наоборот.\n",
        "\n",
        "Коэффициент корреляции, близкий к 0, говорит о том, что между величинами **нет связи**,\n",
        "\n",
        "то есть изменение величин происходит независимо друг от друга, либо есть только нелинейная взаимосвязь."
      ]
    },
    {
      "cell_type": "markdown",
      "metadata": {
        "id": "rTj2_4NEKP4l"
      },
      "source": [
        "**Пример 1**"
      ]
    },
    {
      "cell_type": "markdown",
      "metadata": {
        "id": "nl0FIvuwDTru"
      },
      "source": []
    },
    {
      "cell_type": "markdown",
      "metadata": {
        "id": "ZMhj93DHKP4q"
      },
      "source": [
        "Посчитаем корреляцию роста с весом хоккеистов из рассмотренного ранее датасета."
      ]
    },
    {
      "cell_type": "code",
      "execution_count": null,
      "metadata": {
        "id": "O04IbTLXKP4v"
      },
      "outputs": [],
      "source": [
        "import numpy as np\n",
        "import pandas as pd"
      ]
    },
    {
      "cell_type": "code",
      "execution_count": null,
      "metadata": {
        "id": "zyT40MYOKP5C"
      },
      "outputs": [],
      "source": [
        "df = pd.read_csv('csv/hockey_players.csv', encoding='cp1251', parse_dates=['birth'])\n",
        "df = df.drop_duplicates(['name', 'birth'])"
      ]
    },
    {
      "cell_type": "markdown",
      "metadata": {
        "id": "c4Bs4QM8KP5X"
      },
      "source": [
        "Для этого воспользуемся методом **corr ** из библиотеки **pandas**:"
      ]
    },
    {
      "cell_type": "code",
      "execution_count": null,
      "metadata": {
        "id": "IDixqzBQKP5b",
        "outputId": "62ae15a0-6cea-450a-fb93-87b788ce9637"
      },
      "outputs": [
        {
          "data": {
            "text/html": [
              "<div>\n",
              "<style scoped>\n",
              "    .dataframe tbody tr th:only-of-type {\n",
              "        vertical-align: middle;\n",
              "    }\n",
              "\n",
              "    .dataframe tbody tr th {\n",
              "        vertical-align: top;\n",
              "    }\n",
              "\n",
              "    .dataframe thead th {\n",
              "        text-align: right;\n",
              "    }\n",
              "</style>\n",
              "<table border=\"1\" class=\"dataframe\">\n",
              "  <thead>\n",
              "    <tr style=\"text-align: right;\">\n",
              "      <th></th>\n",
              "      <th>height</th>\n",
              "      <th>weight</th>\n",
              "    </tr>\n",
              "  </thead>\n",
              "  <tbody>\n",
              "    <tr>\n",
              "      <th>height</th>\n",
              "      <td>1.000000</td>\n",
              "      <td>0.693731</td>\n",
              "    </tr>\n",
              "    <tr>\n",
              "      <th>weight</th>\n",
              "      <td>0.693731</td>\n",
              "      <td>1.000000</td>\n",
              "    </tr>\n",
              "  </tbody>\n",
              "</table>\n",
              "</div>"
            ],
            "text/plain": [
              "          height    weight\n",
              "height  1.000000  0.693731\n",
              "weight  0.693731  1.000000"
            ]
          },
          "execution_count": 6,
          "metadata": {
            "tags": []
          },
          "output_type": "execute_result"
        }
      ],
      "source": [
        "corr_matrix = df.loc[:, ['height', 'weight']].corr()\n",
        "corr_matrix"
      ]
    },
    {
      "cell_type": "markdown",
      "metadata": {
        "id": "54n8mVpfKP5y"
      },
      "source": [
        "Мы получили матрицу корреляций. Корреляция между ростом и весом достаточно высока и имеет величину, почти равную 0.7:"
      ]
    },
    {
      "cell_type": "code",
      "execution_count": null,
      "metadata": {
        "id": "FG5WGiW-KP50",
        "outputId": "cd0d6a41-d1c8-407d-8617-5dc04761a5b3"
      },
      "outputs": [
        {
          "data": {
            "text/plain": [
              "0.69373056796630506"
            ]
          },
          "execution_count": 7,
          "metadata": {
            "tags": []
          },
          "output_type": "execute_result"
        }
      ],
      "source": [
        "corr_matrix.loc['height', 'weight']"
      ]
    },
    {
      "cell_type": "markdown",
      "metadata": {
        "id": "E47g60aWKP6A"
      },
      "source": [
        "Величина корреляции положительна, так что можно сделать вывод, что чем выше рост хоккеиста, тем, как правило, больше его вес."
      ]
    },
    {
      "cell_type": "markdown",
      "metadata": {
        "id": "CD44TSUBKP6F"
      },
      "source": [
        "#### Взаимосвязь величин"
      ]
    },
    {
      "cell_type": "markdown",
      "metadata": {
        "id": "rShFAjXDKP6I"
      },
      "source": [
        "Если две величины коррелируют, это может свидетельствовать о наличии **статистической связи** между ними. Причем говорить о ней \n",
        "\n",
        "мы можем для величин из одной выборки, что не гарантирует того, что подобная связь встретится и в другой выборке и \n",
        "\n",
        "должна будет иметь такую же природу. \n",
        "\n",
        "Корреляционный анализ просто интерпретируется, поэтому статистик может сделать ложный вывод о том, что между этими признаками \n",
        "\n",
        "существует причинно-следственная связь. Такой вывод нельзя делать на основании коэффициента корреляции — можно лишь сказать, \n",
        "\n",
        "что между признаками есть статистическая взаимосвязь."
      ]
    },
    {
      "cell_type": "markdown",
      "metadata": {
        "collapsed": true,
        "id": "3G4ElBxJKP6K"
      },
      "source": [
        "Например, если рассмотреть данные о пожарах в городе, можно увидеть, что между материальными потерями, вызванными \n",
        "\n",
        "пожаром, и количеством пожарных, которые принимали участие в его тушении, есть сильная корреляция.\n",
        "\n",
        "При этом ложным будет вывод о том, что большое количество пожарных, присутствующих на пожаре, приводит к увеличению ущерба от него. Он может привести к неправильному решению — уменьшить бригаду пожарных, чтобы сократить материальные потери."
      ]
    },
    {
      "cell_type": "markdown",
      "metadata": {
        "id": "aSEcxm_nKP6M"
      },
      "source": [
        "Еще один пример того, как коррелирующие величины могут направить статистика по ложному следу: в городах с \n",
        "\n",
        "повышенным уровнем преступности зачастую количество полицейских тоже велико. Между количеством полицейских и преступностью есть \n",
        "\n",
        "положительная корреляция. Ложный вывод, который можно в таком случае сделать, —  решить, что причиной повышенной \n",
        "\n",
        "преступности стало увеличение штата полицейских, и сократить часть правоохранителей, чтобы снизить уровень преступности."
      ]
    },
    {
      "cell_type": "markdown",
      "metadata": {
        "id": "nbPvHdQ-KP6O"
      },
      "source": [
        "Если  ковариация не равна нулю, две случайные величины зависимы."
      ]
    },
    {
      "cell_type": "markdown",
      "metadata": {
        "id": "EbGcE3NeKP6Q"
      },
      "source": [
        "Высокая **корреляция** двух величин может свидетельствовать о том, что у них есть **общая причина** — несмотря на то, что \n",
        "\n",
        "прямого взаимодействия между двумя коррелирующими величинами нет. Например, наступление зимы может быть причиной и  роста \n",
        "\n",
        "заболеваемости простудой, и повышения расходов на отопление. Это как раз тот случай, когда две величины (число \n",
        "\n",
        "заболевших и расходы на отопление) коррелируют между собой, хотя они друг на друга напрямую не влияют.\n",
        "\n",
        "Зато у них есть общая причина — зимний сезон."
      ]
    },
    {
      "cell_type": "markdown",
      "metadata": {
        "id": "1G-oFP8LKP6R"
      },
      "source": [
        "Отсутствие корреляции между двумя величинами еще не говорит о том, что между показателями нет связи. \n",
        "\n",
        "Вполне возможно, что между признаками есть нелинейная зависимость, которую не может уловить коэффициент корреляции."
      ]
    },
    {
      "cell_type": "markdown",
      "metadata": {
        "id": "FRgWU11_KP6U"
      },
      "source": [
        "**Показатели корреляции**"
      ]
    },
    {
      "cell_type": "markdown",
      "metadata": {
        "id": "0hXxVoFuKP6V"
      },
      "source": [
        "В зависимости от характера переменных можно выбрать подходящий метод вычисления коэффициента корреляции.\n",
        "\n",
        "Для интервальных и количественных признаков используется коэффициент корреляции Пирсона ($r$), относящийся \n",
        "\n",
        "к параметрическим показателям корреляции. Если хотя бы один из двух признаков — порядковый \n",
        "\n",
        "или его распределение не является нормальным, применяют ранговую корреляцию Спирмена или $\\tau$ (тау) Кендалла — \n",
        "\n",
        "непараметрические показатели корреляции. "
      ]
    },
    {
      "cell_type": "markdown",
      "metadata": {
        "id": "i1J_ym-RKP6X"
      },
      "source": [
        "**Ковариация**"
      ]
    },
    {
      "cell_type": "markdown",
      "metadata": {
        "id": "uf6rvhfVKP6a"
      },
      "source": [
        "Ковариация, или корреляционный момент — параметрический показатель, позволяющий судить о совместном распределении \n",
        "\n",
        "двух признаков. Равна математическому ожиданию произведения отклонений случайных величин:"
      ]
    },
    {
      "cell_type": "markdown",
      "metadata": {
        "id": "l46rvHB5KP6f"
      },
      "source": [
        "$$cov_{XY} = M[(X - M(X))(Y - M(Y))] = M(XY) - M(X)M(Y)=\\overline{X \\cdot Y} - \\overline{X} \\cdot \\overline{Y}$$\n",
        "\n",
        "```\n",
        "# Выбран кодовый формат\n",
        "```\n",
        "\n"
      ]
    },
    {
      "cell_type": "markdown",
      "metadata": {
        "id": "yJVQYCbeKP6j"
      },
      "source": [
        "где $M$ — математическое ожидание, $\\overline{X} \\: и \\:\\overline{Y}$ — среднее значение выборок."
      ]
    },
    {
      "cell_type": "markdown",
      "metadata": {
        "id": "bRr95fd-KP6o"
      },
      "source": [
        "Размерность ковариации, которая равна произведению размерности случайных величин, имеет их масштаб, \n",
        "\n",
        "то есть величина ковариации зависит от единиц измерения независимых величин. В связи с этим ковариацию затруднительно \n",
        "\n",
        "применять для корреляционного анализа."
      ]
    },
    {
      "cell_type": "markdown",
      "metadata": {
        "id": "znWligpAKP6r"
      },
      "source": [
        "Зная ковариацию и среднее квадратичное отклонение каждого из двух признаков, можно вычислить коэффициент корреляции Пирсона:"
      ]
    },
    {
      "cell_type": "markdown",
      "metadata": {
        "id": "LkSxJhDYKP6u"
      },
      "source": [
        "$$r_{XY} = \\frac{cov_{XY}}{\\sigma_{X}\\sigma_{Y}}$$"
      ]
    },
    {
      "cell_type": "markdown",
      "metadata": {
        "id": "TgaYK2I-KP6w"
      },
      "source": [
        "**Корреляционный анализ**"
      ]
    },
    {
      "cell_type": "markdown",
      "metadata": {
        "id": "hjSiZTGUKP6y"
      },
      "source": [
        "Корреляционный анализ — метод обработки статистических данных, благодаря которому можно определить тесноту связи между\n",
        "\n",
        "несколькими показателями. Корреляционный анализ имеет тесную связь с регрессионным. Такой анализ принято называть \n",
        "\n",
        "корреляционно-регрессионным — используя его, можно определять включение и исключение показателей в уравнение \n",
        "\n",
        "множественной регрессии. А применяя коэффициент детерминации — проводить оценку полученного уравнение регрессии на соответствие \n",
        "\n",
        "выявленным связям."
      ]
    },
    {
      "cell_type": "markdown",
      "metadata": {
        "id": "A8aXQIbxKP61"
      },
      "source": [
        "**Ограничения корреляционного анализа**"
      ]
    },
    {
      "cell_type": "markdown",
      "metadata": {
        "id": "BnLGTC0LKP64"
      },
      "source": [
        "Рассмотрим следующие ограничения корреляционного анализа:\n",
        "\n",
        "1. Чтобы применять корреляционный анализ, требуется большое количество наблюдений.\n",
        "\n",
        "\n",
        "2. Совокупность факторных признаков и результирующего признака должна иметь многомерное нормальное распределение.\n",
        "\n",
        "\n",
        "3. Несмотря на простоту и наглядность метода, он не позволяет точно установить наличие причинно-следственной связи."
      ]
    },
    {
      "cell_type": "markdown",
      "metadata": {
        "id": "mAlAKIUfKP66"
      },
      "source": [
        "Корреляционный анализ используется во многих сферах: экономике, астрофизике, психологии, политологии и социологии.\n",
        "    \n",
        "Данный метод обработки информации популярен, так как прост в расчете и интерпретации,\n",
        "\n",
        "удобен при обработке статистической информации."
      ]
    },
	{
      "cell_type": "markdown",
      "metadata": {
        "id": "4fKVoFlAVV-j"
      },
      "source": [
        "### Многомерный статистический анализ. Линейная регрессия"
      ]
    },
    {
      "cell_type": "markdown",
      "metadata": {
        "collapsed": true,
        "id": "5zgH9DMZVV-m"
      },
      "source": [
        "Часто в статистике анализируют **многомерные** наблюдения, то есть имеющие несколько признаков.\n",
        "\n",
        "Для этого применяют многомерный статистический анализ. Особенно часто его используют, когда нужно:\n",
        "\n",
        "* изучить зависимость между признаками;\n",
        "* классифицировать объекты с множеством признаков;\n",
        "* понизить размерность пространства признаков (если их слишком много и нет возможности отсеять часть)."
      ]
    },
    {
      "cell_type": "markdown",
      "metadata": {
        "collapsed": true,
        "id": "AQDbycHsVV-p"
      },
      "source": [
        "#### Линейная регрессия"
      ]
    },
    {
      "cell_type": "markdown",
      "metadata": {
        "collapsed": true,
        "id": "USkzHeDZVV-r"
      },
      "source": [
        "Рассмотрим связь между одной причиной $x$ и следствием $y$, то есть парную регрессию. Исходными данными являются $n$ значений \n",
        "\n",
        "фактора $x$ и соответствующие значения результативной величины $y$. Считаем, что связь между $x$ и $y$ описывается линейной\n",
        "\n",
        "функцией:"
      ]
    },
    {
      "cell_type": "markdown",
      "metadata": {
        "collapsed": true,
        "id": "De_v3D-bVV-u"
      },
      "source": [
        "$$y = a + bx$$"
      ]
    },
    {
      "cell_type": "markdown",
      "metadata": {
        "id": "xt_v2879VV-x"
      },
      "source": [
        "Для отдельного наблюдения имеем соотношение: $y_i = a + bx_i + \\varepsilon_i$, где:\n",
        "\n",
        "* $a$ и $b$ — коэффициенты регрессии;"
      ]
    },
    {
      "cell_type": "markdown",
      "metadata": {
        "id": "X0KsabZnVV-1"
      },
      "source": [
        "* $\\varepsilon_i \\; $—  так называемый остаток — независимая случайная величина, имеющая нормальное распределение с математическим \n",
        "ожиданием, равным нулю, и постоянной дисперсией. \n",
        "\n",
        "То есть это ошибка, которую будет допускать модель из-за того, что изменение признака $x$\n",
        "не всегда точно будет отражать \n",
        "изменение $y$. Значит в модели не будут учтены пока неизвестные факторы."
      ]
    },
    {
      "cell_type": "markdown",
      "metadata": {
        "id": "ThmJCMj-VV-7"
      },
      "source": [
        "\n",
        "\n",
        "```\n",
        "# Выбран кодовый формат\n",
        "```\n",
        "\n",
        "Коэффициенты уравнения линейной регрессии можно найти следующим образом:"
      ]
    },
    {
      "cell_type": "markdown",
      "metadata": {
        "id": "5jpndXoH9ZvG"
      },
      "source": []
    },
    {
      "cell_type": "markdown",
      "metadata": {
        "id": "grN67iKpVV--"
      },
      "source": [
        "$$b = \\frac{\\overline{yx} - \\overline{y} \\cdot {\\overline{x}}}{\\overline{x^2} - (\\overline{x})^2};$$"
      ]
    },
    {
      "cell_type": "markdown",
      "metadata": {
        "id": "gPAIXETsVV_C"
      },
      "source": [
        "$$a = \\overline{y} - b \\cdot {\\overline{x}}.$$"
      ]
    },
    {
      "cell_type": "markdown",
      "metadata": {
        "id": "C_rj8cVOVV_F"
      },
      "source": [
        "С помощью коэффициента корреляции можно узнать, насколько тесна линейная связь между переменными:\n"
      ]
    },
    {
      "cell_type": "markdown",
      "metadata": {
        "id": "joniC-PwVV_H"
      },
      "source": [
        "\n",
        "\n",
        "$$r_{xy} = \\frac{\\sum\\limits_{i=1}^{n} (x_i - \\overline{x})(y_i - \\overline{y})} {\\sqrt{\\sum\\limits_{i=1}^{n} (x_i - \\overline{x})^2 \\cdot {\\sum\\limits_{i=1}^{n} (y_i - \\overline{y})^2}}} = b \\cdot {\\frac{\\sigma_x}{\\sigma_y}}$$"
      ]
    },
    {
      "cell_type": "markdown",
      "metadata": {
        "id": "zDK2FHljVV_M"
      },
      "source": [
        "где $n$ — объем выборки;"
      ]
    },
    {
      "cell_type": "markdown",
      "metadata": {
        "id": "4_iSHBmQVV_Q"
      },
      "source": [
        "$\\overline{x} = \\frac{1}{n} \\sum\\limits_{i=1}^{n} x_i$ и $\\overline{y} = \\frac{1}{n} \\sum\\limits_{i=1}^{n} y_i$ — выборочные средние."
      ]
    },
    {
      "cell_type": "markdown",
      "metadata": {
        "id": "zg9XW-JEVV_U"
      },
      "source": [
        "\n",
        "\n",
        "\n",
        "\n",
        "\n",
        "Узнать, насколько велика связь между переменными $x$ и $y$, можно через коэффициент детерминации. Его можно посчитать\n",
        "\n",
        "как квадрат коэффициента корреляции:"
      ]
    },
    {
      "cell_type": "markdown",
      "metadata": {
        "id": "NZHJPivXVV_X"
      },
      "source": [
        "$$R^2 = r^{2}_{xy}$$"
      ]
    },
    {
      "cell_type": "markdown",
      "metadata": {
        "id": "j4EVvYhkVV_e"
      },
      "source": [
        "Коэффициент детерминации принимает значения до 1 включительно и показывает долю вариации результативного признака $y$ \n",
        "\n",
        "под влиянием признака $x$."
      ]
    },
    {
      "cell_type": "markdown",
      "metadata": {
        "id": "Z_iVYtYPVV_h"
      },
      "source": [
        "С помощью средней ошибки аппроксимации можно оценить качество работы модели:"
      ]
    },
    {
      "cell_type": "markdown",
      "metadata": {
        "id": "54mVaa3sVV_k"
      },
      "source": [
        "$$\\overline{A} = \\frac{1}{n} \\sum\\limits_{i=1}^{n} \\Bigl |{{\\frac{y_i - \\hat{y}_i}{y_i}} \\Bigr |} \\cdot{100\\%}$$"
      ]
    },
    {
      "cell_type": "markdown",
      "metadata": {
        "id": "ww_GrZinVV_n"
      },
      "source": [
        "если $\\overline{A}$ не превышает 8-10 %, можно сказать, что теоретические значения близки к тем, которые выдает модель \n",
        "\n",
        "линейной регрессии."
      ]
    },
    {
      "cell_type": "markdown",
      "metadata": {
        "id": "MjJ3CBxSVV_q"
      },
      "source": [
        "**F-критерий Фишера** позволяет оценить значимость уравнения линейной регрессии в целом."
      ]
    },
    {
      "cell_type": "markdown",
      "metadata": {
        "id": "aVNmzQYfVV_s"
      },
      "source": [
        "Фактическую величину F-критерия для парной линейной регрессии (когда есть только один факторный признак)\n",
        "\n",
        "можно вычислить по формуле, включающей коэффициент детерминации:"
      ]
    },
    {
      "cell_type": "markdown",
      "metadata": {
        "id": "OAN52VMgVV_v"
      },
      "source": [
        "$$F_{факт} = \\frac{r_{xy}^{2} \\cdot (n - 2)}{(1 - r_{xy}^{2})}$$"
      ]
    },
    {
      "cell_type": "markdown",
      "metadata": {
        "id": "WsYRUjkKVV_3"
      },
      "source": [
        "где $k_1$ и $k_2$ — это степени свободы, $k_1$ — количество факторных признаков (для парной линейной регрессии оно равно 1).\n",
        "\n",
        "$k_2$ = $n - k - 1$, где $n$ — это число наблюдений и $k$ — число факторных признаков (для парной линейной регрессии $k_2 = n - 2$, \n",
        "\n",
        "то есть числу наблюдений, уменьшенному на 2)."
      ]
    },
    {
      "cell_type": "markdown",
      "metadata": {
        "id": "wE7G-VW9VV_5"
      },
      "source": [
        "Таблицу значений F-критерия Фишера ($F_{кр}$) можно посмотреть по ссылке: <a href='https://www.chem-astu.ru/science/reference/F-statistic.html'>Таблица критерия Фишера</a>"
      ]
    },
    {
      "cell_type": "markdown",
      "metadata": {
        "id": "4gyc8-NnVV_8"
      },
      "source": [
        "Если $F_{факт} > F_{кр}$, то уравнение регрессии признается статистически значимым."
      ]
    },
    {
      "cell_type": "markdown",
      "metadata": {
        "id": "bkORUteXVV_-"
      },
      "source": [
        "Формула для большего числа признаков:"
      ]
    },
    {
      "cell_type": "markdown",
      "metadata": {
        "id": "9OvKeun8VWAB"
      },
      "source": [
        "$$F_{факт} = \\frac{r_{xy}^{2}}{(1 - r_{xy}^{2})} \\cdot \\frac{k_2}{k_1}$$"
      ]
    },
    {
      "cell_type": "markdown",
      "metadata": {
        "id": "mQnZdrNJVWAD"
      },
      "source": [
        "**Стандартная ошибка** $s_{ост}$ рассчитывается по формуле:"
      ]
    },
    {
      "cell_type": "markdown",
      "metadata": {
        "id": "_UJtAFa1VWAG"
      },
      "source": [
        "$$S_{ост} = \\sqrt{\\frac{\\sum\\limits_{i=1}^{n}(y_i - \\hat{y}_i)^2}{n - 2}}$$"
      ]
    },
    {
      "cell_type": "markdown",
      "metadata": {
        "id": "OQ4TKY9SVWAK"
      },
      "source": [
        "*Оценка* статистической значимости параметров регрессии проводится с помощью  **t-статистики Стьюдента** и путем расчета \n",
        "\n",
        "доверительного интервала каждого из показателей."
      ]
    },
    {
      "cell_type": "markdown",
      "metadata": {
        "id": "a9FdSqNPVWAN"
      },
      "source": [
        "Чтобы найти табличное значение $t$-статистики Стьюдента, нужно знать число степеней свободы и уровень значимости $\\alpha$."
      ]
    },
    {
      "cell_type": "markdown",
      "metadata": {
        "id": "EzY8vjpRVWAQ"
      },
      "source": [
        "*Значение* уровня значимости $\\alpha$ выбирается статистиком произвольно (например, это может быть значение 0.05).\n",
        "\n",
        "Число степеней свободы равно $df = n - m -1$, где $n$ — число наблюдений и $m$ — число признаков (факторов).\n",
        "\n",
        "Например, для парной регрессии число степеней свободы будет равно $n - 2$."
      ]
    },
    {
      "cell_type": "markdown",
      "metadata": {
        "id": "owczfmwxVWAT"
      },
      "source": [
        "Наблюдаемые значения критерия $t_a = \\frac{a}{m_a}$ и $t_b = \\frac{b}{m_b}$ сравниваются с табличными (при двухсторонней критической области):"
      ]
    },
    {
      "cell_type": "markdown",
      "metadata": {
        "id": "cVXag8OhVWAX"
      },
      "source": [
        "$$t_{кр} = \\mp T \\Bigl ( 1 - \\frac{\\alpha}{2}; \\; n - 2 \\Bigr )$$"
      ]
    },
    {
      "cell_type": "markdown",
      "metadata": {
        "id": "4qteIbkZVWAZ"
      },
      "source": [
        "Если расчетное значение критерия $t_a$, $t_b$ больше табличного значения $t_{кр}$ при заданном  уровне значимости $\\alpha$ (0,1; 0,05; 0,01), \n",
        "\n",
        "то коэффициент регрессии считается значимым. Cлучайные ошибки $m_a$, $m_b$ находятся по формулам:"
      ]
    },
    {
      "cell_type": "markdown",
      "metadata": {
        "id": "CkJE9RrHVWAe"
      },
      "source": [
        "$$m_a  = S_{ост} \\cdot {\\frac{\\sqrt{\\sum{x^2}}}{n \\cdot {\\sigma_x}}}$$"
      ]
    },
    {
      "cell_type": "markdown",
      "metadata": {
        "id": "uG7WxPpcVWAi"
      },
      "source": [
        "$$m_b = \\frac{S_{ост}}{\\sigma_x \\cdot{\\sqrt{n}}}$$"
      ]
    },
    {
      "cell_type": "markdown",
      "metadata": {
        "id": "zpJ4o3mgVWAp"
      },
      "source": [
        "Далее необходимо найти доверительные интервалы для параметров регрессии $a$ и $b$.   Рассчитываем предельную ошибку для каждого показателя:"
      ]
    },
    {
      "cell_type": "markdown",
      "metadata": {
        "id": "0oF3BQiRVWA1"
      },
      "source": [
        "$$\\Delta_a = t_{кр} \\cdot m_a; \\; \\Delta_b = t_{кр} \\cdot m_b.$$"
      ]
    },
    {
      "cell_type": "markdown",
      "metadata": {
        "id": "BcDzuuFCVWA7"
      },
      "source": [
        "Доверительные интервалы:"
      ]
    },
    {
      "cell_type": "markdown",
      "metadata": {
        "id": "vBLhCg7OVWA-"
      },
      "source": [
        "$$\\gamma_a = a \\pm \\Delta_a; \\; \\gamma_b = b \\pm \\Delta_b.$$"
      ]
    },
    {
      "cell_type": "markdown",
      "metadata": {
        "id": "LGdvpWQmVWBA"
      },
      "source": [
        "**Пример 1**"
      ]
    },
    {
      "cell_type": "markdown",
      "metadata": {
        "id": "xFyCeSbsVWBE"
      },
      "source": [
        "Возьмем исходные данные для расчета параметров. Это будут значения площадей квартир в квадратных метрах (массив $x$) \n",
        "\n",
        "и цены на эти квартиры в тысячах долларов (массив $y$), приведеннные для 12 наблюдений."
      ]
    },
    {
      "cell_type": "markdown",
      "metadata": {
        "id": "cWNyeSfjVWBH"
      },
      "source": [
        "Необходимо построить уравнение парной линейной регрессии, оценить ее точность и адекватность. Создадим массивы $x$ и $y$:"
      ]
    },
    {
      "cell_type": "code",
      "execution_count": null,
      "metadata": {
        "id": "8kLkCTNMVWBL"
      },
      "outputs": [],
      "source": [
        "import numpy as np\n",
        "\n",
        "# количество наблюдений\n",
        "n = 12\n",
        "\n",
        "x = np.array([80, 90, 85, 115, 85, 85, 90, 80, 105, 110, 65, 100], dtype=np.float64)\n",
        "y = np.array([150, 160, 155, 175, 140, 150, 140, 155, 165, 190, 140, 165], dtype=np.float64)"
      ]
    },
    {
      "cell_type": "markdown",
      "metadata": {
        "collapsed": true,
        "id": "eIcZNHliVWBW"
      },
      "source": [
        "Для нахождения коэффициентов регрессии $a$ и $b$ воспользуемся приведенными выше формулами:"
      ]
    },
    {
      "cell_type": "code",
      "execution_count": null,
      "metadata": {
        "colab": {
          "base_uri": "https://localhost:8080/"
        },
        "id": "r1mT4pdSVWBY",
        "outputId": "2cfd8173-efaa-4cfe-a869-bbce2ed4bed2"
      },
      "outputs": [
        {
          "data": {
            "text/plain": [
              "0.8717472118959082"
            ]
          },
          "execution_count": 2,
          "metadata": {
            "tags": []
          },
          "output_type": "execute_result"
        }
      ],
      "source": [
        "b = (np.mean(x * y) - np.mean(x) * np.mean(y)) / (np.mean(x**2) - np.mean(x) ** 2)\n",
        "b"
      ]
    },
    {
      "cell_type": "code",
      "execution_count": null,
      "metadata": {
        "colab": {
          "base_uri": "https://localhost:8080/"
        },
        "id": "3eenHRuhVWBl",
        "outputId": "256fb08a-ba18-446c-8b4d-fc099a7cf550"
      },
      "outputs": [
        {
          "data": {
            "text/plain": [
              "77.89962825278835"
            ]
          },
          "execution_count": 3,
          "metadata": {
            "tags": []
          },
          "output_type": "execute_result"
        }
      ],
      "source": [
        "a = np.mean(y) - b * np.mean(x)\n",
        "a"
      ]
    },
    {
      "cell_type": "markdown",
      "metadata": {
        "collapsed": true,
        "id": "F4wExIGGVWBv"
      },
      "source": [
        "Итак, уравнение регрессии имеет вид (коэффициенты округлены до сотых):"
      ]
    },
    {
      "cell_type": "markdown",
      "metadata": {
        "collapsed": true,
        "id": "EAnsjUv4VWB0"
      },
      "source": [
        "$$y = 77.9 + 0.87 \\cdot x$$"
      ]
    },
    {
      "cell_type": "markdown",
      "metadata": {
        "id": "GSvgSj2WVWB2"
      },
      "source": [
        "С увеличением площади квартиры на 1 квадратный метр цена возрастет на 0.87 тысячи долларов."
      ]
    },
    {
      "cell_type": "markdown",
      "metadata": {
        "id": "Jj60_kNBVWB4"
      },
      "source": [
        "Найдем коэффициент корреляции $r$ с помощью коэффициента $b$ и средних квадратического отклонения, посчитанного для массивов $x$ и $y$:"
      ]
    },
    {
      "cell_type": "code",
      "execution_count": null,
      "metadata": {
        "colab": {
          "base_uri": "https://localhost:8080/"
        },
        "id": "-rzWVsRKVWB5",
        "outputId": "7ba70887-1517-47cc-f732-c0eba7049127"
      },
      "outputs": [
        {
          "data": {
            "text/plain": [
              "0.8217214638352004"
            ]
          },
          "execution_count": 4,
          "metadata": {
            "tags": []
          },
          "output_type": "execute_result"
        }
      ],
      "source": [
        "r = b * np.std(x) / np.std(y)\n",
        "r"
      ]
    },
    {
      "cell_type": "markdown",
      "metadata": {
        "id": "yCebK69XVWCC"
      },
      "source": [
        "Найдем коэффициент детерминации $R^2$:"
      ]
    },
    {
      "cell_type": "code",
      "execution_count": null,
      "metadata": {
        "colab": {
          "base_uri": "https://localhost:8080/"
        },
        "id": "0ooklfCzVWCD",
        "outputId": "329a326f-35a6-440a-c82c-eac89b8538d9"
      },
      "outputs": [
        {
          "data": {
            "text/plain": [
              "0.6752261641274645"
            ]
          },
          "execution_count": 5,
          "metadata": {
            "tags": []
          },
          "output_type": "execute_result"
        }
      ],
      "source": [
        "R2 = r**2\n",
        "R2"
      ]
    },
    {
      "cell_type": "markdown",
      "metadata": {
        "id": "UNooD5xJVWCP"
      },
      "source": [
        "Это означает, что 67.5% вариации цены на квартиру ($y$) объясняется вариацией фактора $x$ — площади квартиры."
      ]
    },
    {
      "cell_type": "markdown",
      "metadata": {
        "id": "RgW1rXkEVWCR"
      },
      "source": [
        "С помощью этого уравнения регрессии посчитаем значения, предсказанные моделью значения цен на квартиры:"
      ]
    },
    {
      "cell_type": "code",
      "execution_count": null,
      "metadata": {
        "colab": {
          "base_uri": "https://localhost:8080/"
        },
        "id": "1pStjYk9VWCS",
        "outputId": "67f28152-dde5-40c2-f347-5116d8d9d5e3"
      },
      "outputs": [
        {
          "data": {
            "text/plain": [
              "array([147.6394052 , 156.35687732, 151.99814126, 178.15055762,\n",
              "       151.99814126, 151.99814126, 156.35687732, 147.6394052 ,\n",
              "       169.4330855 , 173.79182156, 134.56319703, 165.07434944])"
            ]
          },
          "execution_count": 6,
          "metadata": {
            "tags": []
          },
          "output_type": "execute_result"
        }
      ],
      "source": [
        "y_pred = a + b * x\n",
        "y_pred"
      ]
    },
    {
      "cell_type": "markdown",
      "metadata": {
        "id": "ymhf8BfBVWCc"
      },
      "source": [
        "Качество модели найдем с помощью средней ошибки аппроксимации $\\overline {A}$:"
      ]
    },
    {
      "cell_type": "code",
      "execution_count": null,
      "metadata": {
        "id": "bv3vJejlVWCg",
        "outputId": "37345701-3c7a-439c-a8d8-b41b796f3364"
      },
      "outputs": [
        {
          "data": {
            "text/plain": [
              "4.0889968858542218"
            ]
          },
          "execution_count": 156,
          "metadata": {
            "tags": []
          },
          "output_type": "execute_result"
        }
      ],
      "source": [
        "A_mean = 100 * np.mean(np.abs((y - y_pred) / y))\n",
        "A_mean"
      ]
    },
    {
      "cell_type": "markdown",
      "metadata": {
        "id": "2lpGd6eKVWCw"
      },
      "source": [
        "Так как $\\overline {A}$ равна 4%, что не превышает 8-10 %, модель хорошо описывает эмпирические данные. Для оценки значимости \n",
        "\n",
        "уравнения регрессии воспользуемся F-критерием Фишера. Найдем фактическое значение $F$-критерия ($F_{факт}$):"
      ]
    },
    {
      "cell_type": "code",
      "execution_count": null,
      "metadata": {
        "id": "2s_12smQVWC0",
        "outputId": "d64e2a92-3d60-43b9-d7a1-ef349f56a542"
      },
      "outputs": [
        {
          "data": {
            "text/plain": [
              "20.790657668386551"
            ]
          },
          "execution_count": 157,
          "metadata": {
            "tags": []
          },
          "output_type": "execute_result"
        }
      ],
      "source": [
        "F_fact = (r**2 * (n - 2)) / (1 - r**2)\n",
        "F_fact"
      ]
    },
    {
      "cell_type": "markdown",
      "metadata": {
        "id": "tRrc_mzoVWC9"
      },
      "source": [
        "При 5 % уровне значимости и степенях свободы $k_1 = 1$ и $k_2 = 12 - 2 = 10$ табличное значение критерия: $F_{кр} = 4.96$.\n",
        "\n",
        "Так как $F_{факт} = 20.79 > F_{кр} = 4.96$, уравнение регрессии статистически значимо."
      ]
    },
    {
      "cell_type": "markdown",
      "metadata": {
        "id": "7AW4TKZLVWDC"
      },
      "source": [
        "Для оценки статистической значимости параметров регрессии воспользуемся $t$-статистикой Стьюдента и также рассчитаем \n",
        "\n",
        "доверительные интервалы каждого из показателей. При $df = n - 2 = 12 - 2 = 10$ и $\\alpha = 0.05$ получим\n",
        "\n",
        "(см. <a href='https://statpsy.ru/t-student/t-test-tablica/'>Таблицу критических значений t-критерия Стьюдента</a>):"
      ]
    },
    {
      "cell_type": "markdown",
      "metadata": {
        "id": "0R9OLU3rVWDE"
      },
      "source": [
        "$$t_{кр} = 2.228$$"
      ]
    },
    {
      "cell_type": "markdown",
      "metadata": {
        "id": "KolP5udaVWDH"
      },
      "source": [
        "Определим стандартную ошибку $S_{ост}$ (переменная **s_residual**) и случайные ошибки $m_a, \\; m_b$:"
      ]
    },
    {
      "cell_type": "code",
      "execution_count": null,
      "metadata": {
        "id": "y7ZtBGJXVWDI",
        "outputId": "d28f0a73-ddc5-4152-e9fd-6686aec76bf0"
      },
      "outputs": [
        {
          "name": "stdout",
          "output_type": "stream",
          "text": [
            "s_residual = 9.051946328939835\n",
            "m_a = 17.5615702861546\n",
            "m_b = 0.19118616125822904\n"
          ]
        }
      ],
      "source": [
        "s_residual = np.sqrt(np.sum((y - y_pred)**2) / (n - 2))\n",
        "m_a = s_residual * np.sqrt(np.sum(x ** 2)) / (n * np.std(x))\n",
        "m_b = s_residual / (np.std(x) * np.sqrt(n))\n",
        "\n",
        "print('s_residual = {}\\nm_a = {}\\nm_b = {}'.format(s_residual, m_a, m_b))"
      ]
    },
    {
      "cell_type": "markdown",
      "metadata": {
        "id": "mrYy3Z2JVWDQ"
      },
      "source": [
        "Вычислим наблюдаемые значения критерия $t_a$ и $t_b$:"
      ]
    },
    {
      "cell_type": "code",
      "execution_count": null,
      "metadata": {
        "id": "7F0Yci-HVWDS",
        "outputId": "4189e74c-8d82-4d7d-8d8f-d08ae828b8d3"
      },
      "outputs": [
        {
          "data": {
            "text/plain": [
              "4.4358008414659702"
            ]
          },
          "execution_count": 159,
          "metadata": {
            "tags": []
          },
          "output_type": "execute_result"
        }
      ],
      "source": [
        "t_a = a / m_a\n",
        "t_a"
      ]
    },
    {
      "cell_type": "code",
      "execution_count": null,
      "metadata": {
        "id": "UfXZXkmpVWDd",
        "outputId": "45e8fba5-84b1-4e1c-c21a-78968c272c9b"
      },
      "outputs": [
        {
          "data": {
            "text/plain": [
              "4.5596773645058288"
            ]
          },
          "execution_count": 160,
          "metadata": {
            "tags": []
          },
          "output_type": "execute_result"
        }
      ],
      "source": [
        "t_b = b / m_b\n",
        "t_b"
      ]
    },
    {
      "cell_type": "markdown",
      "metadata": {
        "id": "qNAXIaijVWDk"
      },
      "source": [
        "Фактические значения t-статистики больше табличного значения:"
      ]
    },
    {
      "cell_type": "markdown",
      "metadata": {
        "id": "wGlkWCg2VWDl"
      },
      "source": [
        "$$t_a = 4.44 > t_{кр} = 2.228, \\; t_b = 4.56 > t_{кр} = 2.228,$$"
      ]
    },
    {
      "cell_type": "markdown",
      "metadata": {
        "id": "8kwL6vR_VWDp"
      },
      "source": [
        "поэтому параметры $a$ и $b$ не случайно отличаются от нуля, то есть они статистически значимы."
      ]
    },
    {
      "cell_type": "markdown",
      "metadata": {
        "id": "uc7Zz2h1VWDr"
      },
      "source": [
        "Рассчитаем доверительные интервалы для параметров регрессии $a$ и $b$. Для этого определим предельную ошибку для каждого показателя ($\\Delta_a$ и $\\Delta_b$),\n",
        "\n",
        "используя значение $t_{кр}$, равное 2.228 (переменная **t_cr**):"
      ]
    },
    {
      "cell_type": "code",
      "execution_count": null,
      "metadata": {
        "id": "pW5Qj3ryVWDt"
      },
      "outputs": [],
      "source": [
        "t_cr = 2.228"
      ]
    },
    {
      "cell_type": "code",
      "execution_count": null,
      "metadata": {
        "id": "wfIm3E5xVWDy",
        "outputId": "d4a9f8de-fbbe-4763-951e-c62495b79bc4"
      },
      "outputs": [
        {
          "data": {
            "text/plain": [
              "40.040380252432477"
            ]
          },
          "execution_count": 162,
          "metadata": {
            "tags": []
          },
          "output_type": "execute_result"
        }
      ],
      "source": [
        "delta_a = t_cr * m_a\n",
        "delta_a"
      ]
    },
    {
      "cell_type": "code",
      "execution_count": null,
      "metadata": {
        "id": "gF3fKd8OVWD5",
        "outputId": "7f6bfc7d-2bbe-4043-f6ff-84eef9cf8a77"
      },
      "outputs": [
        {
          "data": {
            "text/plain": [
              "0.43590444766876218"
            ]
          },
          "execution_count": 163,
          "metadata": {
            "tags": []
          },
          "output_type": "execute_result"
        }
      ],
      "source": [
        "delta_b = t_cr * m_b\n",
        "delta_b"
      ]
    },
    {
      "cell_type": "markdown",
      "metadata": {
        "id": "sHUTKIhTVWD-"
      },
      "source": [
        "Найдем границы доверительных интервалов $\\gamma_{a_{min}}, \\gamma_{a_{max}}, \\gamma_{b_{min}}, \\gamma_{b_{max}}$:"
      ]
    },
    {
      "cell_type": "code",
      "execution_count": null,
      "metadata": {
        "id": "mv8YJBn6VWEB",
        "outputId": "04bd75a0-b0ee-4a86-e29a-75a94bebbc38"
      },
      "outputs": [
        {
          "data": {
            "text/plain": [
              "37.859248000355869"
            ]
          },
          "execution_count": 164,
          "metadata": {
            "tags": []
          },
          "output_type": "execute_result"
        }
      ],
      "source": [
        "gamma_a_min = a - delta_a\n",
        "gamma_a_min"
      ]
    },
    {
      "cell_type": "code",
      "execution_count": null,
      "metadata": {
        "id": "K7kHFohfVWER",
        "outputId": "b1fe9679-3ccb-4c06-dd2b-888e3cc8a4ea"
      },
      "outputs": [
        {
          "data": {
            "text/plain": [
              "117.94000850522082"
            ]
          },
          "execution_count": 165,
          "metadata": {
            "tags": []
          },
          "output_type": "execute_result"
        }
      ],
      "source": [
        "gamma_a_max = a + delta_a\n",
        "gamma_a_max"
      ]
    },
    {
      "cell_type": "code",
      "execution_count": null,
      "metadata": {
        "id": "adNd5XPZVWEZ",
        "outputId": "96112003-d302-454f-b790-42f493d092ca"
      },
      "outputs": [
        {
          "data": {
            "text/plain": [
              "0.43584276422714602"
            ]
          },
          "execution_count": 166,
          "metadata": {
            "tags": []
          },
          "output_type": "execute_result"
        }
      ],
      "source": [
        "gamma_b_min = b - delta_b\n",
        "gamma_b_min"
      ]
    },
    {
      "cell_type": "code",
      "execution_count": null,
      "metadata": {
        "id": "QYwAhhdHVWEf",
        "outputId": "0d80891f-a7c9-4e5a-fb74-f7ac1454d583"
      },
      "outputs": [
        {
          "data": {
            "text/plain": [
              "1.3076516595646703"
            ]
          },
          "execution_count": 167,
          "metadata": {
            "tags": []
          },
          "output_type": "execute_result"
        }
      ],
      "source": [
        "gamma_b_max = b + delta_b\n",
        "gamma_b_max"
      ]
    },
    {
      "cell_type": "markdown",
      "metadata": {
        "id": "KzUe1mDhVWEk"
      },
      "source": [
        "Приходим к выводу о том, что с вероятностью $p = 1 - \\alpha = 0.95$ параметры $a$ и $b$, находясь в указанных границах, \n",
        "\n",
        "являются статистически значимыми и отличны от нуля. Поместим исходные и предсказанные данные в датафрейм **df**:"
      ]
    },
    {
      "cell_type": "code",
      "execution_count": null,
      "metadata": {
        "id": "Addxji38VWEm",
        "outputId": "b837fbcb-18b7-48c2-ada8-cda8ff7db702"
      },
      "outputs": [
        {
          "data": {
            "text/html": [
              "<div>\n",
              "<style scoped>\n",
              "    .dataframe tbody tr th:only-of-type {\n",
              "        vertical-align: middle;\n",
              "    }\n",
              "\n",
              "    .dataframe tbody tr th {\n",
              "        vertical-align: top;\n",
              "    }\n",
              "\n",
              "    .dataframe thead th {\n",
              "        text-align: right;\n",
              "    }\n",
              "</style>\n",
              "<table border=\"1\" class=\"dataframe\">\n",
              "  <thead>\n",
              "    <tr style=\"text-align: right;\">\n",
              "      <th></th>\n",
              "      <th>x</th>\n",
              "      <th>y</th>\n",
              "      <th>y_pred</th>\n",
              "    </tr>\n",
              "  </thead>\n",
              "  <tbody>\n",
              "    <tr>\n",
              "      <th>0</th>\n",
              "      <td>80.0</td>\n",
              "      <td>150.0</td>\n",
              "      <td>147.639405</td>\n",
              "    </tr>\n",
              "    <tr>\n",
              "      <th>1</th>\n",
              "      <td>90.0</td>\n",
              "      <td>160.0</td>\n",
              "      <td>156.356877</td>\n",
              "    </tr>\n",
              "    <tr>\n",
              "      <th>2</th>\n",
              "      <td>85.0</td>\n",
              "      <td>155.0</td>\n",
              "      <td>151.998141</td>\n",
              "    </tr>\n",
              "    <tr>\n",
              "      <th>3</th>\n",
              "      <td>115.0</td>\n",
              "      <td>175.0</td>\n",
              "      <td>178.150558</td>\n",
              "    </tr>\n",
              "    <tr>\n",
              "      <th>4</th>\n",
              "      <td>85.0</td>\n",
              "      <td>140.0</td>\n",
              "      <td>151.998141</td>\n",
              "    </tr>\n",
              "    <tr>\n",
              "      <th>5</th>\n",
              "      <td>85.0</td>\n",
              "      <td>150.0</td>\n",
              "      <td>151.998141</td>\n",
              "    </tr>\n",
              "    <tr>\n",
              "      <th>6</th>\n",
              "      <td>90.0</td>\n",
              "      <td>140.0</td>\n",
              "      <td>156.356877</td>\n",
              "    </tr>\n",
              "    <tr>\n",
              "      <th>7</th>\n",
              "      <td>80.0</td>\n",
              "      <td>155.0</td>\n",
              "      <td>147.639405</td>\n",
              "    </tr>\n",
              "    <tr>\n",
              "      <th>8</th>\n",
              "      <td>105.0</td>\n",
              "      <td>165.0</td>\n",
              "      <td>169.433086</td>\n",
              "    </tr>\n",
              "    <tr>\n",
              "      <th>9</th>\n",
              "      <td>110.0</td>\n",
              "      <td>190.0</td>\n",
              "      <td>173.791822</td>\n",
              "    </tr>\n",
              "    <tr>\n",
              "      <th>10</th>\n",
              "      <td>65.0</td>\n",
              "      <td>140.0</td>\n",
              "      <td>134.563197</td>\n",
              "    </tr>\n",
              "    <tr>\n",
              "      <th>11</th>\n",
              "      <td>100.0</td>\n",
              "      <td>165.0</td>\n",
              "      <td>165.074349</td>\n",
              "    </tr>\n",
              "  </tbody>\n",
              "</table>\n",
              "</div>"
            ],
            "text/plain": [
              "        x      y      y_pred\n",
              "0    80.0  150.0  147.639405\n",
              "1    90.0  160.0  156.356877\n",
              "2    85.0  155.0  151.998141\n",
              "3   115.0  175.0  178.150558\n",
              "4    85.0  140.0  151.998141\n",
              "5    85.0  150.0  151.998141\n",
              "6    90.0  140.0  156.356877\n",
              "7    80.0  155.0  147.639405\n",
              "8   105.0  165.0  169.433086\n",
              "9   110.0  190.0  173.791822\n",
              "10   65.0  140.0  134.563197\n",
              "11  100.0  165.0  165.074349"
            ]
          },
          "execution_count": 168,
          "metadata": {
            "tags": []
          },
          "output_type": "execute_result"
        }
      ],
      "source": [
        "import pandas as pd\n",
        "\n",
        "df = pd.DataFrame({'x': x, 'y': y, 'y_pred': y_pred}, columns=['x', 'y', 'y_pred'])\n",
        "df"
      ]
    },
    {
      "cell_type": "markdown",
      "metadata": {
        "id": "pF4NpdpYVWEt"
      },
      "source": [
        "Отсортируем значения по полю **x**:"
      ]
    },
    {
      "cell_type": "code",
      "execution_count": null,
      "metadata": {
        "id": "lX0_69KpVWEv",
        "outputId": "234284c5-6021-4c6e-b4e1-aa4b63d23915"
      },
      "outputs": [
        {
          "data": {
            "text/html": [
              "<div>\n",
              "<style scoped>\n",
              "    .dataframe tbody tr th:only-of-type {\n",
              "        vertical-align: middle;\n",
              "    }\n",
              "\n",
              "    .dataframe tbody tr th {\n",
              "        vertical-align: top;\n",
              "    }\n",
              "\n",
              "    .dataframe thead th {\n",
              "        text-align: right;\n",
              "    }\n",
              "</style>\n",
              "<table border=\"1\" class=\"dataframe\">\n",
              "  <thead>\n",
              "    <tr style=\"text-align: right;\">\n",
              "      <th></th>\n",
              "      <th>x</th>\n",
              "      <th>y</th>\n",
              "      <th>y_pred</th>\n",
              "    </tr>\n",
              "  </thead>\n",
              "  <tbody>\n",
              "    <tr>\n",
              "      <th>10</th>\n",
              "      <td>65.0</td>\n",
              "      <td>140.0</td>\n",
              "      <td>134.563197</td>\n",
              "    </tr>\n",
              "    <tr>\n",
              "      <th>0</th>\n",
              "      <td>80.0</td>\n",
              "      <td>150.0</td>\n",
              "      <td>147.639405</td>\n",
              "    </tr>\n",
              "    <tr>\n",
              "      <th>7</th>\n",
              "      <td>80.0</td>\n",
              "      <td>155.0</td>\n",
              "      <td>147.639405</td>\n",
              "    </tr>\n",
              "    <tr>\n",
              "      <th>2</th>\n",
              "      <td>85.0</td>\n",
              "      <td>155.0</td>\n",
              "      <td>151.998141</td>\n",
              "    </tr>\n",
              "    <tr>\n",
              "      <th>4</th>\n",
              "      <td>85.0</td>\n",
              "      <td>140.0</td>\n",
              "      <td>151.998141</td>\n",
              "    </tr>\n",
              "    <tr>\n",
              "      <th>5</th>\n",
              "      <td>85.0</td>\n",
              "      <td>150.0</td>\n",
              "      <td>151.998141</td>\n",
              "    </tr>\n",
              "    <tr>\n",
              "      <th>1</th>\n",
              "      <td>90.0</td>\n",
              "      <td>160.0</td>\n",
              "      <td>156.356877</td>\n",
              "    </tr>\n",
              "    <tr>\n",
              "      <th>6</th>\n",
              "      <td>90.0</td>\n",
              "      <td>140.0</td>\n",
              "      <td>156.356877</td>\n",
              "    </tr>\n",
              "    <tr>\n",
              "      <th>11</th>\n",
              "      <td>100.0</td>\n",
              "      <td>165.0</td>\n",
              "      <td>165.074349</td>\n",
              "    </tr>\n",
              "    <tr>\n",
              "      <th>8</th>\n",
              "      <td>105.0</td>\n",
              "      <td>165.0</td>\n",
              "      <td>169.433086</td>\n",
              "    </tr>\n",
              "    <tr>\n",
              "      <th>9</th>\n",
              "      <td>110.0</td>\n",
              "      <td>190.0</td>\n",
              "      <td>173.791822</td>\n",
              "    </tr>\n",
              "    <tr>\n",
              "      <th>3</th>\n",
              "      <td>115.0</td>\n",
              "      <td>175.0</td>\n",
              "      <td>178.150558</td>\n",
              "    </tr>\n",
              "  </tbody>\n",
              "</table>\n",
              "</div>"
            ],
            "text/plain": [
              "        x      y      y_pred\n",
              "10   65.0  140.0  134.563197\n",
              "0    80.0  150.0  147.639405\n",
              "7    80.0  155.0  147.639405\n",
              "2    85.0  155.0  151.998141\n",
              "4    85.0  140.0  151.998141\n",
              "5    85.0  150.0  151.998141\n",
              "1    90.0  160.0  156.356877\n",
              "6    90.0  140.0  156.356877\n",
              "11  100.0  165.0  165.074349\n",
              "8   105.0  165.0  169.433086\n",
              "9   110.0  190.0  173.791822\n",
              "3   115.0  175.0  178.150558"
            ]
          },
          "execution_count": 169,
          "metadata": {
            "tags": []
          },
          "output_type": "execute_result"
        }
      ],
      "source": [
        "df = df.sort_values('x')\n",
        "df"
      ]
    },
    {
      "cell_type": "markdown",
      "metadata": {
        "id": "FZfKDj9OVWE0"
      },
      "source": [
        "Построим на одном графике исходные данные и теоретическую прямую, построенную по уравнению регрессии:"
      ]
    },
    {
      "cell_type": "code",
      "execution_count": null,
      "metadata": {
        "id": "V82ew1-jVWE3",
        "outputId": "502f7973-15c8-4689-8c23-a18a67df34ea"
      },
      "outputs": [
        {
          "data": {
            "image/png": "[encoded data removed]",
            "text/plain": [
              "<matplotlib.figure.Figure at 0xd59e7a6240>"
            ]
          },
          "metadata": {
            "tags": []
          },
          "output_type": "display_data"
        }
      ],
      "source": [
        "import matplotlib.pyplot as plt\n",
        "\n",
        "plt.scatter(df['x'], df['y'])\n",
        "plt.plot(df['x'], df['y_pred'])\n",
        "plt.xlabel('Площадь квартиры (кв. м.)')\n",
        "plt.ylabel('Цена квартиры (тыс. долларов.)')\n",
        "plt.show()"
      ]
    },
	{
      "cell_type": "markdown",
      "metadata": {
        "id": "mP4ncs2qYo5G"
      },
      "source": [
        "### Дисперсионный анализ. Факторный анализ. Логистическая регрессия"
      ]
    },
    {
      "cell_type": "markdown",
      "metadata": {
        "collapsed": true,
        "id": "z4odg-NJYo5I"
      },
      "source": [
        "#### Дисперсионный анализ"
      ]
    },
    {
      "cell_type": "markdown",
      "metadata": {
        "collapsed": true,
        "id": "tndzSTAlYo5L"
      },
      "source": [
        "##### Однофакторный дисперсионный анализ"
      ]
    },
    {
      "cell_type": "markdown",
      "metadata": {
        "collapsed": true,
        "id": "zqcKJYLxYo5N"
      },
      "source": [
        "В дисперсионном анализе исследуется влияние одного или нескольких качественных показателей на количественный показатель.\n",
        "\n",
        "В однофакторном дисперсионном анализе на одну количественную переменную $Y$ влияет один фактор (один качественный показатель), \n",
        "\n",
        "наблюдаемый на $k$ уровнях, то есть имеем $k$ выборок для переменной $Y$."
      ]
    },
    {
      "cell_type": "markdown",
      "metadata": {
        "collapsed": true,
        "id": "NaDcf63eYo5S"
      },
      "source": [
        "Наблюдаемые данные обозначим $y_{ij}$, где $i$ — индекс уровня ($i$ = 1, 2, ..., $k$), $j$ — индекс наблюдения на $i$-м уровне \n",
        "($j$ = 1, 2, ..., $n_{i}$)."
      ]
    },
    {
      "cell_type": "markdown",
      "metadata": {
        "id": "W0nXL-nAYo5Y"
      },
      "source": [
        "На каждом уровне может быть свое число наблюдений $n_{i}$. Общее число наблюдений — это сумма наблюдений на всех уровнях:"
      ]
    },
    {
      "cell_type": "markdown",
      "metadata": {
        "id": "AM--DeuuYo5b"
      },
      "source": [
        "$$n = \\sum\\limits_{i=1}^{k}n_i$$"
      ]
    },
    {
      "cell_type": "markdown",
      "metadata": {
        "id": "MqCAbsPXYo5i"
      },
      "source": [
        "По данным $y_{ij}$ определяется:"
      ]
    },
    {
      "cell_type": "markdown",
      "metadata": {
        "id": "WE2fSz5lYo5k"
      },
      "source": [
        "$\\overline{y}_{i}$ — среднее значение переменной Y на i-м уровне:"
      ]
    },
    {
      "cell_type": "markdown",
      "metadata": {
        "id": "XXLZhnYDYo5m"
      },
      "source": [
        "$$\\overline{y}_{i} = \\frac{1}{n_i}\\sum\\limits_{j=1}^{n_i}y_{ij}$$"
      ]
    },
    {
      "cell_type": "markdown",
      "metadata": {
        "id": "VWr_NWrzBkv7"
      },
      "source": []
    },
    {
      "cell_type": "markdown",
      "metadata": {
        "id": "fooBgcbIYo5p"
      },
      "source": [
        "$\\overline{Y}$ — среднее значение переменной **Y** по всем значениям:"
      ]
    },
    {
      "cell_type": "markdown",
      "metadata": {
        "id": "IfDm-PM6Yo5q"
      },
      "source": [
        "$$\\overline{Y} = \\frac{1}{n}\\sum\\limits_{i=1}^{k}\\sum\\limits_{j=1}^{n_i}y_{ij} = \\frac{1}{n}\\sum\\limits_{i=1}^{k}\\overline{y}_{i}n_{i}$$"
      ]
    },
    {
      "cell_type": "markdown",
      "metadata": {
        "id": "QccuMpGkYo5t"
      },
      "source": [
        "$S^2$ — сумма квадратов отклонений наблюдений от общего среднего:"
      ]
    },
    {
      "cell_type": "markdown",
      "metadata": {
        "id": "8d2MieJWYo5u"
      },
      "source": [
        "$$S^2 = \\sum\\limits_{i=1}^{k}\\sum\\limits_{j=1}^{n_i}({y}_{ij} - \\overline{Y})^2$$"
      ]
    },
    {
      "cell_type": "markdown",
      "metadata": {
        "id": "2Z5t5mZPYo5w"
      },
      "source": [
        "$S_F^2$ — сумма квадратов отклонений средних групповых значений от общего среднего значения $\\overline{Y}$:"
      ]
    },
    {
      "cell_type": "markdown",
      "metadata": {
        "id": "98w7-LmyYo5z"
      },
      "source": [
        "$$S_F^2 = \\sum\\limits_{i=1}^{k}(\\overline{y}_i - \\overline{Y})^2n_i$$"
      ]
    },
    {
      "cell_type": "markdown",
      "metadata": {
        "id": "spyO9Z-GYo50"
      },
      "source": [
        "$S_{ост}^2$ — остаточная сумма квадратов отклонений:"
      ]
    },
    {
      "cell_type": "markdown",
      "metadata": {
        "id": "v2bZ8BPXYo52"
      },
      "source": [
        "$$S_{ост}^{2} = \\sum\\limits_{i=1}^{k}\\sum\\limits_{j=1}^{n_i}(y_{ij} - \\overline{y}_i)^2$$"
      ]
    },
    {
      "cell_type": "markdown",
      "metadata": {
        "id": "CjaQibE7Yo54"
      },
      "source": [
        "Тогда сумма квадратов отклонений наблюдений от общего среднего дожна быть равна:"
      ]
    },
    {
      "cell_type": "markdown",
      "metadata": {
        "id": "dpALroqIYo56"
      },
      "source": [
        "$$S^2 = S_F^2 + S_{ост}^2$$"
      ]
    },
    {
      "cell_type": "markdown",
      "metadata": {
        "id": "DOa94RlQYo5-"
      },
      "source": [
        "Затем необходимо вычислить:"
      ]
    },
    {
      "cell_type": "markdown",
      "metadata": {
        "id": "9ydIbtDrYo6A"
      },
      "source": [
        "1) общую дисперсию:"
      ]
    },
    {
      "cell_type": "markdown",
      "metadata": {
        "id": "0cusjHApYo6D"
      },
      "source": [
        "$$\\sigma_{общ}^{2} = \\frac{S^2}{n - 1} = \\frac{1}{n-1}\\sum\\limits_{i=1}^{k}\\sum\\limits_{j=1}^{n_i}(y_{ij} - \\overline{Y})^2$$"
      ]
    },
    {
      "cell_type": "markdown",
      "metadata": {
        "id": "-fhQ4uEfYo6I"
      },
      "source": [
        "2) факторную дисперсию:"
      ]
    },
    {
      "cell_type": "markdown",
      "metadata": {
        "id": "AJguqUuTYo6J"
      },
      "source": [
        "$$\\sigma_{F}^{2} = \\frac{S_{F}^{2}}{k-1} = \\frac{1}{k-1}\\sum\\limits_{i=1}^{k}(\\overline{y}_i - \\overline{Y})^{2}n_i$$"
      ]
    },
    {
      "cell_type": "markdown",
      "metadata": {
        "id": "bycn4uCcYo6L"
      },
      "source": [
        "3) остаточную дисперсию:"
      ]
    },
    {
      "cell_type": "markdown",
      "metadata": {
        "id": "rjxquHv3Yo6O"
      },
      "source": [
        "$$\\sigma_{ост}^{2} = \\frac{S_{ост}^{2}}{n - k} = \\frac{1}{n - k}\\sum\\limits_{i=1}^{k}\\sum\\limits_{j=1}^{n_i}(y_{ij} - \\overline{y}_i)^2$$"
      ]
    },
    {
      "cell_type": "markdown",
      "metadata": {
        "id": "jr_Tpl8OYo6R"
      },
      "source": [
        "\n",
        "\n",
        "```\n",
        "# Выбран кодовый формат\n",
        "```\n",
        "\n",
        "В дисперсионном анализе проверяется гипотеза $H_0$ о равенстве средних групповых значений количественного показателя:"
      ]
    },
    {
      "cell_type": "markdown",
      "metadata": {
        "id": "_PH1EnAoYo6U"
      },
      "source": [
        "$$(H_0: \\overline{y}_1 = \\overline{y}_2 = ... = \\overline{y}_k).$$"
      ]
    },
    {
      "cell_type": "markdown",
      "metadata": {
        "id": "VJMVJVQCYo6W"
      },
      "source": [
        "Чтобы проверить эту гипотезу, необходимо воспользоваться соотношением:"
      ]
    },
    {
      "cell_type": "markdown",
      "metadata": {
        "id": "yyHcH5WtYo6Y"
      },
      "source": [
        "$$F_H = \\frac{\\sigma_{F}^{2}}{\\sigma_{ост}^{2}}$$"
      ]
    },
    {
      "cell_type": "markdown",
      "metadata": {
        "id": "SGWSpxMYYo6b"
      },
      "source": [
        "Если значение  $F_H$ превышает $F_{крит}$ из таблицы критических точек распределения Фишера-Снедекора для заданного уровня \n",
        "\n",
        "значимости $\\alpha$ двух степеней свободы $df_{межд} = k - 1$ (относится к числителю соотношения) и $df_{внутр} = n - k$ (относится к знаменателю), \n",
        "\n",
        "то выборки имеют разные средние значения."
      ]
    },
    {
      "cell_type": "markdown",
      "metadata": {
        "id": "cl4XaXzHYo6e"
      },
      "source": [
        "Таблицы Фишера-Снедекора можно найти по ссылкам:"
      ]
    },
    {
      "cell_type": "markdown",
      "metadata": {
        "id": "ZMf8cbNnYo6g"
      },
      "source": [
        "\n",
        "<a href = \"https://studfiles.net/preview/5520526/page:14/\">Критические точки распределения Фишера–Снедекора</a>\n",
        "        \n",
        "<a href = \"https://www.matburo.ru/tv/table_fisher.pdf\">Распределение Фишера–Снедекора (F-распределение)</a>"
      ]
    },
    {
      "cell_type": "markdown",
      "metadata": {
        "id": "yWZboagFYo6i"
      },
      "source": [
        "Еще одно соотношение:"
      ]
    },
    {
      "cell_type": "markdown",
      "metadata": {
        "id": "AYofexp6Yo6j"
      },
      "source": [
        "$$\\eta^{2} = \\frac{S_{F}^{2}}{S_{общ}^{2}}$$"
      ]
    },
    {
      "cell_type": "markdown",
      "metadata": {
        "id": "uz9W7GVeYo6m"
      },
      "source": [
        "Чем больше значение $\\eta^2$ (греч. «эта», обозначает эмпирическое корреляционное отношение, располагается между 0 и 1), тем больше\n",
        "\n",
        "вероятность, что выборки имеют разные средние значения. Принято считать, что при значениях $\\eta^2$ ниже 0.2-0.3 групповые значения\n",
        "\n",
        "средних не имеют статистически достоверного отличия."
      ]
    },
    {
      "cell_type": "markdown",
      "metadata": {
        "id": "ZQ3iGhjLYo6n"
      },
      "source": [
        "**Пример 1**"
      ]
    },
    {
      "cell_type": "markdown",
      "metadata": {
        "id": "B_Ag07g6Yo6p"
      },
      "source": [
        "Среди людей, проживающих в одном городе, выделены три группы по качественному признаку — профессии: бухгалтеры, юристы, \n",
        "\n",
        "программисты. \n",
        "\n",
        "Рассмотрим количественный признак — заработную плату (в тысячах рублей). Нужно установить, различаются ли средние \n",
        "\n",
        "зарплаты этих трех групп при уровне значимости $\\alpha$, равном 0.05. Количество человек в каждой группе: бухгалтеры — 5, юристы — 8, \n",
        "\n",
        "программисты — 7."
      ]
    },
    {
      "cell_type": "code",
      "execution_count": null,
      "metadata": {
        "id": "Og2fZ_bgYo6r"
      },
      "outputs": [],
      "source": [
        "import numpy as np"
      ]
    },
    {
      "cell_type": "code",
      "execution_count": null,
      "metadata": {
        "colab": {
          "base_uri": "https://localhost:8080/"
        },
        "id": "5fzwL1OBYo61",
        "outputId": "9e73fc53-3291-4a72-fc2c-0df8376d491e"
      },
      "outputs": [
        {
          "name": "stdout",
          "output_type": "stream",
          "text": [
            "20\n"
          ]
        }
      ],
      "source": [
        "n1 = 5\n",
        "n2 = 8\n",
        "n3 = 7\n",
        "n = n1 + n2 + n3\n",
        "print(n)"
      ]
    },
    {
      "cell_type": "markdown",
      "metadata": {
        "id": "FJjbiTsqYo7E"
      },
      "source": [
        "Всего три группы:"
      ]
    },
    {
      "cell_type": "code",
      "execution_count": null,
      "metadata": {
        "id": "sz67ojVvYo7F"
      },
      "outputs": [],
      "source": [
        "k = 3"
      ]
    },
    {
      "cell_type": "markdown",
      "metadata": {
        "id": "O294_P_HYo7N"
      },
      "source": [
        "Зарплаты бухгалтеров:"
      ]
    },
    {
      "cell_type": "code",
      "execution_count": null,
      "metadata": {
        "id": "XGE3QYnBYo7O"
      },
      "outputs": [],
      "source": [
        "y1 = np.array([70, 50, 65, 60, 75], dtype=np.float64)"
      ]
    },
    {
      "cell_type": "markdown",
      "metadata": {
        "id": "NXP5moMcYo7V"
      },
      "source": [
        "Зарплаты юристов:"
      ]
    },
    {
      "cell_type": "code",
      "execution_count": null,
      "metadata": {
        "id": "0vdLkJVXYo7X"
      },
      "outputs": [],
      "source": [
        "y2 = np.array([80, 75, 90, 70, 75, 65, 85, 100], dtype=np.float64)"
      ]
    },
    {
      "cell_type": "markdown",
      "metadata": {
        "id": "MGaphYCCYo7j"
      },
      "source": [
        "Зарплаты программистов:"
      ]
    },
    {
      "cell_type": "code",
      "execution_count": null,
      "metadata": {
        "id": "N0ll1RXdYo7k"
      },
      "outputs": [],
      "source": [
        "y3 = np.array([130, 100, 140, 150, 160, 170, 200], dtype=np.float64)"
      ]
    },
    {
      "cell_type": "markdown",
      "metadata": {
        "collapsed": true,
        "id": "ckgMBMwlYo7r"
      },
      "source": [
        "Проведем однофакторный дисперсионный анализ. Сначала найдем средние зарплаты для каждой профессии:"
      ]
    },
    {
      "cell_type": "code",
      "execution_count": null,
      "metadata": {
        "colab": {
          "base_uri": "https://localhost:8080/"
        },
        "id": "ZN6FRDI8Yo7s",
        "outputId": "b3b9dd44-2227-47bc-d519-399484efe027"
      },
      "outputs": [
        {
          "name": "stdout",
          "output_type": "stream",
          "text": [
            "64.0\n"
          ]
        }
      ],
      "source": [
        "y1_mean = np.mean(y1)\n",
        "print(y1_mean)"
      ]
    },
    {
      "cell_type": "code",
      "execution_count": null,
      "metadata": {
        "colab": {
          "base_uri": "https://localhost:8080/"
        },
        "id": "8NIWa2kYYo73",
        "outputId": "51fed228-f003-4118-c9bb-3d379fcb9c2f"
      },
      "outputs": [
        {
          "name": "stdout",
          "output_type": "stream",
          "text": [
            "80.0\n"
          ]
        }
      ],
      "source": [
        "y2_mean = np.mean(y2)\n",
        "print(y2_mean)"
      ]
    },
    {
      "cell_type": "code",
      "execution_count": null,
      "metadata": {
        "colab": {
          "base_uri": "https://localhost:8080/"
        },
        "id": "w3iuWoo8Yo7_",
        "outputId": "0afc918a-9507-45b5-b769-1a15f8b6f9e3"
      },
      "outputs": [
        {
          "name": "stdout",
          "output_type": "stream",
          "text": [
            "150.0\n"
          ]
        }
      ],
      "source": [
        "y3_mean = np.mean(y3)\n",
        "print(y3_mean)"
      ]
    },
    {
      "cell_type": "markdown",
      "metadata": {
        "id": "Vptu9qE8Yo8H"
      },
      "source": [
        "Видно, что средние зарплаты разнятся. Установим, что это отличие статистически значимо. Для этого сначала соберем \n",
        "\n",
        "все значения заработных плат в один массив:"
      ]
    },
    {
      "cell_type": "code",
      "execution_count": null,
      "metadata": {
        "colab": {
          "base_uri": "https://localhost:8080/"
        },
        "id": "XUIg7A9IYo8K",
        "outputId": "40cf8efe-8d54-47f4-b364-d8509fe011b3"
      },
      "outputs": [
        {
          "data": {
            "text/plain": [
              "array([ 70.,  50.,  65.,  60.,  75.,  80.,  75.,  90.,  70.,  75.,  65.,\n",
              "        85., 100., 130., 100., 140., 150., 160., 170., 200.])"
            ]
          },
          "execution_count": 12,
          "metadata": {
            "tags": []
          },
          "output_type": "execute_result"
        }
      ],
      "source": [
        "y_all = np.concatenate([y1, y2, y3])\n",
        "y_all"
      ]
    },
    {
      "cell_type": "markdown",
      "metadata": {
        "id": "FDrC2EgCYo8R"
      },
      "source": [
        "Найдем среднее значение заработной платы по всем значениям:"
      ]
    },
    {
      "cell_type": "code",
      "execution_count": null,
      "metadata": {
        "colab": {
          "base_uri": "https://localhost:8080/"
        },
        "id": "LrmBsYWlYo8U",
        "outputId": "223661f7-7ce3-4eb9-90c3-61d9f0aec465"
      },
      "outputs": [
        {
          "name": "stdout",
          "output_type": "stream",
          "text": [
            "100.5\n"
          ]
        }
      ],
      "source": [
        "y_mean = np.mean(y_all)\n",
        "print(y_mean)"
      ]
    },
    {
      "cell_type": "markdown",
      "metadata": {
        "id": "WIgxrxamYo8e"
      },
      "source": [
        "Найдем $S^2$ — сумму квадратов отклонений наблюдений от общего среднего:"
      ]
    },
    {
      "cell_type": "code",
      "execution_count": null,
      "metadata": {
        "colab": {
          "base_uri": "https://localhost:8080/"
        },
        "id": "g49G26gmYo8h",
        "outputId": "a7a4e288-318c-442d-b55e-9d06636879b0"
      },
      "outputs": [
        {
          "data": {
            "text/plain": [
              "34445.0"
            ]
          },
          "execution_count": 14,
          "metadata": {
            "tags": []
          },
          "output_type": "execute_result"
        }
      ],
      "source": [
        "s2 = np.sum((y_all - y_mean)**2)\n",
        "s2"
      ]
    },
    {
      "cell_type": "markdown",
      "metadata": {
        "id": "4pbrI3QEYo8t"
      },
      "source": [
        "Найдем $S^2_F$ - сумму квадратов отклонений средних групповых значений от общего среднего:"
      ]
    },
    {
      "cell_type": "code",
      "execution_count": null,
      "metadata": {
        "colab": {
          "base_uri": "https://localhost:8080/"
        },
        "id": "K0nyMwvGYo8w",
        "outputId": "a1a4d4f1-8d03-45e9-b5e0-7a3988f4f4bc"
      },
      "outputs": [
        {
          "data": {
            "text/plain": [
              "27175.0"
            ]
          },
          "execution_count": 15,
          "metadata": {
            "tags": []
          },
          "output_type": "execute_result"
        }
      ],
      "source": [
        "s2_f = ((y1_mean - y_mean)**2) * n1 + ((y2_mean - y_mean)**2) * n2 + ((y3_mean - y_mean)**2) * n3\n",
        "s2_f"
      ]
    },
    {
      "cell_type": "markdown",
      "metadata": {
        "id": "6Y3bn04xYo87"
      },
      "source": [
        "Найдем $S^2_{ост}$ — остаточную сумму квадратов отклонений:"
      ]
    },
    {
      "cell_type": "markdown",
      "metadata": {
        "id": "r_o1uLOYYo9F"
      },
      "source": [
        "Удостоверимся, что соблюдается равенство $S^2 = S_F^2 + S_{ост}^2$:"
      ]
    },
    {
      "cell_type": "code",
      "execution_count": null,
      "metadata": {
        "colab": {
          "base_uri": "https://localhost:8080/",
          "height": 191
        },
        "id": "s4om9JoYYo9H",
        "outputId": "8fbf5c92-6806-4d75-a171-e3bd96674016"
      },
      "outputs": [
        {
          "name": "stdout",
          "output_type": "stream",
          "text": [
            "34445.0\n"
          ]
        },
        {
          "ename": "NameError",
          "evalue": "ignored",
          "output_type": "error",
          "traceback": [
            "\u001b[0;31m---------------------------------------------------------------------------\u001b[0m",
            "\u001b[0;31mNameError\u001b[0m                                 Traceback (most recent call last)",
            "\u001b[0;32m<ipython-input-17-3176248d1c08>\u001b[0m in \u001b[0;36m<module>\u001b[0;34m()\u001b[0m\n\u001b[1;32m      1\u001b[0m \u001b[0mprint\u001b[0m\u001b[0;34m(\u001b[0m\u001b[0ms2\u001b[0m\u001b[0;34m)\u001b[0m\u001b[0;34m\u001b[0m\u001b[0;34m\u001b[0m\u001b[0m\n\u001b[0;32m----> 2\u001b[0;31m \u001b[0mprint\u001b[0m\u001b[0;34m(\u001b[0m\u001b[0ms2_f\u001b[0m \u001b[0;34m+\u001b[0m \u001b[0ms2_residual\u001b[0m\u001b[0;34m)\u001b[0m\u001b[0;34m\u001b[0m\u001b[0;34m\u001b[0m\u001b[0m\n\u001b[0m",
            "\u001b[0;31mNameError\u001b[0m: name 's2_residual' is not defined"
          ]
        }
      ],
      "source": [
        "print(s2)\n",
        "print(s2_f + s2_residual)"
      ]
    },
    {
      "cell_type": "markdown",
      "metadata": {
        "id": "0CSn3JPbYo9N"
      },
      "source": [
        "Найдем общую дисперсию:"
      ]
    },
    {
      "cell_type": "code",
      "execution_count": null,
      "metadata": {
        "colab": {
          "base_uri": "https://localhost:8080/"
        },
        "id": "poku5it4Yo9O",
        "outputId": "9f02a8ce-4658-4d3e-b097-4b5da967120e"
      },
      "outputs": [
        {
          "data": {
            "text/plain": [
              "1812.8947368421052"
            ]
          },
          "execution_count": 18,
          "metadata": {
            "tags": []
          },
          "output_type": "execute_result"
        }
      ],
      "source": [
        "sigma2_general = s2 / (n - 1)\n",
        "sigma2_general"
      ]
    },
    {
      "cell_type": "markdown",
      "metadata": {
        "id": "GpuU4kg0Yo9W"
      },
      "source": [
        "Найдем факторную дисперсию:"
      ]
    },
    {
      "cell_type": "code",
      "execution_count": null,
      "metadata": {
        "colab": {
          "base_uri": "https://localhost:8080/"
        },
        "id": "LDEml9L-Yo9Z",
        "outputId": "8693d32e-5cea-40de-b41f-760ee87f44ad"
      },
      "outputs": [
        {
          "data": {
            "text/plain": [
              "13587.5"
            ]
          },
          "execution_count": 19,
          "metadata": {
            "tags": []
          },
          "output_type": "execute_result"
        }
      ],
      "source": [
        "sigma2_f = s2_f / (k - 1)\n",
        "sigma2_f"
      ]
    },
    {
      "cell_type": "markdown",
      "metadata": {
        "id": "G5vpR7jyYo9j"
      },
      "source": [
        "Найдем остаточную дисперсию:"
      ]
    },
    {
      "cell_type": "code",
      "execution_count": null,
      "metadata": {
        "colab": {
          "base_uri": "https://localhost:8080/",
          "height": 175
        },
        "id": "KeWVYYHfYo9r",
        "outputId": "6d4fb00b-2af1-4fe4-9f9d-b87f96fd9798"
      },
      "outputs": [
        {
          "ename": "NameError",
          "evalue": "ignored",
          "output_type": "error",
          "traceback": [
            "\u001b[0;31m---------------------------------------------------------------------------\u001b[0m",
            "\u001b[0;31mNameError\u001b[0m                                 Traceback (most recent call last)",
            "\u001b[0;32m<ipython-input-20-09342b1e9995>\u001b[0m in \u001b[0;36m<module>\u001b[0;34m()\u001b[0m\n\u001b[0;32m----> 1\u001b[0;31m \u001b[0msigma2_residual\u001b[0m \u001b[0;34m=\u001b[0m \u001b[0ms2_residual\u001b[0m \u001b[0;34m/\u001b[0m \u001b[0;34m(\u001b[0m\u001b[0mn\u001b[0m \u001b[0;34m-\u001b[0m \u001b[0mk\u001b[0m\u001b[0;34m)\u001b[0m\u001b[0;34m\u001b[0m\u001b[0;34m\u001b[0m\u001b[0m\n\u001b[0m\u001b[1;32m      2\u001b[0m \u001b[0msigma2_residual\u001b[0m\u001b[0;34m\u001b[0m\u001b[0;34m\u001b[0m\u001b[0m\n",
            "\u001b[0;31mNameError\u001b[0m: name 's2_residual' is not defined"
          ]
        }
      ],
      "source": [
        "sigma2_residual = s2_residual / (n - k)\n",
        "sigma2_residual"
      ]
    },
    {
      "cell_type": "markdown",
      "metadata": {
        "id": "uQirLWssYo9x"
      },
      "source": [
        "Вычислим $F_H$:"
      ]
    },
    {
      "cell_type": "code",
      "execution_count": null,
      "metadata": {
        "colab": {
          "base_uri": "https://localhost:8080/",
          "height": 175
        },
        "id": "W9QELM6VYo91",
        "outputId": "bc4c3361-2da9-4a0d-cc98-b160caed7861"
      },
      "outputs": [
        {
          "ename": "NameError",
          "evalue": "ignored",
          "output_type": "error",
          "traceback": [
            "\u001b[0;31m---------------------------------------------------------------------------\u001b[0m",
            "\u001b[0;31mNameError\u001b[0m                                 Traceback (most recent call last)",
            "\u001b[0;32m<ipython-input-21-6ebe3e856749>\u001b[0m in \u001b[0;36m<module>\u001b[0;34m()\u001b[0m\n\u001b[0;32m----> 1\u001b[0;31m \u001b[0mF_h\u001b[0m \u001b[0;34m=\u001b[0m \u001b[0msigma2_f\u001b[0m \u001b[0;34m/\u001b[0m \u001b[0msigma2_residual\u001b[0m\u001b[0;34m\u001b[0m\u001b[0;34m\u001b[0m\u001b[0m\n\u001b[0m\u001b[1;32m      2\u001b[0m \u001b[0mF_h\u001b[0m\u001b[0;34m\u001b[0m\u001b[0;34m\u001b[0m\u001b[0m\n",
            "\u001b[0;31mNameError\u001b[0m: name 'sigma2_residual' is not defined"
          ]
        }
      ],
      "source": [
        "F_h = sigma2_f / sigma2_residual\n",
        "F_h"
      ]
    },
    {
      "cell_type": "markdown",
      "metadata": {
        "id": "7pw0jHLlYo9-"
      },
      "source": [
        "Найдем значение $F_{крит}$ в таблице критических точек распределения Фишера-Снедекора для заданного уровня значимости $\\alpha = 0.05$ и двух степеней свободы: \n",
        "\n",
        "$df_{межд} = k - 1 = 3 - 1 = 2$ и $df_{внутр} = n - k = 20 - 3 = 17$."
      ]
    },
    {
      "cell_type": "markdown",
      "metadata": {
        "id": "WPLuwwbyYo9_"
      },
      "source": [
        "Для данных значений $F_{крит} = 3.59$. Так как $F_H > F_{крит}$, различие средних зарплат в трех группах статистически значимо."
      ]
    },
    {
      "cell_type": "markdown",
      "metadata": {
        "id": "gIRQ9JRKYo-B"
      },
      "source": [
        "Также вычислим эмпирическое корреляционное отношение $\\eta^2$:\n",
        "\n",
        "> Блок с отступами\n",
        "\n"
      ]
    },
    {
      "cell_type": "code",
      "execution_count": null,
      "metadata": {
        "colab": {
          "base_uri": "https://localhost:8080/"
        },
        "id": "jb2skTGMYo-D",
        "outputId": "5c6bf587-f847-4c47-be89-3c33656b610f"
      },
      "outputs": [
        {
          "data": {
            "text/plain": [
              "0.7889388880824503"
            ]
          },
          "execution_count": 22,
          "metadata": {
            "tags": []
          },
          "output_type": "execute_result"
        }
      ],
      "source": [
        "eta2 = s2_f / s2\n",
        "eta2"
      ]
    },
    {
      "cell_type": "markdown",
      "metadata": {
        "id": "M2g7FJjJYo-M"
      },
      "source": [
        "Значение $\\eta^2$ близко к 1 — значит,  различие средних зарплат в трех группах является статистически значимым."
      ]
    },
    {
      "cell_type": "markdown",
      "metadata": {
        "id": "zyWIjbTvYo-O"
      },
      "source": [
        "##### Двухфакторный дисперсионный анализ"
      ]
    },
    {
      "cell_type": "markdown",
      "metadata": {
        "id": "VgPWRCiyYo-T"
      },
      "source": [
        "В таблице представлены расчетные формулы для двухфакторного  \n",
        "дисперсионного анализа с однократными наблюдениями."
      ]
    },
    {
      "cell_type": "markdown",
      "metadata": {
        "id": "2AdPpT4_Yo-V"
      },
      "source": [
        "<img src='https://ru.files.fm/thumb_show.php?i=vppqqgpj&view' width=650>Таблица 1. Формулы для двухфакторного дисперсионного анализа с однократными наблюдениями</img>"
      ]
    },
    {
      "cell_type": "markdown",
      "metadata": {
        "id": "FINvfH-TYo-X"
      },
      "source": [
        "#### Факторный анализ"
      ]
    },
    {
      "cell_type": "markdown",
      "metadata": {
        "id": "vw5yBA8-Yo-a"
      },
      "source": [
        "Факторный анализ (ФА) — это способ приведения (синтеза) множества непосредственно наблюдаемых показателей  \n",
        "\n",
        "$X_j = \\{x_{ij}\\}$, $(i = 1, 2, ..., n;\\:j = 1, 2, ..., m)$ к меньшему числу **Q < m** новых линейно независимых факторов \n",
        "\n",
        "(признаков, показателей) $Y_q$, ($q$ = 1, 2, ..., $Q$)."
      ]
    },
    {
      "cell_type": "markdown",
      "metadata": {
        "id": "-Zpz-C0ZYo-b"
      },
      "source": [
        "Предположим, что исходные данные представлены в виде матрицы  $X = \\{x_{ij}\\}$, $(i = 1, 2, ..., n;\\:j = 1, 2, ..., m)$, \n",
        "\n",
        "где $n$ — количество наблюдений, $m$ — показателей."
      ]
    },
    {
      "cell_type": "markdown",
      "metadata": {
        "id": "ASroxCLrYo-d"
      },
      "source": [
        "Зная, что величины $X_j$ могут иметь различный физический смысл и шкалы измерений, для удобства лучше \n",
        "\n",
        "перейти к стандартизированной матрице исходных данных  $X^{*} = \\{x_{ij}^{*}\\}$."
      ]
    },
    {
      "cell_type": "markdown",
      "metadata": {
        "id": "c72EHzv1Yo-d"
      },
      "source": [
        "Здесь каждый показатель $X_j^{*}$ имеет среднее значение, равное 0, и единичную дисперсию. Считается, что в факторном анализе \n",
        "\n",
        "линейная связь между измеряемыми показателями и факторами:"
      ]
    },
    {
      "cell_type": "markdown",
      "metadata": {
        "id": "BMrusEDAYo-f"
      },
      "source": [
        "$$X_{j}^{*} = \\sum\\limits_{q=1}^{Q}a_{jq}Y_q + U_j,\\;\\sum\\limits_{j=1}^{m}a_{jq}^{2} = 1, \\;q = 1, 2, ..., m,$$"
      ]
    },
    {
      "cell_type": "markdown",
      "metadata": {
        "id": "kqBbuSDiYo-g"
      },
      "source": [
        "где $a_{jq}$ — подлежащиe определению коэффициенты."
      ]
    },
    {
      "cell_type": "markdown",
      "metadata": {
        "id": "Ssf_xsU9Yo-i"
      },
      "source": [
        "Справедливо соотношение:"
      ]
    },
    {
      "cell_type": "markdown",
      "metadata": {
        "id": "guo16URbYo-j"
      },
      "source": [
        "$$\\sigma_{j}^{2} = \\sum\\limits_{q=1}^{Q}a_{jq}^{2} + U_{j}^{2} = h^2 + U_{j}^{2} = 1,$$"
      ]
    },
    {
      "cell_type": "markdown",
      "metadata": {
        "id": "aXnuXodwYo-l"
      },
      "source": [
        "где $h^2$, $U_j^2$ — соответственно общность и специфичность **j**-го показателя."
      ]
    },
    {
      "cell_type": "markdown",
      "metadata": {
        "id": "OEgcLY_tYo-n"
      },
      "source": [
        "Данное равенство выполняется, если переменные стандартизированы, не коррелированы и для исследования используется линейная \n",
        "\n",
        "модель. Оценка $h_j^2$ определяется до выделения факторов, и это первая проблема.\n",
        "\n",
        "Вторая состоит в том, что сложно определить количество факторов и вид осей координат, используемых для отображения $m$ \n",
        "\n",
        "переменных. Применяются модели центроидных компонент, главных компонент и факторная модель."
      ]
    },
    {
      "cell_type": "markdown",
      "metadata": {
        "id": "qOuTNlFEYo-p"
      },
      "source": [
        "Если возникают проблемы с факторами, необходимо ввести ограничения, чтобы однозначно определить систему \n",
        "\n",
        "равенств $R = A\\cdot{A^T} + U^2$, где $A^T$ — транспонированная матрица факторных нагрузок."
      ]
    },
    {
      "cell_type": "markdown",
      "metadata": {
        "id": "LKQ16HRtYo-r"
      },
      "source": [
        "Процедура выделения факторов имеет бесконечно много эквивалентных решений, удовлетворяющие равенству  $R^h = A\\cdot{A^T}$."
      ]
    },
    {
      "cell_type": "markdown",
      "metadata": {
        "id": "tTm5s9z5Yo-t"
      },
      "source": [
        "Чтобы решить проблему с вращением, необходимо в уже установленном нами пространстве общих факторов определить \n",
        "\n",
        "для каждой переменной наиболее простое факторное объяснение (максимальные нагрузки для одних факторов, минимальные для других)."
      ]
    },
    {
      "cell_type": "markdown",
      "metadata": {
        "id": "l95GJqy2Yo-t"
      },
      "source": [
        "Конечный результат факторного анализа — получение содержательно интерпретируемых факторов, которые воспроизводят \n",
        "\n",
        "матрицу коэффициентов корреляции между переменными. Для отдельного наблюдения (объекта) имеем:"
      ]
    },
    {
      "cell_type": "markdown",
      "metadata": {
        "id": "ItgCDWt_Yo-w"
      },
      "source": [
        "$$x_{ij}^{*} = \\sum\\limits_{q=1}^{Q}a_{jq}y_{iq} + U_j, \\: i = \\overline{1, n}; \\: j = \\overline{1, m}.$$"
      ]
    },
    {
      "cell_type": "markdown",
      "metadata": {
        "id": "w12R3gLDYo-y"
      },
      "source": [
        "Здесь $y_{iq}$ — значение фактора **q** у **i**-го объекта. Измеряем факторы исходя из равенства:"
      ]
    },
    {
      "cell_type": "markdown",
      "metadata": {
        "id": "moqJ8VrrYo-z"
      },
      "source": [
        "$$Y = A^{T}X, \\; y_{iq} = \\sum\\limits_{j=1}^{m}a_{jq}x_{ij}; \\; i = \\overline{1, n}, \\; q = \\overline{1, m}.$$"
      ]
    },
    {
      "cell_type": "markdown",
      "metadata": {
        "id": "-DKDebq6Yo-1"
      },
      "source": [
        "##### Логистическая регрессия"
      ]
    },
    {
      "cell_type": "markdown",
      "metadata": {
        "id": "gbv67jErYo-2"
      },
      "source": [
        "Пусть $Y_i$ указывает на значение переменной $Y, i = 1, ..., n$, где $n$ — количество выбирающих, и на значения $X_i = (x_{il}, ..., x_{jk})$ факторов, \n",
        "\n",
        "характеризующих выбор и выбирающего. Рассмотрим модель линейной вероятности:"
      ]
    },
    {
      "cell_type": "markdown",
      "metadata": {
        "id": "kWI3J86wYo-5"
      },
      "source": [
        "где $\\beta$ — вектор коэффициентов регрессии, $\\varepsilon_{i}$ — независимо распределенная случайная величина с нулевым математическим ожиданием \n",
        "\n",
        "(в дальнейшем — случайная ошибка). Из предположения о нулевом математическом ожидании случайной ошибки следует, что она \n",
        "\n",
        "принимает только дискретные значения. Поскольку $Y_i$ принимает только два значения, очевидно, что:"
      ]
    },
    {
      "cell_type": "markdown",
      "metadata": {
        "id": "d4RIIwScYo-7"
      },
      "source": [
        "$$E(Y_i) = 1 \\cdot {P(Y_i=1)} + 0 \\cdot {P(Y_i = 0)} = P(Y_i = 1) = F(X_i \\beta^T)$$"
      ]
    },
    {
      "cell_type": "markdown",
      "metadata": {
        "id": "FVrxu16AYo-8"
      },
      "source": [
        "Модель может быть записана в виде:"
      ]
    },
    {
      "cell_type": "markdown",
      "metadata": {
        "id": "k43MnVuRYo-9"
      },
      "source": [
        "$$P(Y_i=1) = F(X_i \\beta^T) = X_i \\beta^T$$"
      ]
    },
    {
      "cell_type": "markdown",
      "metadata": {
        "id": "LP-w8lK7Yo_H"
      },
      "source": [
        "Модель бинарного выбора, основанная на использовании функции распределения $F(z)$, область значений которой лежит в отрезке $[0, 1]$, имеет вид:"
      ]
    },
    {
      "cell_type": "markdown",
      "metadata": {
        "id": "ZrMXSGHvYo_I"
      },
      "source": [
        "$$P_i = F(X_i \\beta^T)$$"
      ]
    },
    {
      "cell_type": "markdown",
      "metadata": {
        "id": "Ypo0h2AeYo_K"
      },
      "source": [
        "Функцию логистического распределения"
      ]
    },
    {
      "cell_type": "markdown",
      "metadata": {
        "id": "cYTLVweKYo_b"
      },
      "source": [
        "$$F(X_i \\beta^T) = \\frac{e^{X_i \\beta^T}}{1 + e^{X_i \\beta^T}} = \\frac{1}{1 + e^{-X_i \\beta^T}} = \\Lambda(X_i \\beta^T)$$"
      ]
    },
    {
      "cell_type": "markdown",
      "metadata": {
        "id": "QOWr0b45Yo_c"
      },
      "source": [
        "называют logit-моделью."
      ]
    }
 ],
 "metadata": {
  "colab": {
   "collapsed_sections": [
    "sZKDq8ZWsFJ2",
    "dWGTf84XsFKA",
    "7euBINZMsFKw"
   ],
   "name": "Матстат - Урок 1.ipynb",
   "provenance": []
  },
  "kernelspec": {
   "display_name": "Python 3",
   "language": "python",
   "name": "python3"
  },
  "language_info": {
   "codemirror_mode": {
    "name": "ipython",
    "version": 3
   },
   "file_extension": ".py",
   "mimetype": "text/x-python",
   "name": "python",
   "nbconvert_exporter": "python",
   "pygments_lexer": "ipython3",
   "version": "3.8.5"
  }
 },
 "nbformat": 4,
 "nbformat_minor": 1
}
