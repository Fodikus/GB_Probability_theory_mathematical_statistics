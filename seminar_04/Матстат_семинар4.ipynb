{
 "cells": [
  {
   "cell_type": "markdown",
   "metadata": {},
   "source": [
    "В модуле `scipy.stats` есть готовые функции распределения и плотности для многих известных распределений.\n",
    "\n",
    "### `scipy.stats`\n",
    "\n",
    "В модуле `scipy.stats` содержатся реализации основных функций для различных распределений:\n",
    "* `binom` — биномиальное,\n",
    "* `poisson` — Пуассоновское,\n",
    "* `geom` — геометрическое,\n",
    "* `norm` — нормальное,\n",
    "* `uniform` — непрерывное равномерное,\n",
    "\n",
    "и др. \n",
    "\n",
    "Доступные функции:\n",
    "* `pmf` — закон распределения для дискретных величин,\n",
    "* `pdf` — функция плотности для непрерывных величин,\n",
    "* `cdf` — функция распределения,\n",
    "* `ppf` — квантильная функция (обратная к функции распределения).\n",
    "\n",
    "и др. Например, с помощью этого модуля можно получить значения функции нормального распределения, которая не вычисляется аналитически и доступна лишь численно."
   ]
  },
  {
   "cell_type": "code",
   "execution_count": 2,
   "metadata": {},
   "outputs": [],
   "source": [
    "from scipy import stats"
   ]
  },
  {
   "cell_type": "code",
   "execution_count": 6,
   "metadata": {},
   "outputs": [
    {
     "data": {
      "text/plain": [
       "0.9044192954543706"
      ]
     },
     "execution_count": 6,
     "metadata": {},
     "output_type": "execute_result"
    }
   ],
   "source": [
    "stats.norm.cdf(55, loc=50, scale=3) - stats.norm.cdf(45, loc=50, scale=3)"
   ]
  },
  {
   "cell_type": "code",
   "execution_count": 4,
   "metadata": {},
   "outputs": [
    {
     "data": {
      "text/plain": [
       "0.021009428839842772"
      ]
     },
     "execution_count": 4,
     "metadata": {},
     "output_type": "execute_result"
    }
   ],
   "source": [
    "# лекция (пример)\n",
    "stats.norm.cdf(3.78, loc=5, scale=0.6)"
   ]
  }
 ],
 "metadata": {
  "kernelspec": {
   "display_name": "Python 3 (ipykernel)",
   "language": "python",
   "name": "python3"
  },
  "language_info": {
   "codemirror_mode": {
    "name": "ipython",
    "version": 3
   },
   "file_extension": ".py",
   "mimetype": "text/x-python",
   "name": "python",
   "nbconvert_exporter": "python",
   "pygments_lexer": "ipython3",
   "version": "3.9.13"
  }
 },
 "nbformat": 4,
 "nbformat_minor": 2
}